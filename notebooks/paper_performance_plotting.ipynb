{
 "cells": [
  {
   "cell_type": "code",
   "execution_count": null,
   "id": "ee6e0358-cb31-4667-88b2-2a4b38895f4a",
   "metadata": {},
   "outputs": [],
   "source": [
    "import os\n",
    "import tqdm\n",
    "import glob\n",
    "import numpy as np\n",
    "import mplhep as hep\n",
    "import awkward as ak\n",
    "import boost_histogram as bh\n",
    "import matplotlib.pyplot as plt\n",
    "from enreg.tools.models import HPS\n",
    "from enreg.tools import general as g\n",
    "from enreg.tools.metrics import regression_evaluator as re\n",
    "from hydra import compose, initialize\n",
    "from omegaconf import OmegaConf\n",
    "\n",
    "with initialize(version_base=None, config_path=\"../enreg/config/\", job_name=\"test_app\"):\n",
    "    cfg = compose(config_name=\"benchmarking\")\n",
    "\n",
    "hep.style.use(hep.styles.CMS)"
   ]
  },
  {
   "cell_type": "code",
   "execution_count": null,
   "id": "e5fd4803-2708-4bb7-bf09-fd612c0f0159",
   "metadata": {},
   "outputs": [],
   "source": [
    "os.path.isdir(\"/home/laurits//home/laurits/HPS_recoCut0_ntuples/Z\")"
   ]
  },
  {
   "cell_type": "code",
   "execution_count": null,
   "id": "51f20c85-0917-41fb-b34f-018f5142bbfd",
   "metadata": {},
   "outputs": [],
   "source": [
    "# Merge sample_files:\n",
    "SAMPLE_DIR = {\n",
    "    \"z\": \"/home/laurits/HPS_recoCut0_ntuples/Z\",\n",
    "    \"zh\": \"/home/laurits/HPS_recoCut0_ntuples/ZH\",\n",
    "    # \"qq\": \"/home/laurits/HPS_recoCut0_ntuples/QQ\"\n",
    "}\n",
    "\n",
    "MERGED_OUTPUT_DIR = \"/home/laurits/HPS_recoCut0_ntuples\"\n",
    "BASE_NTUPLE_DIR = \"/home/laurits/ntuples/20240924_lowered_recoPtCut\"\n",
    "\n",
    "\n",
    "def merge_sample_files(sample_dirs, sample, output_dir):\n",
    "    sample_dir = sample_dirs[sample]\n",
    "    print(sample_dir)\n",
    "    data = g.load_all_data(sample_dir)\n",
    "    output_path = os.path.join(output_dir, f\"{sample}.parquet\")\n",
    "    ak.to_parquet(data, output_path, row_group_size=1024)\n",
    "\n",
    "        \n",
    "def create_reco_entries(base_dir, sample, output_dir):\n",
    "    sample_wcp = os.path.join(base_dir, f\"{sample}*.parquet\")\n",
    "    data = []\n",
    "    for path in tqdm.tqdm(glob.glob(sample_wcp)):\n",
    "        d = ak.from_parquet(path, columns=['reco_jet_p4s', \"gen_jet_tau_p4s\"])\n",
    "        d = ak.Array({k: d[k] for k in d.fields})\n",
    "        data.append(d)\n",
    "    data = ak.concatenate(data)\n",
    "    data_to_save = {\n",
    "        \"reco_jet_pt\": g.reinitialize_p4(data.reco_jet_p4s).pt,\n",
    "        \"gen_tau_pt\": g.reinitialize_p4(data.gen_jet_tau_p4s).pt\n",
    "    }\n",
    "    output_dir = os.path.join(output_dir, \"recoJet\")\n",
    "    os.makedirs(output_dir, exist_ok=True)\n",
    "    output_path = os.path.join(output_dir, f\"{sample}.parquet\")\n",
    "    print(f\"Saving to {output_path}\")\n",
    "    ak.to_parquet(ak.Record(data_to_save), output_path, row_group_size=1024)\n",
    "\n",
    "\n",
    "for sample in SAMPLE_DIR.keys():\n",
    "    merge_sample_files(SAMPLE_DIR, sample, MERGED_OUTPUT_DIR)\n",
    "\n",
    "# for sample in SAMPLE_DIR.keys():\n",
    "#     create_reco_entries(BASE_NTUPLE_DIR, sample, MERGED_OUTPUT_DIR)"
   ]
  },
  {
   "cell_type": "code",
   "execution_count": null,
   "id": "2eb5ae4a-40d4-4859-b091-c07fd7a926f6",
   "metadata": {},
   "outputs": [],
   "source": [
    "PT_data = g.load_all_data(\"/home/laurits/ml-tau-en-reg/training-outputs/20240921_recoPtCut_removed_samples/v1/jet_regression/ParticleTransformer/zh_test.parquet\")\n",
    "LN_data = g.load_all_data(\"/home/laurits/ml-tau-en-reg/training-outputs/20240921_recoPtCut_removed_samples/v1/jet_regression/LorentzNet/zh_test.parquet\")\n",
    "DS_data = g.load_all_data(\"/home/laurits/ml-tau-en-reg/training-outputs/20240921_recoPtCut_removed_samples/v1/jet_regression/DeepSet/zh_test.parquet\")\n",
    "hps_data = g.load_all_data(\"/home/laurits/HPS_recoCut0_ntuples/zh.parquet\")\n",
    "recoJet_data = g.load_all_data(\"/home/laurits/ntuples/20240924_lowered_recoPtCut/recoJet/zh.parquet\")"
   ]
  },
  {
   "cell_type": "code",
   "execution_count": null,
   "id": "68a461e5-cd20-4c4d-b4b4-57b530a2eb0d",
   "metadata": {},
   "outputs": [],
   "source": [
    "hpsPlus_mask = hps_data.true_decay_mode == hps_data.pred_decay_mode"
   ]
  },
  {
   "cell_type": "code",
   "execution_count": null,
   "id": "960e2f1c-7e2e-443a-a031-001dd146f70b",
   "metadata": {},
   "outputs": [],
   "source": [
    "cfg.metrics.regression.ratio_plot.resolution_plot.ylim = [0, 0.2]\n",
    "cfg.metrics.regression.ratio_plot.response_plot.ylim = [0.96, 1.04]"
   ]
  },
  {
   "cell_type": "code",
   "execution_count": null,
   "id": "294f348c-fb35-4bc9-8e49-6825b987e517",
   "metadata": {},
   "outputs": [],
   "source": [
    "evaluators = {\n",
    "    \"HPS\":  re.RegressionEvaluator(hps_data.pred_pt, hps_data.true_pt, cfg.metrics.regression, \"zh\", \"HPS\"),\n",
    "    \"HPS_\":  re.RegressionEvaluator(hps_data.pred_pt[hpsPlus_mask], hps_data.true_pt[hpsPlus_mask], cfg.metrics.regression, \"zh\", \"HPS_\"),\n",
    "    \"RecoJet\":  re.RegressionEvaluator(recoJet_data.reco_jet_pt, recoJet_data.gen_tau_pt, cfg.metrics.regression, \"zh\", \"RecoJet\"),\n",
    "    \"PT\":   re.RegressionEvaluator(PT_data.jet_regression.pred, PT_data.jet_regression.target, cfg.metrics.regression, \"zh\", \"ParticleTransformer\"),\n",
    "    \"LN\":  re.RegressionEvaluator(LN_data.jet_regression.pred, LN_data.jet_regression.target, cfg.metrics.regression, \"zh\", \"LorentzNet\"),\n",
    "    \"DS\":  re.RegressionEvaluator(DS_data.jet_regression.pred, DS_data.jet_regression.target, cfg.metrics.regression, \"zh\", \"DeepSet\")\n",
    "}"
   ]
  },
  {
   "cell_type": "code",
   "execution_count": null,
   "id": "a12f91e0-5f54-4558-b185-6f24b2aaab46",
   "metadata": {},
   "outputs": [],
   "source": [
    "output_dir = \"/home/laurits/tmp/20240923_recoPtCut_removed_plots\"\n",
    "os.makedirs(output_dir, exist_ok=True)\n",
    "rme = re.RegressionMultiEvaluator(output_dir, cfg.metrics.regression, \"zh\")"
   ]
  },
  {
   "cell_type": "code",
   "execution_count": null,
   "id": "9f7b76e4-5710-41ce-9a92-95ff6e54e743",
   "metadata": {},
   "outputs": [],
   "source": [
    "rme.combine_results([evaluator for evaluator in evaluators.values()])\n",
    "rme.save()"
   ]
  },
  {
   "cell_type": "code",
   "execution_count": null,
   "id": "86264b4e-1f2d-4dc7-9ce9-76bc259d15dc",
   "metadata": {},
   "outputs": [],
   "source": [
    "rme.resolution_lineplot.fig"
   ]
  },
  {
   "cell_type": "code",
   "execution_count": null,
   "id": "73a67f4a-df62-4ff6-8482-067a0d773897",
   "metadata": {},
   "outputs": [],
   "source": [
    "rme.response_lineplot.fig"
   ]
  },
  {
   "cell_type": "markdown",
   "id": "88f736b1-78b8-4296-8745-9e99da4b9257",
   "metadata": {},
   "source": [
    "# Decay mode performances"
   ]
  },
  {
   "cell_type": "code",
   "execution_count": null,
   "id": "ca9be2a9-6203-43e0-9035-d0112424327d",
   "metadata": {},
   "outputs": [],
   "source": [
    "from enreg.tools.metrics import decay_mode_evaluator as dme"
   ]
  },
  {
   "cell_type": "code",
   "execution_count": null,
   "id": "e6e79243-09a7-4733-bbec-0c8e0660f2db",
   "metadata": {},
   "outputs": [],
   "source": [
    "# data = {sample: g.load_all_data(os.path.join(cfg.base_ntuple_path, sample + \".parquet\")) for sample in cfg.comparison_samples}\n",
    "\n",
    "for algorithm, algo_info in cfg.metrics.dm_reconstruction.algorithms.items():\n",
    "    for signal_sample in cfg.metrics.dm_reconstruction.signal_samples:\n",
    "        sig_info_data = data[signal_sample]\n",
    "        if not os.path.exists(os.path.join(algo_info.data_dir, signal_sample + \".parquet\")):\n",
    "            continue\n",
    "        sig_data = g.load_all_data(os.path.join(algo_info.data_dir, signal_sample + \".parquet\"))\n",
    "\n",
    "        output_dir = \"output_plots_dm\"\n",
    "        evaluator = dme.DecayModeEvaluator(sig_data.dm_multiclass.pred, sig_data.dm_multiclass.target, output_dir, signal_sample, algorithm)\n",
    "        evaluator.save_performance()"
   ]
  },
  {
   "cell_type": "code",
   "execution_count": null,
   "id": "b24dba4c-ea2b-4446-bd20-4fbf08700ad3",
   "metadata": {},
   "outputs": [],
   "source": []
  }
 ],
 "metadata": {
  "kernelspec": {
   "display_name": "Python 3 (ipykernel)",
   "language": "python",
   "name": "python3"
  },
  "language_info": {
   "codemirror_mode": {
    "name": "ipython",
    "version": 3
   },
   "file_extension": ".py",
   "mimetype": "text/x-python",
   "name": "python",
   "nbconvert_exporter": "python",
   "pygments_lexer": "ipython3",
   "version": "3.11.9"
  }
 },
 "nbformat": 4,
 "nbformat_minor": 5
}

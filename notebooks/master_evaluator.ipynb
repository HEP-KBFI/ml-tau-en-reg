{
 "cells": [
  {
   "cell_type": "markdown",
   "id": "70f16d97",
   "metadata": {
    "papermill": {
     "duration": 0.004035,
     "end_time": "2025-01-15T11:30:46.349608",
     "exception": false,
     "start_time": "2025-01-15T11:30:46.345573",
     "status": "completed"
    },
    "tags": []
   },
   "source": [
    "# Master notebook for evaluating  performaces\n"
   ]
  },
  {
   "cell_type": "code",
   "execution_count": null,
   "id": "53ce6370",
   "metadata": {
    "editable": true,
    "execution": {
     "iopub.execute_input": "2025-01-15T11:30:46.358814Z",
     "iopub.status.busy": "2025-01-15T11:30:46.358066Z",
     "iopub.status.idle": "2025-01-15T11:30:49.362989Z",
     "shell.execute_reply": "2025-01-15T11:30:49.362293Z"
    },
    "papermill": {
     "duration": 3.011118,
     "end_time": "2025-01-15T11:30:49.364471",
     "exception": false,
     "start_time": "2025-01-15T11:30:46.353353",
     "status": "completed"
    },
    "slideshow": {
     "slide_type": ""
    },
    "tags": []
   },
   "outputs": [],
   "source": [
    "import os\n",
    "import glob\n",
    "import tqdm\n",
    "import numpy as np\n",
    "import mplhep as hep\n",
    "import awkward as ak\n",
    "import matplotlib.pyplot as plt\n",
    "from hydra import compose, initialize\n",
    "from omegaconf import OmegaConf\n",
    "\n",
    "from enreg.tools import general as g\n",
    "from enreg.tools.metrics import (\n",
    "    regression_evaluator as re,\n",
    "    decay_mode_evaluator as dme,\n",
    "    tagger_evaluator as te\n",
    ")\n",
    "\n",
    "with initialize(version_base=None, config_path=\"../ml-tau-en-reg/enreg/config/\", job_name=\"test_app\"):\n",
    "    cfg_metrics = compose(config_name=\"benchmarking\")\n",
    "    cfg = compose(config_name=\"evaluation_params\")\n",
    "\n",
    "hep.style.use(hep.styles.CMS)"
   ]
  },
  {
   "cell_type": "code",
   "execution_count": 2,
   "id": "b887150a",
   "metadata": {
    "editable": true,
    "execution": {
     "iopub.execute_input": "2025-01-15T11:30:49.372863Z",
     "iopub.status.busy": "2025-01-15T11:30:49.372441Z",
     "iopub.status.idle": "2025-01-15T11:30:49.376264Z",
     "shell.execute_reply": "2025-01-15T11:30:49.375795Z"
    },
    "papermill": {
     "duration": 0.009321,
     "end_time": "2025-01-15T11:30:49.377342",
     "exception": false,
     "start_time": "2025-01-15T11:30:49.368021",
     "status": "completed"
    },
    "slideshow": {
     "slide_type": ""
    },
    "tags": [
     "parameters"
    ]
   },
   "outputs": [],
   "source": [
    "# Define basic directories\n",
    "OUTPUT_DIR = cfg.directories.OUTPUT_DIR\n",
    "BASE_DATA_DIR = cfg.directories.BASE_DATA_DIR\n",
    "BASE_TRAINING_DIR = cfg.directories.BASE_TRAINING_DIR"
   ]
  },
  {
   "cell_type": "code",
   "execution_count": 4,
   "id": "2e7decaa",
   "metadata": {
    "editable": true,
    "execution": {
     "iopub.execute_input": "2025-01-15T11:30:49.397606Z",
     "iopub.status.busy": "2025-01-15T11:30:49.397345Z",
     "iopub.status.idle": "2025-01-15T11:30:49.400720Z",
     "shell.execute_reply": "2025-01-15T11:30:49.400196Z"
    },
    "papermill": {
     "duration": 0.008478,
     "end_time": "2025-01-15T11:30:49.401888",
     "exception": false,
     "start_time": "2025-01-15T11:30:49.393410",
     "status": "completed"
    },
    "slideshow": {
     "slide_type": ""
    },
    "tags": []
   },
   "outputs": [],
   "source": [
    "# Define data directory dictionary\n",
    "SAMPLE_DIR = {\n",
    "    \"z_test\": os.path.join(BASE_DATA_DIR, \"z_test.parquet\"),\n",
    "    \"zh_test\": os.path.join(BASE_DATA_DIR, \"zh_test.parquet\"),\n",
    "    \"qq_test\": os.path.join(BASE_DATA_DIR, \"qq_test.parquet\"),\n",
    "    \"z_train\": os.path.join(BASE_DATA_DIR, \"z_train.parquet\"),\n",
    "    \"zh_train\": os.path.join(BASE_DATA_DIR, \"zh_train.parquet\"),\n",
    "    \"qq_train\": os.path.join(BASE_DATA_DIR, \"qq_train.parquet\"),\n",
    "}\n",
    "\n",
    "def train_data_loader(key):\n",
    "    \"\"\"\n",
    "    Returns ak.Array\n",
    "    \"\"\"\n",
    "    return g.load_all_data(SAMPLE_DIR[key], columns=['reco_jet_p4s', \"gen_jet_tau_p4s\"])\n",
    "\n",
    "LOADED_DATA = {key: train_data_loader(key) for key in cfg.training_data if key in SAMPLE_DIR}"
   ]
  },
  {
   "cell_type": "code",
   "execution_count": null,
   "id": "974eeef6",
   "metadata": {
    "editable": true,
    "execution": {
     "iopub.execute_input": "2025-01-15T11:30:52.870678Z",
     "iopub.status.busy": "2025-01-15T11:30:52.870067Z",
     "iopub.status.idle": "2025-01-15T11:30:53.430540Z",
     "shell.execute_reply": "2025-01-15T11:30:53.429911Z"
    },
    "papermill": {
     "duration": 0.566202,
     "end_time": "2025-01-15T11:30:53.431766",
     "exception": false,
     "start_time": "2025-01-15T11:30:52.865564",
     "status": "completed"
    },
    "slideshow": {
     "slide_type": ""
    },
    "tags": []
   },
   "outputs": [],
   "source": [
    "def create_reco_entries(loaded_data, key,  output_dir):\n",
    "    \"\"\"\n",
    "    Creates reconstruced stuffs\n",
    "    \"\"\"\n",
    "    data_to_save = {\n",
    "        \"reco_jet_pt\": g.reinitialize_p4(loaded_data.reco_jet_p4s).pt,\n",
    "        \"gen_tau_pt\": g.reinitialize_p4(loaded_data.gen_jet_tau_p4s).pt\n",
    "    }\n",
    "    output_dir = os.path.join(output_dir, \"recoJet\")\n",
    "    os.makedirs(output_dir, exist_ok=True)\n",
    "    output_path = os.path.join(output_dir, f\"{key}.parquet\")\n",
    "    print(f\"Saving to {output_path}\")\n",
    "    ak.to_parquet(ak.Record(data_to_save), output_path, row_group_size=1024)\n",
    "\n",
    "for idx, (key, value) in enumerate(LOADED_DATA.items()):\n",
    "    create_reco_entries(LOADED_DATA[key], key, OUTPUT_DIR)"
   ]
  },
  {
   "cell_type": "code",
   "execution_count": 7,
   "id": "0dbab910",
   "metadata": {
    "editable": true,
    "execution": {
     "iopub.execute_input": "2025-01-15T11:30:53.440459Z",
     "iopub.status.busy": "2025-01-15T11:30:53.440098Z",
     "iopub.status.idle": "2025-01-15T11:30:53.444812Z",
     "shell.execute_reply": "2025-01-15T11:30:53.444303Z"
    },
    "papermill": {
     "duration": 0.010484,
     "end_time": "2025-01-15T11:30:53.446080",
     "exception": false,
     "start_time": "2025-01-15T11:30:53.435596",
     "status": "completed"
    },
    "slideshow": {
     "slide_type": ""
    },
    "tags": [
     "parameters"
    ]
   },
   "outputs": [],
   "source": [
    "# Training types\n",
    "training_types = ['20201204_ParT_ntrain_v2', '20201206_updated_DM_training',\n",
    "                  '20201211_ParT_no_PMHA' ,'20241220_unfreeze_from_start',\n",
    "                  '20241204_ParT_ntrain','20250109_OmniParT_2GPT_layers']\n",
    "# Model parameters\n",
    "training_types = cfg.evaluating['training_types']\n",
    "model_versions = cfg.evaluating['model_types']['version']\n",
    "train_fracs = cfg.evaluating['model_types']['train_frac']\n",
    "tasks = cfg.evaluating['model_types']['tasks']\n",
    "\n",
    "models = cfg.evaluating['model_types']['models']\n",
    "model_test_type = cfg.evaluating['model_types']['z_OR_zh_test']"
   ]
  },
  {
   "cell_type": "code",
   "execution_count": null,
   "id": "76ac0d80",
   "metadata": {
    "editable": true,
    "execution": {
     "iopub.execute_input": "2025-01-15T11:30:53.455616Z",
     "iopub.status.busy": "2025-01-15T11:30:53.454906Z",
     "iopub.status.idle": "2025-01-15T11:30:53.492686Z",
     "shell.execute_reply": "2025-01-15T11:30:53.492038Z"
    },
    "papermill": {
     "duration": 0.043677,
     "end_time": "2025-01-15T11:30:53.493861",
     "exception": false,
     "start_time": "2025-01-15T11:30:53.450184",
     "status": "completed"
    },
    "slideshow": {
     "slide_type": ""
    },
    "tags": []
   },
   "outputs": [],
   "source": [
    "def model_loader(base_dir, training, v, fraction, task, model, test_type):\n",
    "    full_directory = os.path.join(base_dir, training, v, fraction, task, model, test_type + '.parquet')\n",
    "    return g.load_all_data(full_directory)\n",
    "\n",
    "def load_model_data(base_dir, training, versions, fractions, tasks, models, test_type):\n",
    "    \"\"\"\n",
    "    Dynamically load data for specified model parameters.\n",
    "    Args:\n",
    "    - base_dir (str): Base directory for models.\n",
    "    - versions (str or list): Single version or list of versions to process.\n",
    "    - fractions (str or list): Single fraction or list of fractions to process.\n",
    "    - tasks (str or list): Single task or list of tasks to process.\n",
    "    - models (str or list): Single model or list of models to process.\n",
    "    - test_type (str or list): Test type (e.g., 'zh_test').\n",
    "    Returns:\n",
    "    - dict: Loaded data indexed by parameter combinations.\n",
    "    \"\"\"\n",
    "    # Convert inputs into lists if they aren't already lists\n",
    "    if isinstance(training, str):\n",
    "        training = [training]\n",
    "    if isinstance(versions, str):\n",
    "        versions = [versions]\n",
    "    if isinstance(fractions, str):\n",
    "        fractions = [fractions]\n",
    "    if isinstance(tasks, str):\n",
    "        tasks = [tasks]\n",
    "    if isinstance(models, str):\n",
    "        models = [models]\n",
    "    if isinstance(test_type, str):\n",
    "        test_type = [test_type]\n",
    "    \n",
    "    loaded_data = {}\n",
    "    ############################### THIS IS LOADING FROM and looping over DIRECTORIES THAT DONT EXIST\n",
    "    # Loop over all combinations of the parameters\n",
    "    for tra in training:\n",
    "        for v in versions:\n",
    "            for fraction in fractions:\n",
    "                for task in tasks:\n",
    "                    for model in models:\n",
    "                        for test in test_type:\n",
    "                            dataset_name = f\"{tra}/{v}/{fraction}/{task}/{model}/{test}\"\n",
    "                            try:\n",
    "                                print(f\"Loading data for {dataset_name}\")\n",
    "                                loaded_data[dataset_name] = model_loader(base_dir, tra, v,\n",
    "                                                                         fraction, task, model, test)\n",
    "                            except ValueError as e:\n",
    "                                print(f\"Failed to load {dataset_name}: {e}\")\n",
    "    return loaded_data\n",
    "\n",
    "# Example: Load data for ParticleTransformer with single version and task\n",
    "loaded_data = load_model_data(\n",
    "    BASE_TRAINING_DIR,\n",
    "    training_types,\n",
    "    model_versions,\n",
    "    train_fracs,\n",
    "    tasks,\n",
    "    models,\n",
    "    model_test_type\n",
    ")\n",
    "\n",
    "# Access specific datasets after loading\n",
    "PT_jet_regression = loaded_data.get(\"20201204_ParT_ntrain_v2/v1/trainfrac_1e4/jet_regression/ParticleTransformer/zh_test\")\n",
    "PT_dm_multiclass = loaded_data.get(\"20201204_ParT_ntrain_v2/v1/trainfrac_1e4/dm_multiclass/ParticleTransformer/zh_test\")\n",
    "PT_binary_classification = loaded_data.get(\"20201204_ParT_ntrain_v2/v1/trainfrac_1e4/binary_classification/ParticleTransformer/zh_test\")\n",
    "\n",
    "omni_pt_reg = loaded_data.get('20250113_OmniParT_fine_tuning_freeze_60/v1/trainfrac_1e4/jet_regression/OmniParT_fine_tuning/zh_test')\n",
    "omni_pt_dm = loaded_data.get('20250113_OmniParT_fine_tuning_freeze_60/v1/trainfrac_1e4/dm_multiclass/OmniParT_fine_tuning/zh_test')\n",
    "omni_pt_bin = loaded_data.get('20250113_OmniParT_fine_tuning_freeze_60/v1/trainfrac_1e4/binary_classification/OmniParT_fine_tuning/zh_test')\n",
    "for i in loaded_data.items():\n",
    "    print(i)"
   ]
  },
  {
   "cell_type": "code",
   "execution_count": 11,
   "id": "44151497",
   "metadata": {
    "editable": true,
    "execution": {
     "iopub.execute_input": "2025-01-15T11:30:53.550980Z",
     "iopub.status.busy": "2025-01-15T11:30:53.550738Z",
     "iopub.status.idle": "2025-01-15T11:30:53.701073Z",
     "shell.execute_reply": "2025-01-15T11:30:53.700282Z"
    },
    "papermill": {
     "duration": 0.156472,
     "end_time": "2025-01-15T11:30:53.702487",
     "exception": false,
     "start_time": "2025-01-15T11:30:53.546015",
     "status": "completed"
    },
    "slideshow": {
     "slide_type": ""
    },
    "tags": []
   },
   "outputs": [],
   "source": [
    "evaluators = {\n",
    "    # \"HPS_\":  re.RegressionEvaluator(hps_data.pred_pt[hpsPlus_mask], hps_data.true_pt[hpsPlus_mask], cfg.metrics.regression, \"zh\", \"HPS_\"),\n",
    "    # \"RecoJet\":  re.RegressionEvaluator(recoJet_data.reco_jet_pt, recoJet_data.gen_tau_pt, cfg.metrics.regression, \"zh\", \"RecoJet\"),\n",
    "    \"PT\":   re.RegressionEvaluator(PT_jet_regression.jet_regression.pred, PT_jet_regression.jet_regression.target,\n",
    "                                   cfg_metrics.metrics.regression, \"zh\", \"ParticleTransformer\"),\n",
    "    # \"omni_pt\": re.RegressionEvaluator(omni_pt_reg.jet_regression.pred, omni_pt_reg.jet_regression.target,\n",
    "    #                                cfg_metrics.metrics.regression, \"zh\", \"OmniParT\")\n",
    "    # \"LN\":  re.RegressionEvaluator(LN_data.jet_regression.pred, LN_data.jet_regression.target, cfg.metrics.regression, \"zh\", \"LorentzNet\"),\n",
    "    # \"DS\":  re.RegressionEvaluator(DS_data.jet_regression.pred, DS_data.jet_regression.target, cfg.metrics.regression, \"zh\", \"DeepSet\")\n",
    "}"
   ]
  },
  {
   "cell_type": "code",
   "execution_count": 12,
   "id": "700899ef",
   "metadata": {
    "editable": true,
    "execution": {
     "iopub.execute_input": "2025-01-15T11:30:53.712875Z",
     "iopub.status.busy": "2025-01-15T11:30:53.712508Z",
     "iopub.status.idle": "2025-01-15T11:30:57.015836Z",
     "shell.execute_reply": "2025-01-15T11:30:57.015110Z"
    },
    "papermill": {
     "duration": 3.311029,
     "end_time": "2025-01-15T11:30:57.017195",
     "exception": false,
     "start_time": "2025-01-15T11:30:53.706166",
     "status": "completed"
    },
    "slideshow": {
     "slide_type": ""
    },
    "tags": []
   },
   "outputs": [],
   "source": [
    "os.makedirs(OUTPUT_DIR+'plots', exist_ok=True)\n",
    "rme = re.RegressionMultiEvaluator(OUTPUT_DIR+'plots', cfg_metrics.metrics.regression, \"zh\")\n",
    "\n",
    "rme.combine_results([evaluator for evaluator in evaluators.values()])\n",
    "rme.save()"
   ]
  },
  {
   "cell_type": "code",
   "execution_count": null,
   "id": "5f635a97",
   "metadata": {
    "editable": true,
    "execution": {
     "iopub.execute_input": "2025-01-15T11:30:57.025757Z",
     "iopub.status.busy": "2025-01-15T11:30:57.025086Z",
     "iopub.status.idle": "2025-01-15T11:30:57.208158Z",
     "shell.execute_reply": "2025-01-15T11:30:57.207478Z"
    },
    "papermill": {
     "duration": 0.188427,
     "end_time": "2025-01-15T11:30:57.209333",
     "exception": false,
     "start_time": "2025-01-15T11:30:57.020906",
     "status": "completed"
    },
    "slideshow": {
     "slide_type": ""
    },
    "tags": []
   },
   "outputs": [],
   "source": [
    "rme.resolution_lineplot.fig"
   ]
  },
  {
   "cell_type": "code",
   "execution_count": null,
   "id": "51137ede",
   "metadata": {
    "editable": true,
    "execution": {
     "iopub.execute_input": "2025-01-15T11:30:57.219031Z",
     "iopub.status.busy": "2025-01-15T11:30:57.218807Z",
     "iopub.status.idle": "2025-01-15T11:30:57.368236Z",
     "shell.execute_reply": "2025-01-15T11:30:57.367436Z"
    },
    "papermill": {
     "duration": 0.155681,
     "end_time": "2025-01-15T11:30:57.369504",
     "exception": false,
     "start_time": "2025-01-15T11:30:57.213823",
     "status": "completed"
    },
    "slideshow": {
     "slide_type": ""
    },
    "tags": []
   },
   "outputs": [],
   "source": [
    "rme.response_lineplot.fig"
   ]
  },
  {
   "cell_type": "markdown",
   "id": "a413c703",
   "metadata": {
    "editable": true,
    "papermill": {
     "duration": 0.007563,
     "end_time": "2025-01-15T11:30:57.382506",
     "exception": false,
     "start_time": "2025-01-15T11:30:57.374943",
     "status": "completed"
    },
    "slideshow": {
     "slide_type": ""
    },
    "tags": []
   },
   "source": [
    "## Decay mode performances"
   ]
  },
  {
   "cell_type": "code",
   "execution_count": 15,
   "id": "1db2d09b",
   "metadata": {
    "execution": {
     "iopub.execute_input": "2025-01-15T11:30:57.395368Z",
     "iopub.status.busy": "2025-01-15T11:30:57.394611Z",
     "iopub.status.idle": "2025-01-15T11:30:57.400629Z",
     "shell.execute_reply": "2025-01-15T11:30:57.399940Z"
    },
    "papermill": {
     "duration": 0.014083,
     "end_time": "2025-01-15T11:30:57.401780",
     "exception": false,
     "start_time": "2025-01-15T11:30:57.387697",
     "status": "completed"
    },
    "tags": []
   },
   "outputs": [],
   "source": [
    "for algorithm, algo_info in cfg_metrics.metrics.dm_reconstruction.algorithms.items():\n",
    "    for signal_sample in cfg_metrics.metrics.dm_reconstruction.signal_samples:\n",
    "        \n",
    "        if not os.path.exists(os.path.join(algo_info.data_dir, SAMPLE_DIR)):\n",
    "            continue\n",
    "        sig_data = g.load_all_data(os.path.join(algo_info.data_dir, signal_sample + \".parquet\"))\n",
    "\n",
    "        output_dir = OUTPUT_DIR + 'DM'\n",
    "        evaluator = dme.DecayModeEvaluator(PT_dm_multiclass.dm_multiclass.pred,\n",
    "                                           PT_dm_multiclass.dm_multiclass.target,\n",
    "                                           output_dir, signal_sample, algorithm)\n",
    "        evaluator.save_performance()"
   ]
  },
  {
   "cell_type": "code",
   "execution_count": null,
   "id": "3576648a",
   "metadata": {},
   "outputs": [],
   "source": [
    "raise SystemExit(\"Execution halted at this point.\")"
   ]
  },
  {
   "cell_type": "code",
   "execution_count": null,
   "id": "3cec2da5",
   "metadata": {},
   "outputs": [],
   "source": [
    "task = \"binary_classification\"\n",
    "evaluators = []\n",
    "for algorithm in algorithms:\n",
    "    base_path = os.path.join(\"/home/laurits/ml-tau-en-reg/training-outputs/Trainings/v1\", task, algorithm)\n",
    "    bkg_data = g.load_all_data(os.path.join(base_path, \"qq_test.parquet\"))\n",
    "    for signal_sample in signal_samples:\n",
    "        sig_info_data = data[signal_sample] # sig_info_data = PT_jet_regression??\n",
    "        bkg_info_data = data['qq_test']\n",
    "        sig_data = g.load_all_data(os.path.join(base_path, signal_sample + \".parquet\"))\n",
    "        \n",
    "        evaluator = te.TaggerEvaluator(\n",
    "            signal_predictions=sig_data.binary_classification.pred,\n",
    "            signal_truth=sig_data.binary_classification.target,\n",
    "            signal_gen_tau_p4=sig_info_data.gen_jet_tau_p4s,\n",
    "            signal_reco_jet_p4=sig_info_data.reco_jet_p4s,\n",
    "            bkg_predictions=bkg_data.binary_classification.pred,\n",
    "            bkg_truth=bkg_data.binary_classification.target,\n",
    "            bkg_gen_jet_p4=bkg_info_data.gen_jet_p4s,\n",
    "            bkg_reco_jet_p4=bkg_info_data.reco_jet_p4s,\n",
    "            cfg=cfg.metrics.classifier,\n",
    "            sample=signal_sample,\n",
    "            algorithm=algorithm\n",
    "        )\n",
    "        evaluators.append(evaluator)\n",
    "\n",
    "tme = te.TaggerMultiEvaluator(\"output_plots_cls\", cfg.metrics.classifier)\n",
    "tme.combine_results(evaluators)\n",
    "tme.save_results()"
   ]
  },
  {
   "cell_type": "code",
   "execution_count": null,
   "id": "502d0c16",
   "metadata": {
    "papermill": {
     "duration": 0.005428,
     "end_time": "2025-01-15T11:30:57.412433",
     "exception": false,
     "start_time": "2025-01-15T11:30:57.407005",
     "status": "completed"
    },
    "tags": []
   },
   "outputs": [],
   "source": [
    "task = \"dm_multiclass\"\n",
    "for algorithm in algorithms:\n",
    "    base_path = os.path.join(\"/home/laurits/ml-tau-en-reg/training-outputs/Trainings/v1\", task, algorithm)\n",
    "    for signal_sample in signal_samples:\n",
    "        sig_info_data = data[signal_sample]\n",
    "        sig_data = g.load_all_data(os.path.join(base_path, signal_sample + \".parquet\"))\n",
    "\n",
    "        output_dir = \"output_plots_dm\"\n",
    "        evaluator = dme.DecayModeEvaluator(sig_data.dm_multiclass.pred, sig_data.dm_multiclass.target, output_dir, signal_sample, algorithm)\n",
    "        evaluator.save_performance()\n"
   ]
  },
  {
   "cell_type": "code",
   "execution_count": null,
   "id": "3228f11b",
   "metadata": {
    "papermill": {
     "duration": 0.004404,
     "end_time": "2025-01-15T11:30:57.421280",
     "exception": false,
     "start_time": "2025-01-15T11:30:57.416876",
     "status": "completed"
    },
    "tags": []
   },
   "outputs": [],
   "source": [
    "task = \"jet_regression\"\n",
    "evaluators = []\n",
    "for algorithm in algorithms:\n",
    "    base_path = os.path.join(\"/home/laurits/ml-tau-en-reg/training-outputs/Trainings/v1\", task, algorithm)\n",
    "    for signal_sample in signal_samples:\n",
    "        sig_info_data = data[signal_sample]\n",
    "        sig_data = g.load_all_data(os.path.join(base_path, signal_sample + \".parquet\"))\n",
    "\n",
    "        evaluator = re.RegressionEvaluator(sig_data.jet_regression.pred, sig_data.jet_regression.target, cfg.metrics.regression, signal_sample.split(\"_\")[0], algorithm)\n",
    "        evaluators.append(evaluator)\n",
    "output_dir = \"output_plots_regression\"\n",
    "rme = re.RegressionMultiEvaluator(output_dir, cfg.metrics.regression, signal_sample.split(\"_\")[0])\n",
    "rme.combine_results(evaluators)\n",
    "rme.save()"
   ]
  },
  {
   "cell_type": "code",
   "execution_count": null,
   "id": "e4d90cd0",
   "metadata": {
    "papermill": {
     "duration": 0.004641,
     "end_time": "2025-01-15T11:30:57.430332",
     "exception": false,
     "start_time": "2025-01-15T11:30:57.425691",
     "status": "completed"
    },
    "tags": []
   },
   "outputs": [],
   "source": []
  }
 ],
 "metadata": {
  "kernelspec": {
   "display_name": "Python 3",
   "language": "python",
   "name": "python3"
  },
  "language_info": {
   "codemirror_mode": {
    "name": "ipython",
    "version": 3
   },
   "file_extension": ".py",
   "mimetype": "text/x-python",
   "name": "python",
   "nbconvert_exporter": "python",
   "pygments_lexer": "ipython3",
   "version": "3.10.12"
  },
  "papermill": {
   "default_parameters": {},
   "duration": 13.396047,
   "end_time": "2025-01-15T11:30:58.458076",
   "environment_variables": {},
   "exception": null,
   "input_path": "notebooks/master_evaluator.ipynb",
   "output_path": "notebooks/master_evaluator.ipynb",
   "parameters": {
    "directories": {
     "BASE_DATA_DIR": "/home/hardi/Doc/pyfailid/ml-tau-en-reg/20241002_Training_ntuples_geq20ge",
     "BASE_TRAINING_DIR": "/home/hardi/Doc/pyfailid/ml-tau-en-reg/training-outputs",
     "OUTPUT_DIR": "ml-tau-en-reg/notebooks/z_temp_output/"
    },
    "evaluating": {
     "model_types": {
      "models": [
       "ParticleTransformer"
      ],
      "tasks": [
       "jet_regression"
      ],
      "train_frac": [
       "trainfrac_1e4"
      ],
      "version": [
       "v1"
      ],
      "z_OR_zh_test": [
       "zh_test"
      ]
     },
     "training_types": [
      "20201204_ParT_ntrain_v2"
     ]
    }
   },
   "start_time": "2025-01-15T11:30:45.062029",
   "version": "2.6.0"
  }
 },
 "nbformat": 4,
 "nbformat_minor": 5
}

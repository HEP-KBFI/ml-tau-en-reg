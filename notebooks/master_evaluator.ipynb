{
 "cells": [
  {
   "cell_type": "markdown",
   "id": "70f16d97",
   "metadata": {
    "papermill": {
     "duration": 0.003757,
     "end_time": "2025-01-14T16:25:08.182565",
     "exception": false,
     "start_time": "2025-01-14T16:25:08.178808",
     "status": "completed"
    },
    "tags": []
   },
   "source": [
    "# Master notebook for evaluating  performaces\n"
   ]
  },
  {
   "cell_type": "code",
   "execution_count": 1,
   "id": "53ce6370",
   "metadata": {
    "editable": true,
    "execution": {
     "iopub.execute_input": "2025-01-14T16:25:08.194590Z",
     "iopub.status.busy": "2025-01-14T16:25:08.193987Z",
     "iopub.status.idle": "2025-01-14T16:25:09.569664Z",
     "shell.execute_reply": "2025-01-14T16:25:09.569283Z"
    },
    "papermill": {
     "duration": 1.380833,
     "end_time": "2025-01-14T16:25:09.570585",
     "exception": false,
     "start_time": "2025-01-14T16:25:08.189752",
     "status": "completed"
    },
    "slideshow": {
     "slide_type": ""
    },
    "tags": []
   },
   "outputs": [],
   "source": [
    "import os\n",
    "import glob\n",
    "import tqdm\n",
    "import numpy as np\n",
    "import mplhep as hep\n",
    "import awkward as ak\n",
    "import matplotlib.pyplot as plt\n",
    "from hydra import compose, initialize\n",
    "from omegaconf import OmegaConf\n",
    "\n",
    "from enreg.tools import general as g\n",
    "from enreg.tools.metrics import (\n",
    "    regression_evaluator as re,\n",
    "    decay_mode_evaluator as dme,\n",
    "    tagger_evaluator as te\n",
    ")\n",
    "\n",
    "with initialize(version_base=None, config_path=\"../ml-tau-en-reg/enreg/config/\", job_name=\"test_app\"):\n",
    "    cfg_metrics = compose(config_name=\"benchmarking\")\n",
    "    cfg = compose(config_name=\"evaluation_params\")\n",
    "\n",
    "hep.style.use(hep.styles.CMS)"
   ]
  },
  {
   "cell_type": "code",
   "execution_count": 2,
   "id": "b887150a",
   "metadata": {
    "editable": true,
    "execution": {
     "iopub.execute_input": "2025-01-14T16:25:09.581305Z",
     "iopub.status.busy": "2025-01-14T16:25:09.580838Z",
     "iopub.status.idle": "2025-01-14T16:25:09.583350Z",
     "shell.execute_reply": "2025-01-14T16:25:09.583034Z"
    },
    "papermill": {
     "duration": 0.011015,
     "end_time": "2025-01-14T16:25:09.584119",
     "exception": false,
     "start_time": "2025-01-14T16:25:09.573104",
     "status": "completed"
    },
    "slideshow": {
     "slide_type": ""
    },
    "tags": [
     "parameters"
    ]
   },
   "outputs": [],
   "source": [
    "OUTPUT_DIR = cfg.directories.OUTPUT_DIR\n",
    "BASE_DATA_DIR = cfg.directories['BASE_DATA_DIR']"
   ]
  },
  {
   "cell_type": "code",
   "execution_count": 4,
   "id": "2e7decaa",
   "metadata": {
    "editable": true,
    "execution": {
     "iopub.execute_input": "2025-01-14T16:25:09.599786Z",
     "iopub.status.busy": "2025-01-14T16:25:09.599495Z",
     "iopub.status.idle": "2025-01-14T16:25:09.602164Z",
     "shell.execute_reply": "2025-01-14T16:25:09.601810Z"
    },
    "papermill": {
     "duration": 0.00586,
     "end_time": "2025-01-14T16:25:09.602789",
     "exception": false,
     "start_time": "2025-01-14T16:25:09.596929",
     "status": "completed"
    },
    "slideshow": {
     "slide_type": ""
    },
    "tags": []
   },
   "outputs": [],
   "source": [
    "# Data directory\n",
    "SAMPLE_DIR = {\n",
    "    \"z_test\": os.path.join(BASE_DATA_DIR, \"z_test.parquet\"),\n",
    "    \"zh_test\": os.path.join(BASE_DATA_DIR, \"zh_test.parquet\"),\n",
    "    \"qq_test\": os.path.join(BASE_DATA_DIR, \"qq_test.parquet\"),\n",
    "    \"z_train\": os.path.join(BASE_DATA_DIR, \"z_train.parquet\"),\n",
    "    \"zh_train\": os.path.join(BASE_DATA_DIR, \"zh_train.parquet\"),\n",
    "    \"qq_train\": os.path.join(BASE_DATA_DIR, \"qq_train.parquet\"),\n",
    "}"
   ]
  },
  {
   "cell_type": "code",
   "execution_count": null,
   "id": "3dc27a08",
   "metadata": {
    "editable": true,
    "execution": {
     "iopub.execute_input": "2025-01-14T16:25:09.607443Z",
     "iopub.status.busy": "2025-01-14T16:25:09.607285Z",
     "iopub.status.idle": "2025-01-14T16:25:10.536578Z",
     "shell.execute_reply": "2025-01-14T16:25:10.536210Z"
    },
    "papermill": {
     "duration": 0.932391,
     "end_time": "2025-01-14T16:25:10.537279",
     "exception": false,
     "start_time": "2025-01-14T16:25:09.604888",
     "status": "completed"
    },
    "slideshow": {
     "slide_type": ""
    },
    "tags": []
   },
   "outputs": [],
   "source": [
    "def train_data_loader(key): # DO I NEED THIS? create_reco_entries WORKS WITHOUT IT RN?\n",
    "    \"\"\"\n",
    "    Returns ak.Array\n",
    "    \"\"\"\n",
    "    return g.load_all_data(SAMPLE_DIR[key])\n",
    "\n",
    "# z_test_data = train_data_loader(\"z_test\")\n",
    "zh_test_data = train_data_loader(\"zh_test\")\n",
    "# qq_test_data = train_data_loader(\"qq_test\")"
   ]
  },
  {
   "cell_type": "code",
   "execution_count": null,
   "id": "974eeef6",
   "metadata": {
    "editable": true,
    "execution": {
     "iopub.execute_input": "2025-01-14T16:25:10.547785Z",
     "iopub.status.busy": "2025-01-14T16:25:10.547376Z",
     "iopub.status.idle": "2025-01-14T16:25:10.882679Z",
     "shell.execute_reply": "2025-01-14T16:25:10.882238Z"
    },
    "papermill": {
     "duration": 0.343659,
     "end_time": "2025-01-14T16:25:10.883409",
     "exception": false,
     "start_time": "2025-01-14T16:25:10.539750",
     "status": "completed"
    },
    "slideshow": {
     "slide_type": ""
    },
    "tags": []
   },
   "outputs": [],
   "source": [
    "def create_reco_entries(base_dir, key,  output_dir):\n",
    "    \"\"\"\n",
    "    Creates reconstruced stuffs\n",
    "    \"\"\"\n",
    "    data = ak.from_parquet(base_dir, columns=['reco_jet_p4s', \"gen_jet_tau_p4s\"])\n",
    "    data = ak.Array({k: data[k] for k in data.fields})\n",
    "    data_to_save = {\n",
    "        \"reco_jet_pt\": g.reinitialize_p4(data.reco_jet_p4s).pt,\n",
    "        \"gen_tau_pt\": g.reinitialize_p4(data.gen_jet_tau_p4s).pt\n",
    "    }\n",
    "    output_dir = os.path.join(output_dir, \"recoJet\")\n",
    "    os.makedirs(output_dir, exist_ok=True)\n",
    "    output_path = os.path.join(output_dir, f\"{key}.parquet\")\n",
    "    print(f\"Saving to {output_path}\")\n",
    "    ak.to_parquet(ak.Record(data_to_save), output_path, row_group_size=1024)\n",
    "\n",
    "# for idx, (key, value) in enumerate(SAMPLE_DIR.items()):\n",
    "#     if idx == 2:\n",
    "#         break\n",
    "#     else:\n",
    "#         create_reco_entries(SAMPLE_DIR[key], key, OUTPUT_DIR)\n",
    "create_reco_entries(SAMPLE_DIR[\"zh_test\"], \"zh_test\", OUTPUT_DIR)"
   ]
  },
  {
   "cell_type": "code",
   "execution_count": 7,
   "id": "0dbab910",
   "metadata": {
    "editable": true,
    "execution": {
     "iopub.execute_input": "2025-01-14T16:25:10.893178Z",
     "iopub.status.busy": "2025-01-14T16:25:10.892644Z",
     "iopub.status.idle": "2025-01-14T16:25:10.896227Z",
     "shell.execute_reply": "2025-01-14T16:25:10.895750Z"
    },
    "papermill": {
     "duration": 0.010889,
     "end_time": "2025-01-14T16:25:10.896842",
     "exception": false,
     "start_time": "2025-01-14T16:25:10.885953",
     "status": "completed"
    },
    "slideshow": {
     "slide_type": ""
    },
    "tags": [
     "parameters"
    ]
   },
   "outputs": [],
   "source": [
    "BASE_TRAINING_DIR = cfg.directories['BASE_TRAINING_DIR']\n",
    "\n",
    "# Training types\n",
    "training_types = ['20201204_ParT_ntrain_v2', '20201206_updated_DM_training',\n",
    "                  '20201211_ParT_no_PMHA' ,'20241220_unfreeze_from_start',\n",
    "                  '20241204_ParT_ntrain','20250109_OmniParT_2GPT_layers']\n",
    "# Model parameters\n",
    "training_types = cfg.evaluating['training_types']\n",
    "model_versions = cfg.evaluating['model_types']['version']\n",
    "train_fracs = cfg.evaluating['model_types']['train_frac']\n",
    "tasks = cfg.evaluating['model_types']['tasks']\n",
    "\n",
    "models = cfg.evaluating['model_types']['models']\n",
    "model_test_type = cfg.evaluating['model_types']['z_OR_zh_test']"
   ]
  },
  {
   "cell_type": "code",
   "execution_count": null,
   "id": "76ac0d80",
   "metadata": {
    "editable": true,
    "execution": {
     "iopub.execute_input": "2025-01-14T16:25:10.903328Z",
     "iopub.status.busy": "2025-01-14T16:25:10.903058Z",
     "iopub.status.idle": "2025-01-14T16:25:10.928494Z",
     "shell.execute_reply": "2025-01-14T16:25:10.928047Z"
    },
    "papermill": {
     "duration": 0.029863,
     "end_time": "2025-01-14T16:25:10.929479",
     "exception": false,
     "start_time": "2025-01-14T16:25:10.899616",
     "status": "completed"
    },
    "slideshow": {
     "slide_type": ""
    },
    "tags": []
   },
   "outputs": [],
   "source": [
    "def model_loader(base_dir, training, v, fraction, task, model, test_type):\n",
    "    full_directory = os.path.join(base_dir, training, v, fraction, task, model, test_type + '.parquet')\n",
    "    return g.load_all_data(full_directory)\n",
    "\n",
    "def load_model_data(base_dir, training, versions, fractions, tasks, models, test_type):\n",
    "    \"\"\"\n",
    "    Dynamically load data for specified model parameters.\n",
    "    Args:\n",
    "    - base_dir (str): Base directory for models.\n",
    "    - versions (str or list): Single version or list of versions to process.\n",
    "    - fractions (str or list): Single fraction or list of fractions to process.\n",
    "    - tasks (str or list): Single task or list of tasks to process.\n",
    "    - models (str or list): Single model or list of models to process.\n",
    "    - test_type (str or list): Test type (e.g., 'zh_test').\n",
    "    Returns:\n",
    "    - dict: Loaded data indexed by parameter combinations.\n",
    "    \"\"\"\n",
    "    # Convert inputs into lists if they aren't already lists\n",
    "    if isinstance(training, str):\n",
    "        training = [training]\n",
    "    if isinstance(versions, str):\n",
    "        versions = [versions]\n",
    "    if isinstance(fractions, str):\n",
    "        fractions = [fractions]\n",
    "    if isinstance(tasks, str):\n",
    "        tasks = [tasks]\n",
    "    if isinstance(models, str):\n",
    "        models = [models]\n",
    "    if isinstance(test_type, str):\n",
    "        test_type = [test_type]\n",
    "    \n",
    "    loaded_data = {}\n",
    "    # Loop over all combinations of the parameters\n",
    "    for tra in training:\n",
    "        for v in versions:\n",
    "            for fraction in fractions:\n",
    "                for task in tasks:\n",
    "                    for model in models:\n",
    "                        for test in test_type:\n",
    "                            dataset_name = f\"{tra}_{model}_{v}_{fraction}_{task}_{test}\"\n",
    "                            try:\n",
    "                                print(f\"Loading data for {dataset_name}\")\n",
    "                                loaded_data[dataset_name] = model_loader(base_dir, tra, v,\n",
    "                                                                         fraction, task, model, test)\n",
    "                            except ValueError as e:\n",
    "                                print(f\"Failed to load {dataset_name}: {e}\")\n",
    "    return loaded_data\n",
    "\n",
    "# Example: Load data for ParticleTransformer with single version and task\n",
    "loaded_data = load_model_data(\n",
    "    BASE_TRAINING_DIR,\n",
    "    training_types[0],\n",
    "    model_versions[0],\n",
    "    train_fracs[0],\n",
    "    tasks[0],\n",
    "    models[0],\n",
    "    model_test_type[0]\n",
    ")\n",
    "\n",
    "# Access specific datasets after loading\n",
    "PT_jet_regression = loaded_data.get(\"20201204_ParT_ntrain_v2_ParticleTransformer_v1_trainfrac_1e4_jet_regression_zh_test\")\n",
    "# PT_dm_multiclass = loaded_data.get(\"ParticleTransformer_v1_trainfrac_1e4_dm_multiclass_z_test\")\n",
    "print(PT_jet_regression)\n"
   ]
  },
  {
   "cell_type": "code",
   "execution_count": null,
   "id": "d7f55c0e",
   "metadata": {
    "editable": true,
    "execution": {
     "iopub.execute_input": "2025-01-14T16:25:10.937185Z",
     "iopub.status.busy": "2025-01-14T16:25:10.936737Z",
     "iopub.status.idle": "2025-01-14T16:25:10.961088Z",
     "shell.execute_reply": "2025-01-14T16:25:10.960610Z"
    },
    "papermill": {
     "duration": 0.029177,
     "end_time": "2025-01-14T16:25:10.962062",
     "exception": false,
     "start_time": "2025-01-14T16:25:10.932885",
     "status": "completed"
    },
    "slideshow": {
     "slide_type": ""
    },
    "tags": []
   },
   "outputs": [],
   "source": [
    "PT_data = g.load_all_data(\"training-outputs/20201204_ParT_ntrain_v2/v1/trainfrac_1e4/jet_regression/ParticleTransformer/zh_test.parquet\")\n",
    "# LN_data = g.load_all_data(\"/home/laurits/ml-tau-en-reg/training-outputs/20240921_recoPtCut_removed_samples/v1/jet_regression/LorentzNet/zh_test.parquet\")\n",
    "# DS_data = g.load_all_data(\"/home/laurits/ml-tau-en-reg/training-outputs/20240921_recoPtCut_removed_samples/v1/jet_regression/DeepSet/zh_test.parquet\")\n",
    "# hps_data = g.load_all_data(\"/home/laurits/HPS_recoCut0_ntuples/zh.parquet\")\n",
    "# recoJet_data = g.load_all_data(\"/home/laurits/ntuples/20240924_lowered_recoPtCut/recoJet/zh.parquet\")"
   ]
  },
  {
   "cell_type": "code",
   "execution_count": 10,
   "id": "40d1f450",
   "metadata": {
    "editable": true,
    "execution": {
     "iopub.execute_input": "2025-01-14T16:25:10.968284Z",
     "iopub.status.busy": "2025-01-14T16:25:10.967932Z",
     "iopub.status.idle": "2025-01-14T16:25:10.970715Z",
     "shell.execute_reply": "2025-01-14T16:25:10.970421Z"
    },
    "papermill": {
     "duration": 0.006333,
     "end_time": "2025-01-14T16:25:10.971323",
     "exception": false,
     "start_time": "2025-01-14T16:25:10.964990",
     "status": "completed"
    },
    "slideshow": {
     "slide_type": ""
    },
    "tags": []
   },
   "outputs": [],
   "source": [
    "# hpsPlus_mask = hps_data.true_decay_mode == hps_data.pred_decay_mode\n",
    "cfg_metrics.metrics.regression.ratio_plot.resolution_plot.ylim = [0, 0.2]\n",
    "cfg_metrics.metrics.regression.ratio_plot.response_plot.ylim = [0.0, 2.0]"
   ]
  },
  {
   "cell_type": "code",
   "execution_count": 11,
   "id": "44151497",
   "metadata": {
    "editable": true,
    "execution": {
     "iopub.execute_input": "2025-01-14T16:25:10.976538Z",
     "iopub.status.busy": "2025-01-14T16:25:10.976362Z",
     "iopub.status.idle": "2025-01-14T16:25:11.076458Z",
     "shell.execute_reply": "2025-01-14T16:25:11.075956Z"
    },
    "papermill": {
     "duration": 0.104096,
     "end_time": "2025-01-14T16:25:11.077691",
     "exception": false,
     "start_time": "2025-01-14T16:25:10.973595",
     "status": "completed"
    },
    "slideshow": {
     "slide_type": ""
    },
    "tags": []
   },
   "outputs": [],
   "source": [
    "evaluators = {\n",
    "    # \"HPS_\":  re.RegressionEvaluator(hps_data.pred_pt[hpsPlus_mask], hps_data.true_pt[hpsPlus_mask], cfg.metrics.regression, \"zh\", \"HPS_\"),\n",
    "    # \"RecoJet\":  re.RegressionEvaluator(recoJet_data.reco_jet_pt, recoJet_data.gen_tau_pt, cfg.metrics.regression, \"zh\", \"RecoJet\"),\n",
    "    \"PT\":   re.RegressionEvaluator(PT_data.jet_regression.pred, PT_data.jet_regression.target, cfg_metrics.metrics.regression, \"zh\", \"ParticleTransformer\"),\n",
    "    # \"LN\":  re.RegressionEvaluator(LN_data.jet_regression.pred, LN_data.jet_regression.target, cfg.metrics.regression, \"zh\", \"LorentzNet\"),\n",
    "    # \"DS\":  re.RegressionEvaluator(DS_data.jet_regression.pred, DS_data.jet_regression.target, cfg.metrics.regression, \"zh\", \"DeepSet\")\n",
    "}"
   ]
  },
  {
   "cell_type": "code",
   "execution_count": 12,
   "id": "700899ef",
   "metadata": {
    "editable": true,
    "execution": {
     "iopub.execute_input": "2025-01-14T16:25:11.088217Z",
     "iopub.status.busy": "2025-01-14T16:25:11.088046Z",
     "iopub.status.idle": "2025-01-14T16:25:13.027586Z",
     "shell.execute_reply": "2025-01-14T16:25:13.027105Z"
    },
    "papermill": {
     "duration": 1.943328,
     "end_time": "2025-01-14T16:25:13.028422",
     "exception": false,
     "start_time": "2025-01-14T16:25:11.085094",
     "status": "completed"
    },
    "slideshow": {
     "slide_type": ""
    },
    "tags": []
   },
   "outputs": [],
   "source": [
    "os.makedirs(OUTPUT_DIR+'plots', exist_ok=True)\n",
    "rme = re.RegressionMultiEvaluator(OUTPUT_DIR+'plots', cfg_metrics.metrics.regression, \"zh\")\n",
    "\n",
    "rme.combine_results([evaluator for evaluator in evaluators.values()])\n",
    "rme.save()"
   ]
  },
  {
   "cell_type": "code",
   "execution_count": null,
   "id": "5f635a97",
   "metadata": {
    "editable": true,
    "execution": {
     "iopub.execute_input": "2025-01-14T16:25:13.033978Z",
     "iopub.status.busy": "2025-01-14T16:25:13.033638Z",
     "iopub.status.idle": "2025-01-14T16:25:13.139497Z",
     "shell.execute_reply": "2025-01-14T16:25:13.138985Z"
    },
    "papermill": {
     "duration": 0.109668,
     "end_time": "2025-01-14T16:25:13.140539",
     "exception": false,
     "start_time": "2025-01-14T16:25:13.030871",
     "status": "completed"
    },
    "slideshow": {
     "slide_type": ""
    },
    "tags": []
   },
   "outputs": [],
   "source": [
    "rme.resolution_lineplot.fig"
   ]
  },
  {
   "cell_type": "code",
   "execution_count": null,
   "id": "51137ede",
   "metadata": {
    "editable": true,
    "execution": {
     "iopub.execute_input": "2025-01-14T16:25:13.152970Z",
     "iopub.status.busy": "2025-01-14T16:25:13.152470Z",
     "iopub.status.idle": "2025-01-14T16:25:13.239515Z",
     "shell.execute_reply": "2025-01-14T16:25:13.239081Z"
    },
    "papermill": {
     "duration": 0.096249,
     "end_time": "2025-01-14T16:25:13.240272",
     "exception": false,
     "start_time": "2025-01-14T16:25:13.144023",
     "status": "completed"
    },
    "slideshow": {
     "slide_type": ""
    },
    "tags": []
   },
   "outputs": [],
   "source": [
    "rme.response_lineplot.fig"
   ]
  },
  {
   "cell_type": "markdown",
   "id": "a413c703",
   "metadata": {
    "editable": true,
    "papermill": {
     "duration": 0.003206,
     "end_time": "2025-01-14T16:25:13.246697",
     "exception": false,
     "start_time": "2025-01-14T16:25:13.243491",
     "status": "completed"
    },
    "slideshow": {
     "slide_type": ""
    },
    "tags": []
   },
   "source": [
    "## Decay mode performances"
   ]
  },
  {
   "cell_type": "code",
   "execution_count": 15,
   "id": "1db2d09b",
   "metadata": {
    "execution": {
     "iopub.execute_input": "2025-01-14T16:25:13.253847Z",
     "iopub.status.busy": "2025-01-14T16:25:13.253629Z",
     "iopub.status.idle": "2025-01-14T16:25:13.257468Z",
     "shell.execute_reply": "2025-01-14T16:25:13.256956Z"
    },
    "papermill": {
     "duration": 0.008118,
     "end_time": "2025-01-14T16:25:13.258126",
     "exception": false,
     "start_time": "2025-01-14T16:25:13.250008",
     "status": "completed"
    },
    "tags": []
   },
   "outputs": [],
   "source": [
    "#data = {sample: g.load_all_data(os.path.join(BASE_TRAINING_DIR, sample + \".parquet\")) for sample in cfg_metrics.comparison_samples}\n",
    "\n",
    "for algorithm, algo_info in cfg_metrics.metrics.dm_reconstruction.algorithms.items():\n",
    "    for signal_sample in cfg_metrics.metrics.dm_reconstruction.signal_samples:\n",
    "        # sig_info_data = data[signal_sample]\n",
    "        sig_info_data = PT_jet_regression\n",
    "        if not os.path.exists(os.path.join(algo_info.data_dir, signal_sample + \".parquet\")):\n",
    "            continue\n",
    "        sig_data = g.load_all_data(os.path.join(algo_info.data_dir, signal_sample + \".parquet\"))\n",
    "\n",
    "        output_dir = OUTPUT_DIR + 'DM'\n",
    "        evaluator = dme.DecayModeEvaluator(sig_data.dm_multiclass.pred, sig_data.dm_multiclass.target, output_dir, signal_sample, algorithm)\n",
    "        evaluator.save_performance()"
   ]
  },
  {
   "cell_type": "code",
   "execution_count": null,
   "id": "502d0c16",
   "metadata": {
    "papermill": {
     "duration": 0.002965,
     "end_time": "2025-01-14T16:25:13.264351",
     "exception": false,
     "start_time": "2025-01-14T16:25:13.261386",
     "status": "completed"
    },
    "tags": []
   },
   "outputs": [],
   "source": []
  },
  {
   "cell_type": "code",
   "execution_count": null,
   "id": "3228f11b",
   "metadata": {
    "papermill": {
     "duration": 0.003327,
     "end_time": "2025-01-14T16:25:13.270582",
     "exception": false,
     "start_time": "2025-01-14T16:25:13.267255",
     "status": "completed"
    },
    "tags": []
   },
   "outputs": [],
   "source": []
  },
  {
   "cell_type": "code",
   "execution_count": null,
   "id": "e4d90cd0",
   "metadata": {
    "papermill": {
     "duration": 0.002834,
     "end_time": "2025-01-14T16:25:13.276341",
     "exception": false,
     "start_time": "2025-01-14T16:25:13.273507",
     "status": "completed"
    },
    "tags": []
   },
   "outputs": [],
   "source": []
  }
 ],
 "metadata": {
  "kernelspec": {
   "display_name": "Python 3",
   "language": "python",
   "name": "python3"
  },
  "language_info": {
   "codemirror_mode": {
    "name": "ipython",
    "version": 3
   },
   "file_extension": ".py",
   "mimetype": "text/x-python",
   "name": "python",
   "nbconvert_exporter": "python",
   "pygments_lexer": "ipython3",
   "version": "3.10.12"
  },
  "papermill": {
   "default_parameters": {},
   "duration": 6.530994,
   "end_time": "2025-01-14T16:25:13.998314",
   "environment_variables": {},
   "exception": null,
   "input_path": "notebooks/master_evaluator.ipynb",
   "output_path": "notebooks/master_evaluator.ipynb",
   "parameters": {
    "directories": {
     "BASE_DATA_DIR": "/home/hardi/Doc/pyfailid/ml-tau-en-reg/20241002_Training_ntuples_geq20ge",
     "BASE_TRAINING_DIR": "/home/hardi/Doc/pyfailid/ml-tau-en-reg/training-outputs",
     "OUTPUT_DIR": "ml-tau-en-reg/notebooks/z_temp_output/"
    },
    "evaluating": {
     "model_types": {
      "models": [
       "ParticleTransformer"
      ],
      "tasks": [
       "jet_regression"
      ],
      "train_frac": [
       "trainfrac_1e4"
      ],
      "version": [
       "v1"
      ],
      "z_OR_zh_test": [
       "zh_test"
      ]
     },
     "training_types": [
      "20201204_ParT_ntrain_v2"
     ]
    }
   },
   "start_time": "2025-01-14T16:25:07.467320",
   "version": "2.6.0"
  }
 },
 "nbformat": 4,
 "nbformat_minor": 5
}

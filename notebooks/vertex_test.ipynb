{
 "cells": [
  {
   "cell_type": "code",
   "execution_count": 3,
   "id": "e995759f-36a5-48f9-b6c3-979fbd2b5853",
   "metadata": {},
   "outputs": [],
   "source": [
    "from enreg.tools import general as g\n",
    "from enreg.tools.data_management import ntupelizer as nt\n",
    "import matplotlib.pyplot as plt\n",
    "import mplhep as hep\n",
    "import awkward as ak\n",
    "import os\n",
    "import glob\n",
    "from hydra import compose, initialize\n",
    "from omegaconf import OmegaConf\n",
    "import numpy as np\n",
    "\n",
    "\n",
    "with initialize(version_base=None, config_path=\"../enreg/config\", job_name=\"test_app\"):\n",
    "    cfg = compose(config_name=\"ntupelizer\")"
   ]
  },
  {
   "cell_type": "code",
   "execution_count": 6,
   "id": "ab682699-878d-40ca-b2d4-5af2fa0bad41",
   "metadata": {},
   "outputs": [],
   "source": [
    "input_path = \"/local/joosep/clic_edm4hep/2024_03/p8_ee_Z_Ztautau_ecm380/reco_p8_ee_Z_Ztautau_ecm380_400001.root\"\n",
    "tree_path = 'events'\n",
    "branches = cfg.branches\n",
    "arrays = nt.load_single_file_contents(input_path, tree_path, branches)"
   ]
  },
  {
   "cell_type": "code",
   "execution_count": 8,
   "id": "bb7d79eb-4e30-4346-aa27-c16efcc33a79",
   "metadata": {},
   "outputs": [],
   "source": [
    "ev=0\n",
    "vertexCollection=\"PrimaryVertices\"\n",
    "vertex = [\n",
    "    arrays[vertexCollection + \".position.x\"][ev][0],\n",
    "    arrays[vertexCollection + \".position.y\"][ev][0],\n",
    "    arrays[vertexCollection + \".position.z\"][ev][0],\n",
    "]"
   ]
  },
  {
   "cell_type": "code",
   "execution_count": 9,
   "id": "10d705c6-43ce-47e0-b179-e423d7aaeca9",
   "metadata": {},
   "outputs": [
    {
     "data": {
      "text/plain": [
       "[0.0, 0.0, 0.0]"
      ]
     },
     "execution_count": 9,
     "metadata": {},
     "output_type": "execute_result"
    }
   ],
   "source": [
    "vertex"
   ]
  },
  {
   "cell_type": "code",
   "execution_count": null,
   "id": "25288b30-3ff2-46e3-91b9-1c62e941d2dd",
   "metadata": {},
   "outputs": [],
   "source": []
  }
 ],
 "metadata": {
  "kernelspec": {
   "display_name": "Python 3 (ipykernel)",
   "language": "python",
   "name": "python3"
  },
  "language_info": {
   "codemirror_mode": {
    "name": "ipython",
    "version": 3
   },
   "file_extension": ".py",
   "mimetype": "text/x-python",
   "name": "python",
   "nbconvert_exporter": "python",
   "pygments_lexer": "ipython3",
   "version": "3.10.13"
  }
 },
 "nbformat": 4,
 "nbformat_minor": 5
}

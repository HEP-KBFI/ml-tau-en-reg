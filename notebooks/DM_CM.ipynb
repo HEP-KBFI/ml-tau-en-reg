{
 "cells": [
  {
   "cell_type": "code",
   "execution_count": null,
   "id": "038cc922-a195-4941-bce5-dbc4aa8e0694",
   "metadata": {},
   "outputs": [],
   "source": [
    "import os\n",
    "import json\n",
    "import hydra\n",
    "import numpy as np\n",
    "import enreg.tools.general as g\n",
    "import mplhep as hep\n",
    "import awkward as ak\n",
    "import matplotlib.pyplot as plt\n",
    "from omegaconf import DictConfig"
   ]
  },
  {
   "cell_type": "code",
   "execution_count": null,
   "id": "e3580249-c747-4234-8267-c298f826d53d",
   "metadata": {},
   "outputs": [],
   "source": [
    "# hep.style.use(hep.styles.CMS)"
   ]
  },
  {
   "cell_type": "code",
   "execution_count": null,
   "id": "4bc3194a-8d4e-48d9-b010-eeca4adf6273",
   "metadata": {},
   "outputs": [],
   "source": [
    "data_zh = g.load_all_data([\"/scratch/persistent/joosep/ml-tau/20240402_full_stats_merged/zh_test.parquet\"])\n",
    "data_z = g.load_all_data([\"/scratch/persistent/joosep/ml-tau/20240402_full_stats_merged/z_test.parquet\"])\n"
   ]
  },
  {
   "cell_type": "code",
   "execution_count": null,
   "id": "8fb490e4-cf9b-4a74-bb3d-a02a6e0f8012",
   "metadata": {},
   "outputs": [],
   "source": [
    "paths_zh_model = {\n",
    "    \"ParticleTransformer\": \"/local/joosep/ml-tau-en-reg/results/240517_fullstats/dm_multiclass/ParticleTransformer/zh_test.parquet\",\n",
    "    \"LorentzNet\": \"/local/joosep/ml-tau-en-reg/results/240517_fullstats/dm_multiclass/LorentzNet/zh_test.parquet\",\n",
    "    \"SimpleDNN\": \"/local/joosep/ml-tau-en-reg/results/240517_fullstats/dm_multiclass/SimpleDNN/zh_test.parquet\",\n",
    "}\n",
    "\n",
    "data_zh_model = {k: g.load_all_data([v])[\"dm_multiclass\"][\"pred\"] for (k, v) in paths_zh_model.items()}"
   ]
  },
  {
   "cell_type": "code",
   "execution_count": null,
   "id": "8530cf6d-cfea-4e5c-91ff-2d76ef326607",
   "metadata": {},
   "outputs": [],
   "source": [
    "paths_z_model = {\n",
    "    \"ParticleTransformer\": \"/local/joosep/ml-tau-en-reg/results/240517_fullstats/dm_multiclass/ParticleTransformer/z_test.parquet\",\n",
    "    \"LorentzNet\": \"/local/joosep/ml-tau-en-reg/results/240517_fullstats/dm_multiclass/LorentzNet/z_test.parquet\",\n",
    "    \"SimpleDNN\": \"/local/joosep/ml-tau-en-reg/results/240517_fullstats/dm_multiclass/SimpleDNN/z_test.parquet\",\n",
    "}\n",
    "\n",
    "data_z_model = {k: g.load_all_data([v])[\"dm_multiclass\"][\"pred\"] for (k, v) in paths_z_model.items()}"
   ]
  },
  {
   "cell_type": "code",
   "execution_count": null,
   "id": "e09ef30a-a66e-4806-a129-605219ae7385",
   "metadata": {},
   "outputs": [],
   "source": [
    "output_dir = os.path.join(\"../outputs/plots/\")\n",
    "os.makedirs(output_dir, exist_ok=True)"
   ]
  },
  {
   "cell_type": "code",
   "execution_count": null,
   "id": "ed0255a2-b5d6-4931-ac6e-3099645ea84c",
   "metadata": {},
   "outputs": [],
   "source": [
    "dms = np.arange(17)\n",
    "plt.title(\"Actual decaymodes\")\n",
    "plt.hist(\n",
    "    data_zh[\"gen_jet_tau_decaymode\"], bins=dms,\n",
    "    width=0.8\n",
    ")\n",
    "plt.yscale('log')\n",
    "plt.xticks(dms+0.4, dms);\n",
    "plt.savefig(os.path.join(output_dir, \"DM_real\"))"
   ]
  },
  {
   "cell_type": "code",
   "execution_count": null,
   "id": "d03513d3-2d90-4e10-95bc-a0c831edcb2f",
   "metadata": {},
   "outputs": [],
   "source": [
    "dms = np.arange(17)\n",
    "plt.title(\"DeepSet Predicted decaymodes\")\n",
    "plt.hist(\n",
    "    data_zh_model[\"SimpleDNN\"], bins=dms,\n",
    "    width=0.8\n",
    ")\n",
    "plt.yscale('log')\n",
    "plt.xticks(dms+0.4, dms);\n",
    "plt.savefig(os.path.join(output_dir, \"DM_sdnn\"))"
   ]
  },
  {
   "cell_type": "code",
   "execution_count": null,
   "id": "5a1574cd-422e-4652-89ab-48813fa5a7f1",
   "metadata": {},
   "outputs": [],
   "source": [
    "actual_zh = data_zh['gen_jet_tau_decaymode']\n",
    "predicted_zh = data_zh_model[\"SimpleDNN\"]\n",
    "\n",
    "actual_z = data_z['gen_jet_tau_decaymode']\n",
    "predicted_z = data_z_model[\"SimpleDNN\"]\n",
    "\n",
    "DM_labels = ['OneProng0PiZero', 'OneProng1PiZero', 'OneProng2PiZero', 'OneProng3PiZero', 'OneProngNPiZero',\n",
    "             'ThreeProng0PiZero', 'ThreeProng1PiZero', 'ThreeProng2PiZero', 'RareDecayMode']\n",
    "# DM_labels = [0, 1, 2, 3, 4, 10, 11, 12, 15]"
   ]
  },
  {
   "cell_type": "code",
   "execution_count": null,
   "id": "d08e6d2d-f30c-4ca3-801f-7b57dbd15608",
   "metadata": {},
   "outputs": [],
   "source": [
    "from sklearn import metrics\n",
    "import seaborn as sns"
   ]
  },
  {
   "cell_type": "code",
   "execution_count": null,
   "id": "94b539be-43fa-422e-83fe-ec31b004478b",
   "metadata": {},
   "outputs": [],
   "source": [
    "def CM_plot(actual, predicted, title, output_path):\n",
    "    cm = metrics.confusion_matrix(actual, predicted)\n",
    "    cmn = cm.astype('float') / cm.sum(axis=1)[:, np.newaxis]\n",
    "    fig, ax = plt.subplots(figsize=(17,15))\n",
    "    sns.heatmap(cmn, annot=True, fmt='.2f', xticklabels=DM_labels, yticklabels=DM_labels)\n",
    "    plt.ylabel('Actual')\n",
    "    plt.xlabel('Predicted')\n",
    "    plt.title(title)\n",
    "    plt.savefig(output_path)\n",
    "    plt.close(\"all\")\n",
    "    plt.show(block=False)"
   ]
  },
  {
   "cell_type": "code",
   "execution_count": null,
   "id": "310a3fcb-f203-40d1-9948-86f64b738d6a",
   "metadata": {},
   "outputs": [],
   "source": [
    "CM_plot(\n",
    "    actual = actual_zh,\n",
    "    predicted = predicted_zh,\n",
    "    title = 'DeepSet DM Confusion matrix ZH',\n",
    "    output_path = os.path.join(output_dir, \"CM_zh.png\")\n",
    "    )"
   ]
  },
  {
   "cell_type": "code",
   "execution_count": null,
   "id": "9e27f195-26af-4a98-84ef-9dc8ee57f51f",
   "metadata": {},
   "outputs": [],
   "source": [
    "CM_plot(\n",
    "    actual = actual_z,\n",
    "    predicted = predicted_z,\n",
    "    title = 'DeepSet DM Confusion matrix Z',\n",
    "    output_path = os.path.join(output_dir, \"CM_z.png\")\n",
    "    )"
   ]
  },
  {
   "cell_type": "code",
   "execution_count": null,
   "id": "58c2de54-97b7-4d6f-95d8-4c5c2da7c57e",
   "metadata": {},
   "outputs": [],
   "source": []
  }
 ],
 "metadata": {
  "kernelspec": {
   "display_name": "Python 3 (ipykernel)",
   "language": "python",
   "name": "python3"
  },
  "language_info": {
   "codemirror_mode": {
    "name": "ipython",
    "version": 3
   },
   "file_extension": ".py",
   "mimetype": "text/x-python",
   "name": "python",
   "nbconvert_exporter": "python",
   "pygments_lexer": "ipython3",
   "version": "3.10.14"
  }
 },
 "nbformat": 4,
 "nbformat_minor": 5
}

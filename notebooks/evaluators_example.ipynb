{
 "cells": [
  {
   "cell_type": "code",
   "execution_count": 1,
   "id": "8ada3411-7c5a-4223-af79-eb5124d67166",
   "metadata": {},
   "outputs": [],
   "source": [
    "from enreg.tools.metrics import decay_mode_evaluator as dme\n",
    "from enreg.tools.metrics import regression_evaluator as re\n",
    "from enreg.tools.metrics import tagger_evaluator as te\n",
    "from enreg.tools import general as g\n",
    "import os\n",
    "import awkward as ak\n",
    "from hydra import compose, initialize\n",
    "from omegaconf import OmegaConf\n",
    "\n",
    "with initialize(version_base=None, config_path=\"enreg/config/\", job_name=\"test_app\"):\n",
    "    cfg = compose(config_name=\"benchmarking\")"
   ]
  },
  {
   "cell_type": "code",
   "execution_count": 2,
   "id": "b45f4aa6-f747-489c-8d73-a480edd0e0e3",
   "metadata": {},
   "outputs": [],
   "source": [
    "def evaluate_binary_cls(cfg, base_data):\n",
    "    evaluators = []\n",
    "    for algorithm in cfg.comparison_algorithms:\n",
    "        algorithm_pred_dir = os.path.join(cfg.metrics.classifier.base_dir, algorithm)\n",
    "        bkg_data = g.load_all_data([os.path.join(cfg.metrics.classifier.base_dir, algorithm, f\"{bkg_sample}.parquet\") for bkg_sample in cfg.comparison_samples.background_samples])\n",
    "        for signal_sample in cfg.comparison_samples.signal_samples:\n",
    "            sig_info_data = base_data[signal_sample]\n",
    "            bkg_info_data = ak.concatenate([base_data[background_sample] for background_sample in cfg.comparison_samples.background_samples])\n",
    "            sig_data = g.load_all_data(os.path.join(algorithm_pred_dir, f\"{signal_sample}.parquet\"))\n",
    "            \n",
    "            evaluator = te.TaggerEvaluator(\n",
    "                signal_predictions=sig_data.binary_classification.pred,\n",
    "                signal_truth=sig_data.binary_classification.target,\n",
    "                signal_gen_tau_p4=sig_info_data.gen_jet_tau_p4s,\n",
    "                signal_reco_jet_p4=sig_info_data.reco_jet_p4s,\n",
    "                bkg_predictions=bkg_data.binary_classification.pred,\n",
    "                bkg_truth=bkg_data.binary_classification.target,\n",
    "                bkg_gen_jet_p4=bkg_info_data.gen_jet_p4s,\n",
    "                bkg_reco_jet_p4=bkg_info_data.reco_jet_p4s,\n",
    "                cfg=cfg,\n",
    "                sample=signal_sample,\n",
    "                algorithm=algorithm\n",
    "            )\n",
    "            evaluators.append(evaluator)\n",
    "    output_dir = os.path.join(cfg.PLOTS_OUTPUT_DIR, \"binary_classifier\")\n",
    "    tme = te.TaggerMultiEvaluator(output_dir, cfg)\n",
    "    tme.combine_results(evaluators)\n",
    "    tme.save_results()\n",
    "\n",
    "\n",
    "def evaluate_decay_mode_reco(cfg):\n",
    "    for algorithm in cfg.comparison_algorithms:\n",
    "        algorithm_pred_dir = os.path.join(cfg.metrics.dm_reconstruction.base_dir, algorithm)\n",
    "        for signal_sample in cfg.comparison_samples.signal_samples:\n",
    "            print(os.path.join(algorithm_pred_dir, f\"{signal_sample}.parquet\"))\n",
    "            sig_data = g.load_all_data(os.path.join(algorithm_pred_dir, f\"{signal_sample}.parquet\"))\n",
    "    \n",
    "            output_dir = os.path.join(cfg.PLOTS_OUTPUT_DIR, \"dm_reconstruction\")\n",
    "            evaluator = dme.DecayModeEvaluator(\n",
    "                g.one_hot_decoding(sig_data.dm_multiclass.pred), g.one_hot_decoding(sig_data.dm_multiclass.target), output_dir, signal_sample, algorithm)\n",
    "            evaluator.save_performance()\n",
    "\n",
    "\n",
    "def evaluate_jet_regression(cfg):\n",
    "    evaluators = []\n",
    "    for algorithm in cfg.comparison_algorithms:\n",
    "        algorithm_pred_dir = os.path.join(cfg.metrics.regression.base_dir, algorithm)\n",
    "        for signal_sample in cfg.comparison_samples.signal_samples:\n",
    "            sig_data = g.load_all_data(os.path.join(algorithm_pred_dir, f\"{signal_sample}.parquet\"))\n",
    "    \n",
    "            evaluator = re.RegressionEvaluator(sig_data.jet_regression.pred, sig_data.jet_regression.target, cfg, signal_sample.split(\"_\")[0], algorithm)\n",
    "            evaluators.append(evaluator)\n",
    "    output_dir = os.path.join(cfg.PLOTS_OUTPUT_DIR, \"jet_regression\")\n",
    "    rme = re.RegressionMultiEvaluator(output_dir, cfg, signal_sample.split(\"_\")[0])\n",
    "    rme.combine_results(evaluators)\n",
    "    rme.save()"
   ]
  },
  {
   "cell_type": "code",
   "execution_count": null,
   "id": "43842524-b3f1-4424-81e7-2449e95fa133",
   "metadata": {},
   "outputs": [
    {
     "name": "stdout",
     "output_type": "stream",
     "text": [
      "[1/1] Loading from /scratch/persistent/laurits/ml-tau/20241002_Training_ntuples_geq20gev/z_test.parquet\n",
      "Input data loaded\n",
      "[1/1] Loading from /scratch/persistent/laurits/ml-tau/20241002_Training_ntuples_geq20gev/qq_test.parquet\n"
     ]
    }
   ],
   "source": [
    "all_samples = cfg.comparison_samples.signal_samples + cfg.comparison_samples.background_samples\n",
    "base_data = {sample: g.load_all_data(os.path.join(cfg.NTUPLE_BASE_DIR, f\"{sample}.parquet\")) for sample in all_samples}\n",
    "\n",
    "if 'binary_classification' in cfg.comparison_tasks:\n",
    "    evaluate_binary_cls(cfg, base_data)\n",
    "if 'dm_multiclass' in cfg.comparison_tasks:\n",
    "    evaluate_decay_mode_reco(cfg)\n",
    "if 'jet_regression' in cfg.comparison_tasks:\n",
    "    evaluate_jet_regression(cfg)"
   ]
  },
  {
   "cell_type": "code",
   "execution_count": null,
   "id": "47828d0a-50c7-404c-b3ce-ce9ab1d81b26",
   "metadata": {},
   "outputs": [],
   "source": []
  }
 ],
 "metadata": {
  "kernelspec": {
   "display_name": "Python 3 (ipykernel)",
   "language": "python",
   "name": "python3"
  },
  "language_info": {
   "codemirror_mode": {
    "name": "ipython",
    "version": 3
   },
   "file_extension": ".py",
   "mimetype": "text/x-python",
   "name": "python",
   "nbconvert_exporter": "python",
   "pygments_lexer": "ipython3",
   "version": "3.11.9"
  }
 },
 "nbformat": 4,
 "nbformat_minor": 5
}

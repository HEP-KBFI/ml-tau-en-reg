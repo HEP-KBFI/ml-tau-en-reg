{
 "cells": [
  {
   "cell_type": "code",
   "execution_count": null,
   "id": "6b0903f4-04aa-4794-b993-a1992f67d657",
   "metadata": {},
   "outputs": [],
   "source": [
    "import os\n",
    "import tqdm\n",
    "import glob\n",
    "import numpy as np\n",
    "import mplhep as hep\n",
    "import awkward as ak\n",
    "import boost_histogram as bh\n",
    "import matplotlib.pyplot as plt\n",
    "from enreg.tools.models import HPS\n",
    "from enreg.tools import general as g\n",
    "from enreg.tools.metrics import regression_evaluator as re\n",
    "from hydra import compose, initialize\n",
    "from omegaconf import OmegaConf\n",
    "\n",
    "with initialize(version_base=None, config_path=\"../enreg/config/\", job_name=\"test_app\"):\n",
    "    cfg = compose(config_name=\"benchmarking\")\n",
    "\n",
    "hep.style.use(hep.styles.CMS)"
   ]
  },
  {
   "cell_type": "code",
   "execution_count": null,
   "id": "d377e6d9-7725-485a-847f-957f67ca8e27",
   "metadata": {},
   "outputs": [],
   "source": [
    "ML_data = g.load_all_data(\"/scratch/persistent/laurits/ml-tau/20240924_lowered_recoPtCut/zh_test.parquet\")"
   ]
  },
  {
   "cell_type": "code",
   "execution_count": null,
   "id": "9a279d13-0061-4473-b584-7b01866bc05b",
   "metadata": {},
   "outputs": [],
   "source": [
    "gen_pt = g.reinitialize_p4(ML_data.gen_jet_tau_p4s).pt"
   ]
  },
  {
   "cell_type": "code",
   "execution_count": null,
   "id": "b246d4d6-1056-4d08-859b-bdc0e3d6ce8f",
   "metadata": {},
   "outputs": [],
   "source": [
    "DMs = g.get_reduced_decaymodes(ML_data.gen_jet_tau_decaymode)"
   ]
  },
  {
   "cell_type": "code",
   "execution_count": null,
   "id": "65b7bf6d-72fe-4995-9263-705c50de2b08",
   "metadata": {},
   "outputs": [],
   "source": [
    "bin_edges = cfg.metrics.regression.ratio_plot.bin_edges.zh"
   ]
  },
  {
   "cell_type": "code",
   "execution_count": null,
   "id": "b88392f4-2072-49d3-90b5-ad3f581fdb65",
   "metadata": {},
   "outputs": [],
   "source": [
    "binned_gen_tau_pt = np.digitize(gen_pt, bins=np.array(bin_edges))"
   ]
  },
  {
   "cell_type": "code",
   "execution_count": null,
   "id": "57187b96-47e5-4763-8dce-5092fbf1bed9",
   "metadata": {},
   "outputs": [],
   "source": [
    "binned_dms = [DMs[binned_gen_tau_pt == bin_idx] for bin_idx in\n",
    "                         range(1, len(bin_edges))]"
   ]
  },
  {
   "cell_type": "code",
   "execution_count": null,
   "id": "5263e994-69e6-40ba-ba7a-c270fa53c9f2",
   "metadata": {},
   "outputs": [],
   "source": [
    "def calculate_bin_centers(edges: np.array) -> np.array:\n",
    "    bin_widths = np.array([edges[i + 1] - edges[i] for i in range(len(edges) - 1)])\n",
    "    bin_centers = []\n",
    "    for i in range(len(edges) - 1):\n",
    "        bin_centers.append(edges[i] + (bin_widths[i] / 2))\n",
    "    return np.array(bin_centers), bin_widths / 2\n",
    "\n",
    "bin_centers, bin_widths = calculate_bin_centers(bin_edges)"
   ]
  },
  {
   "cell_type": "code",
   "execution_count": null,
   "id": "b836d99e-190d-4051-94d8-eac18e272178",
   "metadata": {},
   "outputs": [],
   "source": [
    "all_dms = set(DMs)\n",
    "dm_fracs = {dm: [] for dm in all_dms}\n",
    "for bin_values in binned_dms:\n",
    "    total = len(bin_values)\n",
    "    for dm in all_dms:\n",
    "        dm_fracs[dm].append(sum(bin_values == dm)/total)\n",
    "    "
   ]
  },
  {
   "cell_type": "code",
   "execution_count": null,
   "id": "a4bfaf44-887d-4c3f-a058-ffb41569c3b0",
   "metadata": {},
   "outputs": [],
   "source": [
    "all_dms"
   ]
  },
  {
   "cell_type": "code",
   "execution_count": null,
   "id": "5d7676b9-9ac9-44ca-9b10-b1a0a16ce567",
   "metadata": {},
   "outputs": [],
   "source": [
    "COLORS = {\n",
    "    0: \"magenta\",\n",
    "    1: \"orange\",\n",
    "    2: \"blue\",\n",
    "    10: \"green\",\n",
    "    11: \"gray\",\n",
    "    15: \"red\"\n",
    "}"
   ]
  },
  {
   "cell_type": "code",
   "execution_count": null,
   "id": "ccb7b932-04ca-43d5-b8e8-edca27e0841d",
   "metadata": {},
   "outputs": [],
   "source": [
    "bottom = np.zeros_like(bin_centers)\n",
    "for dm in all_dms:\n",
    "    plt.bar(bin_centers, dm_fracs[dm], align='center', width=2*bin_widths, label=f\"DM{dm}\", bottom=bottom, color=COLORS[dm])\n",
    "    bottom += dm_fracs[dm]\n",
    "plt.legend(frameon=True)\n",
    "plt.xlabel(r\"$p_T^{gen-\\tau}$\")\n",
    "plt.ylabel(\"Relative fraction\")\n",
    "plt.xlim(0, 175)\n",
    "plt.ylim(0, 1)\n",
    "plt.savefig(\"/home/laurits/dm_vs_pTbin.pdf\", format='pdf', bbox_inches='tight')"
   ]
  },
  {
   "cell_type": "code",
   "execution_count": null,
   "id": "8d839f84-c842-4b7e-8566-4e20d8fa3593",
   "metadata": {},
   "outputs": [],
   "source": [
    "for dm in all_dms:\n",
    "    print(f\"DM{dm}\", f\"{(sum(DMs == dm) / len(DMs)) * 0.648:.4f}\")"
   ]
  },
  {
   "cell_type": "code",
   "execution_count": null,
   "id": "a9470eac-459c-432c-940c-bf560b8ac071",
   "metadata": {},
   "outputs": [],
   "source": []
  }
 ],
 "metadata": {
  "kernelspec": {
   "display_name": "Python 3 (ipykernel)",
   "language": "python",
   "name": "python3"
  },
  "language_info": {
   "codemirror_mode": {
    "name": "ipython",
    "version": 3
   },
   "file_extension": ".py",
   "mimetype": "text/x-python",
   "name": "python",
   "nbconvert_exporter": "python",
   "pygments_lexer": "ipython3",
   "version": "3.11.9"
  }
 },
 "nbformat": 4,
 "nbformat_minor": 5
}

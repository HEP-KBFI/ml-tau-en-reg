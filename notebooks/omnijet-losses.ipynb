{
 "cells": [
  {
   "cell_type": "code",
   "execution_count": null,
   "id": "4ef533fe-9519-4777-959c-a4e1bab9bb72",
   "metadata": {},
   "outputs": [],
   "source": [
    "import glob\n",
    "import pandas\n",
    "import matplotlib.pyplot as plt\n",
    "import seaborn\n",
    "import json\n",
    "import numpy as np\n",
    "import os\n",
    "\n",
    "import mplhep as hep\n",
    "hep.style.use(\"CMS\")"
   ]
  },
  {
   "cell_type": "code",
   "execution_count": null,
   "id": "9f4f9923-b82c-416a-8bdf-d567b43679e9",
   "metadata": {},
   "outputs": [],
   "source": [
    "losses = {\n",
    "    \"ParticleTransformer\": {},\n",
    "    \"OmniParT\": {},\n",
    "    \"OmniFeedforward\": {},\n",
    "    \"LorentzNet\": {},\n",
    "    \"SimpleDNN\": {},\n",
    "}\n",
    "\n",
    "for path in sorted(glob.glob(\"../training-outputs/240812_3vars/*/*/*/history.json\")):\n",
    "    spl = path.split(\"/\")\n",
    "    model = spl[-2]\n",
    "    train_size = float(spl[-4].split(\"_\")[1])\n",
    "    print(model, train_size)\n",
    "\n",
    "    losses[model][train_size] = json.load(open(path))"
   ]
  },
  {
   "cell_type": "code",
   "execution_count": null,
   "id": "504ca525-29fe-4d41-a270-b0ce60238709",
   "metadata": {},
   "outputs": [],
   "source": [
    "best_val_losses = {model: [np.min(losses[model][k][\"losses_validation\"]) for k in losses[model].keys()] for model in losses.keys()}\n",
    "train_fracs = {model: [k for k in losses[model].keys()] for model in losses.keys()}"
   ]
  },
  {
   "cell_type": "code",
   "execution_count": null,
   "id": "cb209cc1-bd74-4ebf-bf02-538d62b523ee",
   "metadata": {},
   "outputs": [],
   "source": [
    "plt.plot(train_fracs[\"SimpleDNN\"], best_val_losses[\"SimpleDNN\"], marker=\"o\", label=\"DeepSet\")\n",
    "plt.plot(train_fracs[\"LorentzNet\"], best_val_losses[\"LorentzNet\"], marker=\"o\", label=\"LorentzNet\")\n",
    "plt.plot(train_fracs[\"ParticleTransformer\"], best_val_losses[\"ParticleTransformer\"], marker=\"o\", label=\"ParT\")\n",
    "plt.plot(train_fracs[\"OmniParT\"], best_val_losses[\"OmniParT\"], marker=\"o\", label=\"OmniParT\")\n",
    "plt.plot(train_fracs[\"OmniFeedforward\"], best_val_losses[\"OmniFeedforward\"], marker=\"o\", label=\"OmniDeepSet\")\n",
    "plt.xscale(\"log\")\n",
    "plt.yscale(\"log\")\n",
    "plt.legend(loc=\"best\")\n",
    "plt.xlabel(\"train dataset fraction\")\n",
    "plt.ylabel(\"jet reg validation loss\")\n",
    "plt.title(\"240812_3vars\")"
   ]
  },
  {
   "cell_type": "code",
   "execution_count": null,
   "id": "4ebedde9-3ec7-4899-ba38-6c2efe8f6018",
   "metadata": {},
   "outputs": [],
   "source": []
  },
  {
   "cell_type": "code",
   "execution_count": null,
   "id": "b6477b81-017d-47f7-993f-1284b204b23c",
   "metadata": {},
   "outputs": [],
   "source": []
  }
 ],
 "metadata": {
  "kernelspec": {
   "display_name": "Python 3 (ipykernel)",
   "language": "python",
   "name": "python3"
  },
  "language_info": {
   "codemirror_mode": {
    "name": "ipython",
    "version": 3
   },
   "file_extension": ".py",
   "mimetype": "text/x-python",
   "name": "python",
   "nbconvert_exporter": "python",
   "pygments_lexer": "ipython3",
   "version": "3.11.9"
  }
 },
 "nbformat": 4,
 "nbformat_minor": 5
}

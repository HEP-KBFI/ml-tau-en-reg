{
 "cells": [
  {
   "cell_type": "code",
   "execution_count": null,
   "id": "5f323ff5-7f7c-4093-8674-3b8bb75d027f",
   "metadata": {},
   "outputs": [],
   "source": [
    "from tensorflow.python.summary.summary_iterator import summary_iterator\n",
    "import glob\n",
    "import pandas\n",
    "import matplotlib.pyplot as plt\n",
    "import seaborn"
   ]
  },
  {
   "cell_type": "code",
   "execution_count": null,
   "id": "1bd9b1b8-618e-4ea9-ac7b-b00dc974bb7c",
   "metadata": {},
   "outputs": [],
   "source": [
    "outdir = \"../outputs/plots/\""
   ]
  },
  {
   "cell_type": "code",
   "execution_count": null,
   "id": "c0ab9978-b4cb-4842-ad21-4ee4493812d0",
   "metadata": {},
   "outputs": [],
   "source": [
    "def extract_tb_tag(tb_path, tag=\"Loss/valid\"):\n",
    "    data = summary_iterator(tb_path)\n",
    "\n",
    "    df = pandas.DataFrame()\n",
    "    vals = []\n",
    "    for e in data:\n",
    "        for v in e.summary.value:\n",
    "            if v.tag == tag:\n",
    "                vals.append(v.simple_value)\n",
    "    df[tag] = vals\n",
    "    return df"
   ]
  },
  {
   "cell_type": "code",
   "execution_count": null,
   "id": "caa35de3-6fe4-40cd-97d0-c2b01efac37f",
   "metadata": {},
   "outputs": [],
   "source": [
    "tb_logs = glob.glob(\"../training-outputs/240515_fullstats//**/events.out.tfevents.*\", recursive=True)\n",
    "tb_logs"
   ]
  },
  {
   "cell_type": "code",
   "execution_count": null,
   "id": "c29cdf7c-f00d-4e89-8add-c98773693abb",
   "metadata": {},
   "outputs": [],
   "source": [
    "#get the training and model types \n",
    "tb_logs_names = [tuple(name.split(\"/\")[3:5]) for name in tb_logs]\n",
    "tb_logs_names"
   ]
  },
  {
   "cell_type": "code",
   "execution_count": null,
   "id": "f2eb7c2d-99fa-4ecc-aeda-3303c423fa6d",
   "metadata": {},
   "outputs": [],
   "source": [
    "tb_logs_dict = {k: v for (k, v) in zip(tb_logs_names, tb_logs)}"
   ]
  },
  {
   "cell_type": "code",
   "execution_count": null,
   "id": "e14506f8-d0b2-43f7-bc64-deb7cf67ca99",
   "metadata": {},
   "outputs": [],
   "source": [
    "loss_train = {k: extract_tb_tag(path, \"Loss/train\") for k, path in tb_logs_dict.items()} \n",
    "loss_valid = {k: extract_tb_tag(path, \"Loss/valid\") for k, path in tb_logs_dict.items()} "
   ]
  },
  {
   "cell_type": "code",
   "execution_count": null,
   "id": "d7f463ff-b7c5-495a-af00-e3ad8739c0b8",
   "metadata": {},
   "outputs": [],
   "source": [
    "training_type = \"jet_regression\"\n",
    "training_title = \"$p_T$ regression\"\n",
    "ylim_train = 0.02\n",
    "ylim_valid = 0.02\n",
    "\n",
    "# training_type = \"dm_multiclass\"\n",
    "# training_title = \"Decay mode classification\"\n",
    "# ylim_train = 0.5\n",
    "# ylim_valid = 0.05"
   ]
  },
  {
   "cell_type": "code",
   "execution_count": null,
   "id": "cf00ab31-268e-414c-ac15-12af2305bc71",
   "metadata": {},
   "outputs": [],
   "source": [
    "plt.plot(loss_train[(training_type, \"ParticleTransformer\")], label=\"ParticleTransformer\")\n",
    "plt.plot(loss_train[(training_type, \"LorentzNet\")], label=\"LorentzNet\")\n",
    "plt.plot(loss_train[(training_type, \"SimpleDNN\")], label=\"SimpleDNN\")\n",
    "plt.ylim(0.0, ylim_train)\n",
    "plt.legend(loc=\"best\")\n",
    "plt.ylabel(\"Training loss\")\n",
    "plt.xlabel(\"Training epoch\")\n",
    "plt.title(training_title)\n",
    "plt.savefig(outdir + \"/train_loss_{}.pdf\".format(training_type))"
   ]
  },
  {
   "cell_type": "code",
   "execution_count": null,
   "id": "c89ca3d2-b471-4e1c-aff4-19b90fb6d37c",
   "metadata": {},
   "outputs": [],
   "source": [
    "plt.plot(loss_valid[(\"jet_regression\", \"ParticleTransformer\")], label=\"ParticleTransformer\")\n",
    "plt.plot(loss_valid[(\"jet_regression\", \"LorentzNet\")], label=\"LorentzNet\")\n",
    "plt.plot(loss_valid[(\"jet_regression\", \"SimpleDNN\")], label=\"SimpleDNN\")\n",
    "plt.ylim(0.0, ylim_valid)\n",
    "plt.legend(loc=\"best\")\n",
    "plt.ylabel(\"Validation loss\")\n",
    "plt.xlabel(\"Training epoch\")\n",
    "plt.savefig(outdir + \"/valid_loss_{}.pdf\".format(training_type))"
   ]
  },
  {
   "cell_type": "code",
   "execution_count": null,
   "id": "d5b00ef4-9f9f-4bae-851c-7a0c4eff29a8",
   "metadata": {},
   "outputs": [],
   "source": []
  }
 ],
 "metadata": {
  "kernelspec": {
   "display_name": "Python 3 (ipykernel)",
   "language": "python",
   "name": "python3"
  },
  "language_info": {
   "codemirror_mode": {
    "name": "ipython",
    "version": 3
   },
   "file_extension": ".py",
   "mimetype": "text/x-python",
   "name": "python",
   "nbconvert_exporter": "python",
   "pygments_lexer": "ipython3",
   "version": "3.10.14"
  }
 },
 "nbformat": 4,
 "nbformat_minor": 5
}

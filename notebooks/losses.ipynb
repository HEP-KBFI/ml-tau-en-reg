{
 "cells": [
  {
   "cell_type": "code",
   "execution_count": null,
   "id": "5f323ff5-7f7c-4093-8674-3b8bb75d027f",
   "metadata": {},
   "outputs": [],
   "source": [
    "import glob\n",
    "import pandas\n",
    "import matplotlib.pyplot as plt\n",
    "import seaborn\n",
    "import json\n",
    "import numpy as np"
   ]
  },
  {
   "cell_type": "code",
   "execution_count": null,
   "id": "1bd9b1b8-618e-4ea9-ac7b-b00dc974bb7c",
   "metadata": {},
   "outputs": [],
   "source": [
    "outdir = \"../outputs/plots/\""
   ]
  },
  {
   "cell_type": "code",
   "execution_count": null,
   "id": "8d540de4-fc08-4479-af4e-42ba271ede79",
   "metadata": {},
   "outputs": [],
   "source": [
    "!ls /local/joosep/ml-tau-en-reg/results"
   ]
  },
  {
   "cell_type": "code",
   "execution_count": null,
   "id": "1556b385-63f1-4f8b-9fa7-e6aeb58094ab",
   "metadata": {},
   "outputs": [],
   "source": [
    "!ls /local/joosep/ml-tau-en-reg/results/240608_PT_num_layers_4_all/240608_PT_num_layers_4_all_v*/*/*/history.json"
   ]
  },
  {
   "cell_type": "code",
   "execution_count": null,
   "id": "7ceb4775-dcb3-4d8b-9037-dfdd28d33edc",
   "metadata": {},
   "outputs": [],
   "source": [
    "losses = {\n",
    "    \"jet_regression\": {\"LorentzNet\": [], \"ParticleTransformer\": [], \"SimpleDNN\": []},\n",
    "    \"dm_multiclass\": {\"LorentzNet\": [], \"ParticleTransformer\": [], \"SimpleDNN\": []},\n",
    "}\n",
    "\n",
    "for path in sorted(glob.glob(\"/local/joosep/ml-tau-en-reg/results/240608_PT_num_layers_4_all/*/*/*/history.json\")):\n",
    "    spl = path.split(\"/\")\n",
    "    model = spl[-2]\n",
    "    target = spl[-3]\n",
    "    print(model, target)\n",
    "    losses[target][model].append(json.load(open(path)))"
   ]
  },
  {
   "cell_type": "code",
   "execution_count": null,
   "id": "ad7b6960-b64f-4f1f-9406-182c77fad74e",
   "metadata": {},
   "outputs": [],
   "source": [
    "losses_avg = {}\n",
    "losses_std = {}\n",
    "for target in [\"dm_multiclass\", \"jet_regression\"]:\n",
    "    losses_avg[target] = {}\n",
    "    losses_std[target] = {}\n",
    "    for model in [\"LorentzNet\", \"ParticleTransformer\", \"SimpleDNN\"]:\n",
    "        losses_avg[target][model] = {}\n",
    "        losses_std[target][model] = {}\n",
    "        for loss_name in [\"losses_train\", \"losses_validation\"]:\n",
    "            loss = np.array([l[loss_name] for l in losses[target][model]])\n",
    "            losses_avg[target][model][loss_name] = np.mean(loss, axis=0)\n",
    "            losses_std[target][model][loss_name] = np.std(loss, axis=0)"
   ]
  },
  {
   "cell_type": "code",
   "execution_count": null,
   "id": "cf00ab31-268e-414c-ac15-12af2305bc71",
   "metadata": {},
   "outputs": [],
   "source": [
    "training_type = \"dm_multiclass\"\n",
    "training_title = \"Decay mode classification\"\n",
    "\n",
    "fig = plt.figure()\n",
    "ax = plt.axes()\n",
    "\n",
    "for model in [\"SimpleDNN\", \"LorentzNet\", \"ParticleTransformer\"]: \n",
    "    c = plt.plot(losses_avg[training_type][model][\"losses_train\"], ls=\"--\", lw=1)[0]\n",
    "    plt.plot(losses_avg[training_type][model][\"losses_validation\"], label=model, color=c.get_color())\n",
    "    plt.fill_between(\n",
    "        range(100),\n",
    "        losses_avg[training_type][model][\"losses_train\"] - losses_std[training_type][model][\"losses_train\"],\n",
    "        losses_avg[training_type][model][\"losses_train\"] + losses_std[training_type][model][\"losses_train\"],\n",
    "        color=c.get_color(),\n",
    "        alpha=0.5\n",
    "    )\n",
    "    \n",
    "    plt.fill_between(\n",
    "        range(100),\n",
    "        losses_avg[training_type][model][\"losses_validation\"] - losses_std[training_type][model][\"losses_validation\"],\n",
    "        losses_avg[training_type][model][\"losses_validation\"] + losses_std[training_type][model][\"losses_validation\"],\n",
    "        color=c.get_color(),\n",
    "        alpha=0.5\n",
    "    )\n",
    "    \n",
    "plt.ylim(0.2, 0.4)\n",
    "leg1 = plt.legend(loc=1, frameon=False)\n",
    "ax.add_artist(leg1)\n",
    "plt.ylabel(\"Loss\")\n",
    "plt.xlabel(\"Training epoch\")\n",
    "plt.title(training_title)\n",
    "\n",
    "import matplotlib.lines as mlines\n",
    "handles = [mlines.Line2D([], [], color=\"black\", ls=\"--\"), mlines.Line2D([], [], color=\"black\", ls=\"-\")]\n",
    "ax.legend(handles, ['training', 'validation'], loc=3, frameon=False)\n",
    "plt.savefig(outdir + \"/loss_{}.pdf\".format(training_type))"
   ]
  },
  {
   "cell_type": "code",
   "execution_count": null,
   "id": "25f128b0-bc3b-4764-a4cb-f4d4a184f9b4",
   "metadata": {},
   "outputs": [],
   "source": [
    "training_type = \"jet_regression\"\n",
    "training_title = \"Momentum regression\"\n",
    "\n",
    "fig = plt.figure()\n",
    "ax = plt.axes()\n",
    "\n",
    "for model in [\"SimpleDNN\", \"LorentzNet\", \"ParticleTransformer\"]: \n",
    "    c = plt.plot(losses_avg[training_type][model][\"losses_train\"], ls=\"--\", lw=1)[0]\n",
    "    plt.plot(losses_avg[training_type][model][\"losses_validation\"], label=model, color=c.get_color())\n",
    "    plt.fill_between(\n",
    "        range(100),\n",
    "        losses_avg[training_type][model][\"losses_train\"] - losses_std[training_type][model][\"losses_train\"],\n",
    "        losses_avg[training_type][model][\"losses_train\"] + losses_std[training_type][model][\"losses_train\"],\n",
    "        color=c.get_color(),\n",
    "        alpha=0.5\n",
    "    )\n",
    "    \n",
    "    plt.fill_between(\n",
    "        range(100),\n",
    "        losses_avg[training_type][model][\"losses_validation\"] - losses_std[training_type][model][\"losses_validation\"],\n",
    "        losses_avg[training_type][model][\"losses_validation\"] + losses_std[training_type][model][\"losses_validation\"],\n",
    "        color=c.get_color(),\n",
    "        alpha=0.5\n",
    "    )\n",
    "    \n",
    "plt.ylim(0.0, 0.02)\n",
    "leg1 = plt.legend(loc=1, frameon=False)\n",
    "ax.add_artist(leg1)\n",
    "plt.ylabel(\"Loss\")\n",
    "plt.xlabel(\"Training epoch\")\n",
    "plt.title(training_title)\n",
    "\n",
    "import matplotlib.lines as mlines\n",
    "handles = [mlines.Line2D([], [], color=\"black\", ls=\"--\"), mlines.Line2D([], [], color=\"black\", ls=\"-\")]\n",
    "ax.legend(handles, ['training', 'validation'], loc=3, frameon=False)\n",
    "plt.savefig(outdir + \"/loss_{}.pdf\".format(training_type))"
   ]
  },
  {
   "cell_type": "code",
   "execution_count": null,
   "id": "dc1ea824-9bf8-44bd-b360-5f4ef9a4fc87",
   "metadata": {},
   "outputs": [],
   "source": [
    "training_type = \"jet_regression\"\n",
    "\n",
    "def extract_losses(training_type):\n",
    "    vals_loss = []\n",
    "    vals_loss_std = []\n",
    "    \n",
    "    for model in [\"SimpleDNN\", \"LorentzNet\", \"ParticleTransformer\"]:\n",
    "        bestidx = np.argmin(losses_avg[\"jet_regression\"][model][\"losses_validation\"])\n",
    "        best_loss = losses_avg[training_type][model][\"losses_validation\"][bestidx]\n",
    "        best_loss_std = losses_std[training_type][model][\"losses_validation\"][bestidx]\n",
    "    \n",
    "        vals_loss.append(best_loss)\n",
    "        vals_loss_std.append(best_loss_std)\n",
    "    \n",
    "    vals_loss = np.array(vals_loss)\n",
    "    vals_loss_std = np.array(vals_loss_std)\n",
    "\n",
    "    return vals_loss, vals_loss_std\n",
    "\n",
    "vals_loss_jr, vals_loss_std_jr = extract_losses(\"jet_regression\")\n",
    "vals_loss_dm, vals_loss_std_dm = extract_losses(\"dm_multiclass\")\n",
    "\n",
    "xticks = np.arange(3)\n",
    "plt.bar(xticks-0.2, vals_loss_jr/vals_loss_jr[0], yerr=vals_loss_std_jr/vals_loss_jr[0], width=0.4, label=\"Momentum regression\")\n",
    "plt.bar(xticks+0.2, vals_loss_dm/vals_loss_dm[0], yerr=vals_loss_std_dm/vals_loss_dm[0], width=0.4, label=\"Decay mode classification\")\n",
    "\n",
    "plt.legend(frameon=False)\n",
    "plt.xticks(xticks, [\"DeepSet\", \"LorentzNet\", \"ParticleTransformer\"])\n",
    "plt.ylabel(\"Best validation loss, relative to DeepSet\")\n",
    "plt.ylim(0,1.2)\n",
    "plt.axhline(1.0, color=\"black\", ls=\"--\", lw=0.5)"
   ]
  },
  {
   "cell_type": "code",
   "execution_count": null,
   "id": "723e6506-8508-4c40-b6af-76ab9e413f3a",
   "metadata": {},
   "outputs": [],
   "source": []
  }
 ],
 "metadata": {
  "kernelspec": {
   "display_name": "Python 3 (ipykernel)",
   "language": "python",
   "name": "python3"
  },
  "language_info": {
   "codemirror_mode": {
    "name": "ipython",
    "version": 3
   },
   "file_extension": ".py",
   "mimetype": "text/x-python",
   "name": "python",
   "nbconvert_exporter": "python",
   "pygments_lexer": "ipython3",
   "version": "3.10.14"
  }
 },
 "nbformat": 4,
 "nbformat_minor": 5
}

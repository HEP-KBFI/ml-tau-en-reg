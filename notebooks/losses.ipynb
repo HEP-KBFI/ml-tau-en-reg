{
 "cells": [
  {
   "cell_type": "code",
   "execution_count": null,
   "id": "5f323ff5-7f7c-4093-8674-3b8bb75d027f",
   "metadata": {},
   "outputs": [],
   "source": [
    "import glob\n",
    "import pandas\n",
    "import matplotlib.pyplot as plt\n",
    "import seaborn\n",
    "import json"
   ]
  },
  {
   "cell_type": "code",
   "execution_count": null,
   "id": "1bd9b1b8-618e-4ea9-ac7b-b00dc974bb7c",
   "metadata": {},
   "outputs": [],
   "source": [
    "outdir = \"../outputs/plots/\""
   ]
  },
  {
   "cell_type": "code",
   "execution_count": null,
   "id": "8d540de4-fc08-4479-af4e-42ba271ede79",
   "metadata": {},
   "outputs": [],
   "source": [
    "!ls /local/joosep/ml-tau-en-reg/results"
   ]
  },
  {
   "cell_type": "code",
   "execution_count": null,
   "id": "c02e1198-6332-42da-b889-b30de72c32b7",
   "metadata": {},
   "outputs": [],
   "source": [
    "losses = {}\n",
    "losses[\"jet_regression\"] = {\n",
    "    \"LorentzNet\": json.load(open(\"/local/joosep/ml-tau-en-reg/results/240524_cosinescheduler/jet_regression/LorentzNet/history.json\")),\n",
    "    \"SimpleDNN\": json.load(open(\"/local/joosep/ml-tau-en-reg/results/240524_cosinescheduler/jet_regression/SimpleDNN/history.json\")),\n",
    "    \"ParticleTransformer\": json.load(open(\"/local/joosep/ml-tau-en-reg/results/240524_cosinescheduler/jet_regression/ParticleTransformer/history.json\")),\n",
    "}\n",
    "\n",
    "losses[\"dm_multiclass\"] = {\n",
    "    \"LorentzNet\": json.load(open(\"/local/joosep/ml-tau-en-reg/results/240524_cosinescheduler/dm_multiclass/LorentzNet/history.json\")),\n",
    "    \"SimpleDNN\": json.load(open(\"/local/joosep/ml-tau-en-reg/results/240524_cosinescheduler/dm_multiclass/SimpleDNN/history.json\")),\n",
    "    \"ParticleTransformer\": json.load(open(\"/local/joosep/ml-tau-en-reg/results/240528_PT_num_layers_4/dm_multiclass/ParticleTransformer/history.json\")),\n",
    "}"
   ]
  },
  {
   "cell_type": "code",
   "execution_count": null,
   "id": "d7f463ff-b7c5-495a-af00-e3ad8739c0b8",
   "metadata": {},
   "outputs": [],
   "source": [
    "# training_type = \"jet_regression\"\n",
    "# training_title = \"$p_T$ regression\"\n",
    "# ylim = 0.02\n",
    "\n",
    "training_type = \"dm_multiclass\"\n",
    "training_title = \"Decay mode classification\"\n",
    "ylim = 1.0\n"
   ]
  },
  {
   "cell_type": "code",
   "execution_count": null,
   "id": "cf00ab31-268e-414c-ac15-12af2305bc71",
   "metadata": {},
   "outputs": [],
   "source": [
    "c = plt.plot(losses[training_type][\"ParticleTransformer\"][\"losses_train\"], ls=\"--\", lw=1)[0]\n",
    "plt.plot(losses[training_type][\"ParticleTransformer\"][\"losses_validation\"], label=\"ParticleTransformer\", color=c.get_color())\n",
    "\n",
    "c = plt.plot(losses[training_type][\"LorentzNet\"][\"losses_train\"], ls=\"--\", lw=1)[0]\n",
    "plt.plot(losses[training_type][\"LorentzNet\"][\"losses_validation\"], label=\"LorentzNet\", color=c.get_color())\n",
    "\n",
    "c = plt.plot(losses[training_type][\"SimpleDNN\"][\"losses_train\"], ls=\"--\", lw=1)[0]\n",
    "plt.plot(losses[training_type][\"SimpleDNN\"][\"losses_validation\"], label=\"DeepSet\", color=c.get_color())\n",
    "\n",
    "plt.ylim(0.0, ylim)\n",
    "plt.legend(loc=\"best\", title=\"Validation\")\n",
    "plt.ylabel(\"Loss\")\n",
    "plt.xlabel(\"Training epoch\")\n",
    "plt.title(training_title)\n",
    "plt.savefig(outdir + \"/loss_{}.pdf\".format(training_type))"
   ]
  },
  {
   "cell_type": "code",
   "execution_count": null,
   "id": "1105abe0-3857-4446-a475-7fe7e6a727c5",
   "metadata": {},
   "outputs": [],
   "source": []
  }
 ],
 "metadata": {
  "kernelspec": {
   "display_name": "Python 3 (ipykernel)",
   "language": "python",
   "name": "python3"
  },
  "language_info": {
   "codemirror_mode": {
    "name": "ipython",
    "version": 3
   },
   "file_extension": ".py",
   "mimetype": "text/x-python",
   "name": "python",
   "nbconvert_exporter": "python",
   "pygments_lexer": "ipython3",
   "version": "3.10.14"
  }
 },
 "nbformat": 4,
 "nbformat_minor": 5
}

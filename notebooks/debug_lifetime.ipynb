{
 "cells": [
  {
   "cell_type": "code",
   "execution_count": 1,
   "id": "c5952662-2578-4da0-9f8c-c57c5fc5d097",
   "metadata": {},
   "outputs": [],
   "source": [
    "import os\n",
    "import json\n",
    "import hydra\n",
    "import numpy as np\n",
    "import enreg.tools.general as g\n",
    "import mplhep as hep\n",
    "import awkward as ak\n",
    "import matplotlib.pyplot as plt\n",
    "from omegaconf import DictConfig"
   ]
  },
  {
   "cell_type": "code",
   "execution_count": 2,
   "id": "b0f7849e-c879-436f-8da3-850f7178c6c1",
   "metadata": {},
   "outputs": [],
   "source": [
    "hep.style.use(hep.styles.CMS)"
   ]
  },
  {
   "cell_type": "code",
   "execution_count": 3,
   "id": "8b23b42c-d2b8-456d-9a35-4d26983887ae",
   "metadata": {},
   "outputs": [],
   "source": [
    "c = 299792458000  # mm/s\n",
    "tau_lifetime = 2.903e-13  # s\n",
    "tau_mass = 1.77  # GeV"
   ]
  },
  {
   "cell_type": "code",
   "execution_count": 4,
   "id": "5fffd4a4-dae5-4e96-9433-327a233781d7",
   "metadata": {},
   "outputs": [],
   "source": [
    "def plot(values, title, output_path, xmin, xmax, print_rms=True, nbins=30):\n",
    "    fig, ax = plt.subplots()\n",
    "    rms = np.sqrt(ak.sum(values**2) * (1 / (len(values))))\n",
    "    bins = np.linspace(xmin, xmax, num=30)\n",
    "    hist, bin_edges = np.histogram(values, bins=bins)\n",
    "    hist = hist / ak.sum(hist)\n",
    "    hep.histplot(hist, bin_edges)\n",
    "    plt.xlabel(\"mm\", loc=\"center\")\n",
    "    plt.title(title)\n",
    "    if print_rms:\n",
    "        textstr = f\"RMS={'{:0.3e}'.format(rms)}\"\n",
    "        props = {\"boxstyle\": \"round\", \"facecolor\": \"white\", \"alpha\": 0.5}\n",
    "        ax.text(0.6, 0.8, textstr, transform=ax.transAxes, fontsize=16, verticalalignment=\"top\", bbox=props)\n",
    "    plt.xlim((xmin, xmax))\n",
    "    plt.savefig(output_path)\n",
    "    plt.close(\"all\")"
   ]
  },
  {
   "cell_type": "code",
   "execution_count": 5,
   "id": "3f925461-d95e-4da9-ae22-f087af92e283",
   "metadata": {},
   "outputs": [],
   "source": [
    "def process_data(data, output_dir):\n",
    "    tau_mask = data[\"gen_jet_tau_decaymode\"] > 0\n",
    "    data = data[tau_mask]\n",
    "    gen_jet_tau_p4s = g.reinitialize_p4(data[\"gen_jet_full_tau_p4s\"])\n",
    "    gen_jet_tau_gamma = np.sqrt(1 + (gen_jet_tau_p4s.p / tau_mass) ** 2)\n",
    "    # gen_jet_tau_gamma = 1 / np.sqrt(1 - (gen_jet_tau_p4s.p / tau_mass) ** 2)\n",
    "    expected_traveldistance = gen_jet_tau_gamma * c * tau_lifetime\n",
    "    track_mask = abs(data[\"reco_cand_charge\"]) > 0\n",
    "    # tau_descendant_mask = data[\"reco_cand_matched_gen_energy\"] / g.reinitialize_p4(data[\"reco_cand_p4s\"]).energy > 0.1\n",
    "    suitable_cands_mask = track_mask\n",
    "    # gen jet distance from the decay vertex\n",
    "    gen_DV_dist = (\n",
    "        np.sqrt(\n",
    "            (data[\"gen_jet_tau_decay_vertex_x\"]-data[\"reco_cand_PV_x\"]) ** 2\n",
    "            + (data[\"gen_jet_tau_decay_vertex_y\"]-data[\"reco_cand_PV_y\"]) ** 2\n",
    "            + (data[\"gen_jet_tau_decay_vertex_z\"]-data[\"reco_cand_PV_z\"]) ** 2\n",
    "        )\n",
    "        / expected_traveldistance\n",
    "    )\n",
    "    gen_DV_dist_ = np.sqrt(\n",
    "        (data[\"gen_jet_tau_decay_vertex_x\"]-data[\"reco_cand_PV_x\"]) ** 2\n",
    "        + (data[\"gen_jet_tau_decay_vertex_y\"]-data[\"reco_cand_PV_y\"]) ** 2\n",
    "        + (data[\"gen_jet_tau_decay_vertex_z\"]-data[\"reco_cand_PV_z\"]) ** 2\n",
    "    )\n",
    "    gen_lifetime = gen_DV_dist_ / (gen_jet_tau_gamma * c)\n",
    "\n",
    "    gen_jet_tau_pt = g.reinitialize_p4(data[\"gen_jet_full_tau_p4s\"]).pt\n",
    "    \n",
    "    # reco tau distance from reco primary vertex ?\n",
    "    reco_pca_dist_from_reco_PV = np.sqrt(\n",
    "        (data[\"reco_cand_PV_x\"][suitable_cands_mask] - data[\"reco_cand_PCA_x\"][suitable_cands_mask]) ** 2\n",
    "        + (data[\"reco_cand_PV_y\"][suitable_cands_mask] - data[\"reco_cand_PCA_y\"][suitable_cands_mask]) ** 2\n",
    "        + (data[\"reco_cand_PV_z\"][suitable_cands_mask] - data[\"reco_cand_PCA_z\"][suitable_cands_mask]) ** 2\n",
    "    )\n",
    "    # Reco PV distance from gen PV\n",
    "    reco_PV_from_gen_PV = np.sqrt(\n",
    "        data[\"reco_cand_PV_x\"][suitable_cands_mask] ** 2\n",
    "        + data[\"reco_cand_PV_y\"][suitable_cands_mask] ** 2\n",
    "        + data[\"reco_cand_PV_z\"][suitable_cands_mask] ** 2\n",
    "    )\n",
    "    # ?\n",
    "    reshaped_gen_DV_x = ak.ones_like((data[\"reco_cand_PCA_x\"][suitable_cands_mask])) * data[\"gen_jet_tau_decay_vertex_x\"]\n",
    "    reshaped_gen_DV_y = ak.ones_like((data[\"reco_cand_PCA_y\"][suitable_cands_mask])) * data[\"gen_jet_tau_decay_vertex_y\"]\n",
    "    reshaped_gen_DV_z = ak.ones_like((data[\"reco_cand_PCA_z\"][suitable_cands_mask])) * data[\"gen_jet_tau_decay_vertex_z\"]\n",
    "    reco_PCA_from_gen_DV = np.sqrt(\n",
    "        (data[\"reco_cand_PCA_x\"][suitable_cands_mask] - reshaped_gen_DV_x) ** 2\n",
    "        + (data[\"reco_cand_PCA_y\"][suitable_cands_mask] - reshaped_gen_DV_y) ** 2\n",
    "        + (data[\"reco_cand_PCA_z\"][suitable_cands_mask] - reshaped_gen_DV_z) ** 2\n",
    "    )\n",
    "    reco_cand_pt = g.reinitialize_p4(data[\"reco_cand_p4s\"][suitable_cands_mask]).pt\n",
    "    high_pt_mask = reco_cand_pt > 20\n",
    "    \n",
    "    #Plottins starts here\n",
    "    plot(\n",
    "        values=ak.flatten(gen_jet_tau_pt, axis=-1),\n",
    "        title=\"gen_jet_tau_pt\",\n",
    "        output_path=os.path.join(output_dir, \"gen_jet_tau_pt.png\"),\n",
    "        xmin=0,\n",
    "        xmax=380,\n",
    "    )\n",
    "    \n",
    "    plot(\n",
    "        values=ak.flatten(expected_traveldistance, axis=-1),\n",
    "        title=\"expected_traveldistance\",\n",
    "        output_path=os.path.join(output_dir, \"expected_traveldistance.png\"),\n",
    "        xmin=0,\n",
    "        xmax=20,\n",
    "    )\n",
    "    plot(\n",
    "        values=ak.flatten(gen_jet_tau_gamma, axis=-1),\n",
    "        title=\"gamma\",\n",
    "        output_path=os.path.join(output_dir, \"gamma.png\"),\n",
    "        xmin=0,\n",
    "        xmax=100,\n",
    "    )\n",
    "    plot(\n",
    "        values=ak.flatten(gen_DV_dist_, axis=-1),\n",
    "        title=\"gen_DV_dist_\",\n",
    "        output_path=os.path.join(output_dir, \"gen_DV_dist_.png\"),\n",
    "        xmin=0,\n",
    "        xmax=20,\n",
    "    )\n",
    "    plot(\n",
    "        values=ak.flatten(gen_lifetime, axis=-1),\n",
    "        title=\"gen_lifetime\",\n",
    "        output_path=os.path.join(output_dir, \"gen_lifetime.png\"),\n",
    "        xmin=0,\n",
    "        xmax=3e-11,\n",
    "    )\n",
    "    plot(\n",
    "        values=ak.flatten(data[\"reco_cand_z0\"][suitable_cands_mask], axis=-1),\n",
    "        title=\"Reco Cand z0\",\n",
    "        output_path=os.path.join(output_dir, \"reco_cand_z0.png\"),\n",
    "        xmin=-2e-1,\n",
    "        xmax=2e-1,\n",
    "    )\n",
    "    plot(\n",
    "        values=ak.flatten(data[\"reco_cand_d0\"][suitable_cands_mask], axis=-1),\n",
    "        title=\"Reco Cand d0\",\n",
    "        output_path=os.path.join(output_dir, \"reco_cand_d0.png\"),\n",
    "        xmin=-2e-1,\n",
    "        xmax=2e-1,\n",
    "    )\n",
    "    plot(\n",
    "        values=ak.flatten(data[\"reco_cand_PV_x\"][suitable_cands_mask], axis=-1),\n",
    "        title=\"Reco Cand PV_x\",\n",
    "        output_path=os.path.join(output_dir, \"PV_x.png\"),\n",
    "        xmin=-5e-5,\n",
    "        xmax=5e-5,\n",
    "    )\n",
    "    plot(\n",
    "        values=ak.flatten(data[\"reco_cand_PV_y\"][suitable_cands_mask], axis=-1),\n",
    "        title=\"Reco Cand PV_y\",\n",
    "        output_path=os.path.join(output_dir, \"PV_y.png\"),\n",
    "        xmin=-5e-7,\n",
    "        xmax=5e-7,\n",
    "    )\n",
    "    plot(\n",
    "        values=ak.flatten(data[\"reco_cand_PV_z\"][suitable_cands_mask], axis=-1),\n",
    "        title=\"Reco Cand PV_z\",\n",
    "        output_path=os.path.join(output_dir, \"PV_z.png\"),\n",
    "        xmin=-1e-2,\n",
    "        xmax=1e-2,\n",
    "    )\n",
    "    plot(\n",
    "        values=ak.flatten(gen_DV_dist, axis=-1),\n",
    "        title=\"Gen_DV_from_PV_wrt_expected\",\n",
    "        output_path=os.path.join(output_dir, \"gen_DV_dist.png\"),\n",
    "        xmin=-0,\n",
    "        xmax=20,\n",
    "        print_rms=True,\n",
    "    )\n",
    "    plot(\n",
    "        values=ak.flatten(reco_PV_from_gen_PV, axis=-1),\n",
    "        title=\"Reco_PV_from_gen_PV\",\n",
    "        output_path=os.path.join(output_dir, \"reco_PV_from_gen_PV.png\"),\n",
    "        xmin=-1e-1,\n",
    "        xmax=1e-1,\n",
    "        print_rms=True,\n",
    "    )\n",
    "\n",
    "    plot(\n",
    "        values=ak.flatten(reco_PCA_from_gen_DV, axis=-1),\n",
    "        title=\"reco_PCA_from_gen_DV\",\n",
    "        output_path=os.path.join(output_dir, \"reco_PCA_from_gen_DV.png\"),\n",
    "        xmin=0,\n",
    "        xmax=1e1,\n",
    "        print_rms=True,\n",
    "    )\n",
    "\n",
    "    plot(\n",
    "        values=ak.flatten(reco_PCA_from_gen_DV[high_pt_mask], axis=-1),\n",
    "        title=\"reco_PCA_from_gen_DV high_pt\",\n",
    "        output_path=os.path.join(output_dir, \"reco_PCA_from_gen_DV_high_pT.png\"),\n",
    "        xmin=0,\n",
    "        xmax=1e1,\n",
    "        print_rms=True,\n",
    "    )\n",
    "    plot(\n",
    "        values=ak.flatten(reco_PCA_from_gen_DV[~high_pt_mask], axis=-1),\n",
    "        title=\"reco_PCA_from_gen_DV low pT\",\n",
    "        output_path=os.path.join(output_dir, \"reco_PCA_from_gen_DV_low_pT.png\"),\n",
    "        xmin=0,\n",
    "        xmax=1e1,\n",
    "        print_rms=True,\n",
    "    )\n",
    "\n",
    "    plot(\n",
    "        values=ak.flatten(reco_pca_dist_from_reco_PV / expected_traveldistance, axis=-1),\n",
    "        title=\"Reco PCA from reco PV wrt. expectation\",\n",
    "        output_path=os.path.join(output_dir, \"reco_PCA_from_PV.png\"),\n",
    "        xmin=0,\n",
    "        xmax=0.3,\n",
    "    )\n",
    "    plot(\n",
    "        values=ak.flatten(data[\"gen_jet_tau_decay_vertex_x\"], axis=-1),\n",
    "        title=\"Gen_DV_x\",\n",
    "        output_path=os.path.join(output_dir, \"Gen_DV_x.png\"),\n",
    "        xmin=-1,\n",
    "        xmax=1,\n",
    "        print_rms=False,\n",
    "    )\n",
    "    plot(\n",
    "        values=ak.flatten(data[\"gen_jet_tau_decay_vertex_y\"], axis=-1),\n",
    "        title=\" Gen_DV_y\",\n",
    "        output_path=os.path.join(output_dir, \"Gen_DV_y.png\"),\n",
    "        xmin=-1,\n",
    "        xmax=1,\n",
    "        print_rms=False,\n",
    "    )\n",
    "    plot(\n",
    "        values=ak.flatten(data[\"gen_jet_tau_decay_vertex_z\"], axis=-1),\n",
    "        title=\"Gen_DV_z\",\n",
    "        output_path=os.path.join(output_dir, \"Gen_DV_z.png\"),\n",
    "        xmin=-1,\n",
    "        xmax=1,\n",
    "        print_rms=False,\n",
    "    )\n",
    "    distribution_in_tau_direction(gen_jet_tau_p4s, data, suitable_cands_mask, output_dir)"
   ]
  },
  {
   "cell_type": "code",
   "execution_count": 6,
   "id": "ca45e3a4-88c3-4015-8198-edf18b3e5c6c",
   "metadata": {},
   "outputs": [],
   "source": [
    "def distribution_in_tau_direction(gen_jet_tau_p4s, data, suitable_cands_mask, output_dir):\n",
    "    reshaped_tau_vec_x = ak.ones_like((data[\"reco_cand_PCA_x\"][suitable_cands_mask])) * gen_jet_tau_p4s.px\n",
    "    reshaped_tau_vec_y = ak.ones_like((data[\"reco_cand_PCA_y\"][suitable_cands_mask])) * gen_jet_tau_p4s.py\n",
    "    reshaped_tau_vec_z = ak.ones_like((data[\"reco_cand_PCA_z\"][suitable_cands_mask])) * gen_jet_tau_p4s.pz\n",
    "    tau_vec = np.array(\n",
    "        (\n",
    "            ak.flatten(reshaped_tau_vec_x, axis=-1),\n",
    "            ak.flatten(reshaped_tau_vec_y, axis=-1),\n",
    "            ak.flatten(reshaped_tau_vec_z, axis=-1),\n",
    "        )\n",
    "    ).T\n",
    "    reshaped_gen_DV_x = ak.ones_like((data[\"reco_cand_PCA_x\"][suitable_cands_mask])) * data[\"gen_jet_tau_decay_vertex_x\"]\n",
    "    reshaped_gen_DV_y = ak.ones_like((data[\"reco_cand_PCA_y\"][suitable_cands_mask])) * data[\"gen_jet_tau_decay_vertex_y\"]\n",
    "    reshaped_gen_DV_z = ak.ones_like((data[\"reco_cand_PCA_z\"][suitable_cands_mask])) * data[\"gen_jet_tau_decay_vertex_z\"]\n",
    "    pca_diff_vec = np.array(\n",
    "        (\n",
    "            ak.flatten((data[\"reco_cand_PCA_x\"][suitable_cands_mask] - reshaped_gen_DV_x), axis=-1),\n",
    "            ak.flatten((data[\"reco_cand_PCA_y\"][suitable_cands_mask] - reshaped_gen_DV_y), axis=-1),\n",
    "            ak.flatten((data[\"reco_cand_PCA_z\"][suitable_cands_mask] - reshaped_gen_DV_z), axis=-1),\n",
    "        )\n",
    "    ).T\n",
    "    pv_diff_vec = np.array(\n",
    "        (\n",
    "            ak.flatten(data[\"reco_cand_PCA_x\"][suitable_cands_mask], axis=-1),\n",
    "            ak.flatten(data[\"reco_cand_PCA_y\"][suitable_cands_mask], axis=-1),\n",
    "            ak.flatten(data[\"reco_cand_PCA_z\"][suitable_cands_mask], axis=-1),\n",
    "        )\n",
    "    ).T\n",
    "\n",
    "    # In tau direction\n",
    "    PCA_diff_tau_direction = []\n",
    "    for pcadv, tv in zip(pca_diff_vec, tau_vec):\n",
    "        PCA_diff_tau_direction.append(np.dot(pcadv, tv) / np.linalg.norm(tv))\n",
    "\n",
    "    PV_diff_tau_direction = []\n",
    "    for PVdtd, tv in zip(pv_diff_vec, tau_vec):\n",
    "        PV_diff_tau_direction.append(np.dot(PVdtd, tv) / np.linalg.norm(tv))\n",
    "    plot(\n",
    "        values=np.array(PCA_diff_tau_direction),\n",
    "        title=\"PCA_diff_tau_direction\",\n",
    "        output_path=os.path.join(output_dir, \"PCA_diff_tau_direction.png\"),\n",
    "        xmin=-1e1,\n",
    "        xmax=1e1,\n",
    "        print_rms=False,\n",
    "    )\n",
    "    plot(\n",
    "        values=np.array(PV_diff_tau_direction),\n",
    "        title=\"PV_diff_tau_direction\",\n",
    "        output_path=os.path.join(output_dir, \"PV_diff_tau_direction.png\"),\n",
    "        xmin=-1e-1,\n",
    "        xmax=1e-1,\n",
    "        print_rms=False,\n",
    "    )\n",
    "\n",
    "    PV_diff_perp_tau_x = []\n",
    "    PV_diff_perp_tau_y = []\n",
    "    PCA_diff_perp_tau_x = []\n",
    "    PCA_diff_perp_tau_y = []\n",
    "    for tv, pvdv, pcadv in zip(tau_vec, pv_diff_vec, pca_diff_vec):\n",
    "        perp_x = np.random.randn(3)\n",
    "        # Perpendicular to tau direction\n",
    "        perp_x -= perp_x.dot(tv) * tv / np.linalg.norm(tv) ** 2  # First\n",
    "        perp_y = np.cross(tv, perp_x)  # Second\n",
    "        PV_diff_perp_tau_x.append(np.dot(pvdv, perp_x) / np.linalg.norm(perp_x))\n",
    "        PV_diff_perp_tau_y.append(np.dot(pvdv, perp_y) / np.linalg.norm(perp_y))\n",
    "        PCA_diff_perp_tau_x.append(np.dot(pcadv, perp_x) / np.linalg.norm(perp_x))\n",
    "        PCA_diff_perp_tau_y.append(np.dot(pcadv, perp_y) / np.linalg.norm(perp_y))\n",
    "\n",
    "    plot(\n",
    "        values=np.array(PV_diff_perp_tau_x),\n",
    "        title=\"PV_diff_perp_tau_x\",\n",
    "        output_path=os.path.join(output_dir, \"PV_diff_perp_tau_x.png\"),\n",
    "        xmin=-1e-1,\n",
    "        xmax=1e-1,\n",
    "        print_rms=True,\n",
    "    )\n",
    "    # print(\"PV_x <= 0.02\", np.sum(abs(np.array(PV_diff_perp_tau_x)) <= 0.02))\n",
    "    plot(\n",
    "        values=np.array(PV_diff_perp_tau_y),\n",
    "        title=\"PV_diff_perp_tau_y\",\n",
    "        output_path=os.path.join(output_dir, \"PV_diff_perp_tau_y.png\"),\n",
    "        xmin=-1e-1,\n",
    "        xmax=1e-1,\n",
    "        print_rms=True,\n",
    "    )\n",
    "    # print(\"PV_y <= 0.02\", np.sum(abs(np.array(PV_diff_perp_tau_y)) <= 0.02))\n",
    "    plot(\n",
    "        values=np.array(PCA_diff_perp_tau_x),\n",
    "        title=\"PCA_diff_perp_tau_x\",\n",
    "        output_path=os.path.join(output_dir, \"PCA_diff_perp_tau_x.png\"),\n",
    "        xmin=-5e-1,\n",
    "        xmax=5e-1,\n",
    "        print_rms=True,\n",
    "    )\n",
    "    print(\"PCA_x <= 0.02\", np.sum(abs(np.array(PCA_diff_perp_tau_x)) <= 0.02) / len(PCA_diff_perp_tau_x))\n",
    "    plot(\n",
    "        values=np.array(PCA_diff_perp_tau_y),\n",
    "        title=\"PCA_diff_perp_tau_y\",\n",
    "        output_path=os.path.join(output_dir, \"PCA_diff_perp_tau_y.png\"),\n",
    "        xmin=-5e-1,\n",
    "        xmax=5e-1,\n",
    "        print_rms=True,\n",
    "    )\n",
    "    print(\"PCA_y <= 0.02\", np.sum(abs(np.array(PCA_diff_perp_tau_y)) <= 0.02) / len(PCA_diff_perp_tau_y))\n",
    "\n",
    "    for i in range(len(PCA_diff_perp_tau_y)):\n",
    "        dict_ = {\n",
    "            \"L_PCA_DV_diff\": PCA_diff_tau_direction[i],\n",
    "            \"P_PCA_DV_diff_x\": PCA_diff_perp_tau_x[i],\n",
    "            \"P_PCA_DV_diff_y\": PCA_diff_perp_tau_y[i],\n",
    "            \"L_PV_diff\": PV_diff_tau_direction[i],\n",
    "            \"P_PV_diff_x\": PV_diff_perp_tau_x[i],\n",
    "            \"P_PV_diff_y\": PV_diff_perp_tau_y[i],\n",
    "        }\n",
    "        print(json.dumps(dict_, indent=4))\n",
    "        print(\"----------------------------------------------------\")\n",
    "        if i > 5:\n",
    "            break\n",
    "\n",
    "    outlier_mask = np.array(PCA_diff_perp_tau_y) > 2\n",
    "    cand_p4s = ak.flatten(g.reinitialize_p4(data[\"reco_cand_p4s\"][suitable_cands_mask]))[outlier_mask]\n",
    "    print(\"++++++++++++++++++++++++++++++++++++++++++++++++++++++++++++++++++++++++++\")\n",
    "    for i in range(len(cand_p4s)):\n",
    "        print(f\"pT: {cand_p4s.pt[i]} \\t eta: {cand_p4s.eta[i]}\")\n",
    "        if i > 5:\n",
    "            break"
   ]
  },
  {
   "cell_type": "code",
   "execution_count": 8,
   "id": "14a7883b-becb-4dab-8ec5-f1c51a2ae3f5",
   "metadata": {},
   "outputs": [
    {
     "name": "stdout",
     "output_type": "stream",
     "text": [
      "[1/100] Loading from /home/laurits/ENREG/ntuples/20240423_PV_test/Z_Ztautau/reco_p8_ee_Z_Ztautau_ecm380_402417.parquet\n",
      "[2/100] Loading from /home/laurits/ENREG/ntuples/20240423_PV_test/Z_Ztautau/reco_p8_ee_Z_Ztautau_ecm380_403828.parquet\n",
      "[3/100] Loading from /home/laurits/ENREG/ntuples/20240423_PV_test/Z_Ztautau/reco_p8_ee_Z_Ztautau_ecm380_401505.parquet\n",
      "[4/100] Loading from /home/laurits/ENREG/ntuples/20240423_PV_test/Z_Ztautau/reco_p8_ee_Z_Ztautau_ecm380_401762.parquet\n",
      "[5/100] Loading from /home/laurits/ENREG/ntuples/20240423_PV_test/Z_Ztautau/reco_p8_ee_Z_Ztautau_ecm380_404122.parquet\n",
      "[6/100] Loading from /home/laurits/ENREG/ntuples/20240423_PV_test/Z_Ztautau/reco_p8_ee_Z_Ztautau_ecm380_402194.parquet\n",
      "[7/100] Loading from /home/laurits/ENREG/ntuples/20240423_PV_test/Z_Ztautau/reco_p8_ee_Z_Ztautau_ecm380_400841.parquet\n",
      "[8/100] Loading from /home/laurits/ENREG/ntuples/20240423_PV_test/Z_Ztautau/reco_p8_ee_Z_Ztautau_ecm380_404447.parquet\n",
      "[9/100] Loading from /home/laurits/ENREG/ntuples/20240423_PV_test/Z_Ztautau/reco_p8_ee_Z_Ztautau_ecm380_401324.parquet\n",
      "[10/100] Loading from /home/laurits/ENREG/ntuples/20240423_PV_test/Z_Ztautau/reco_p8_ee_Z_Ztautau_ecm380_400274.parquet\n",
      "[11/100] Loading from /home/laurits/ENREG/ntuples/20240423_PV_test/Z_Ztautau/reco_p8_ee_Z_Ztautau_ecm380_400063.parquet\n",
      "[12/100] Loading from /home/laurits/ENREG/ntuples/20240423_PV_test/Z_Ztautau/reco_p8_ee_Z_Ztautau_ecm380_404949.parquet\n",
      "[13/100] Loading from /home/laurits/ENREG/ntuples/20240423_PV_test/Z_Ztautau/reco_p8_ee_Z_Ztautau_ecm380_402261.parquet\n",
      "[14/100] Loading from /home/laurits/ENREG/ntuples/20240423_PV_test/Z_Ztautau/reco_p8_ee_Z_Ztautau_ecm380_404381.parquet\n",
      "[15/100] Loading from /home/laurits/ENREG/ntuples/20240423_PV_test/Z_Ztautau/reco_p8_ee_Z_Ztautau_ecm380_403078.parquet\n",
      "[16/100] Loading from /home/laurits/ENREG/ntuples/20240423_PV_test/Z_Ztautau/reco_p8_ee_Z_Ztautau_ecm380_400731.parquet\n",
      "[17/100] Loading from /home/laurits/ENREG/ntuples/20240423_PV_test/Z_Ztautau/reco_p8_ee_Z_Ztautau_ecm380_404305.parquet\n",
      "[18/100] Loading from /home/laurits/ENREG/ntuples/20240423_PV_test/Z_Ztautau/reco_p8_ee_Z_Ztautau_ecm380_404151.parquet\n",
      "[19/100] Loading from /home/laurits/ENREG/ntuples/20240423_PV_test/Z_Ztautau/reco_p8_ee_Z_Ztautau_ecm380_403440.parquet\n",
      "[20/100] Loading from /home/laurits/ENREG/ntuples/20240423_PV_test/Z_Ztautau/reco_p8_ee_Z_Ztautau_ecm380_401896.parquet\n",
      "[21/100] Loading from /home/laurits/ENREG/ntuples/20240423_PV_test/Z_Ztautau/reco_p8_ee_Z_Ztautau_ecm380_400903.parquet\n",
      "[22/100] Loading from /home/laurits/ENREG/ntuples/20240423_PV_test/Z_Ztautau/reco_p8_ee_Z_Ztautau_ecm380_401285.parquet\n",
      "[23/100] Loading from /home/laurits/ENREG/ntuples/20240423_PV_test/Z_Ztautau/reco_p8_ee_Z_Ztautau_ecm380_401025.parquet\n",
      "[24/100] Loading from /home/laurits/ENREG/ntuples/20240423_PV_test/Z_Ztautau/reco_p8_ee_Z_Ztautau_ecm380_402423.parquet\n",
      "[25/100] Loading from /home/laurits/ENREG/ntuples/20240423_PV_test/Z_Ztautau/reco_p8_ee_Z_Ztautau_ecm380_403098.parquet\n",
      "[26/100] Loading from /home/laurits/ENREG/ntuples/20240423_PV_test/Z_Ztautau/reco_p8_ee_Z_Ztautau_ecm380_400213.parquet\n",
      "[27/100] Loading from /home/laurits/ENREG/ntuples/20240423_PV_test/Z_Ztautau/reco_p8_ee_Z_Ztautau_ecm380_403790.parquet\n",
      "[28/100] Loading from /home/laurits/ENREG/ntuples/20240423_PV_test/Z_Ztautau/reco_p8_ee_Z_Ztautau_ecm380_403414.parquet\n",
      "[29/100] Loading from /home/laurits/ENREG/ntuples/20240423_PV_test/Z_Ztautau/reco_p8_ee_Z_Ztautau_ecm380_404709.parquet\n",
      "[30/100] Loading from /home/laurits/ENREG/ntuples/20240423_PV_test/Z_Ztautau/reco_p8_ee_Z_Ztautau_ecm380_404739.parquet\n",
      "[31/100] Loading from /home/laurits/ENREG/ntuples/20240423_PV_test/Z_Ztautau/reco_p8_ee_Z_Ztautau_ecm380_404604.parquet\n",
      "[32/100] Loading from /home/laurits/ENREG/ntuples/20240423_PV_test/Z_Ztautau/reco_p8_ee_Z_Ztautau_ecm380_400153.parquet\n",
      "[33/100] Loading from /home/laurits/ENREG/ntuples/20240423_PV_test/Z_Ztautau/reco_p8_ee_Z_Ztautau_ecm380_404879.parquet\n",
      "[34/100] Loading from /home/laurits/ENREG/ntuples/20240423_PV_test/Z_Ztautau/reco_p8_ee_Z_Ztautau_ecm380_400613.parquet\n",
      "[35/100] Loading from /home/laurits/ENREG/ntuples/20240423_PV_test/Z_Ztautau/reco_p8_ee_Z_Ztautau_ecm380_404735.parquet\n",
      "[36/100] Loading from /home/laurits/ENREG/ntuples/20240423_PV_test/Z_Ztautau/reco_p8_ee_Z_Ztautau_ecm380_404036.parquet\n",
      "[37/100] Loading from /home/laurits/ENREG/ntuples/20240423_PV_test/Z_Ztautau/reco_p8_ee_Z_Ztautau_ecm380_400494.parquet\n",
      "[38/100] Loading from /home/laurits/ENREG/ntuples/20240423_PV_test/Z_Ztautau/reco_p8_ee_Z_Ztautau_ecm380_401934.parquet\n",
      "[39/100] Loading from /home/laurits/ENREG/ntuples/20240423_PV_test/Z_Ztautau/reco_p8_ee_Z_Ztautau_ecm380_402773.parquet\n",
      "[40/100] Loading from /home/laurits/ENREG/ntuples/20240423_PV_test/Z_Ztautau/reco_p8_ee_Z_Ztautau_ecm380_404491.parquet\n",
      "[41/100] Loading from /home/laurits/ENREG/ntuples/20240423_PV_test/Z_Ztautau/reco_p8_ee_Z_Ztautau_ecm380_403280.parquet\n",
      "[42/100] Loading from /home/laurits/ENREG/ntuples/20240423_PV_test/Z_Ztautau/reco_p8_ee_Z_Ztautau_ecm380_400828.parquet\n",
      "[43/100] Loading from /home/laurits/ENREG/ntuples/20240423_PV_test/Z_Ztautau/reco_p8_ee_Z_Ztautau_ecm380_403779.parquet\n",
      "[44/100] Loading from /home/laurits/ENREG/ntuples/20240423_PV_test/Z_Ztautau/reco_p8_ee_Z_Ztautau_ecm380_403786.parquet\n",
      "[45/100] Loading from /home/laurits/ENREG/ntuples/20240423_PV_test/Z_Ztautau/reco_p8_ee_Z_Ztautau_ecm380_401685.parquet\n",
      "[46/100] Loading from /home/laurits/ENREG/ntuples/20240423_PV_test/Z_Ztautau/reco_p8_ee_Z_Ztautau_ecm380_401830.parquet\n",
      "[47/100] Loading from /home/laurits/ENREG/ntuples/20240423_PV_test/Z_Ztautau/reco_p8_ee_Z_Ztautau_ecm380_402522.parquet\n",
      "[48/100] Loading from /home/laurits/ENREG/ntuples/20240423_PV_test/Z_Ztautau/reco_p8_ee_Z_Ztautau_ecm380_400847.parquet\n",
      "[49/100] Loading from /home/laurits/ENREG/ntuples/20240423_PV_test/Z_Ztautau/reco_p8_ee_Z_Ztautau_ecm380_401096.parquet\n",
      "[50/100] Loading from /home/laurits/ENREG/ntuples/20240423_PV_test/Z_Ztautau/reco_p8_ee_Z_Ztautau_ecm380_401435.parquet\n",
      "[51/100] Loading from /home/laurits/ENREG/ntuples/20240423_PV_test/Z_Ztautau/reco_p8_ee_Z_Ztautau_ecm380_404042.parquet\n",
      "[52/100] Loading from /home/laurits/ENREG/ntuples/20240423_PV_test/Z_Ztautau/reco_p8_ee_Z_Ztautau_ecm380_404311.parquet\n",
      "[53/100] Loading from /home/laurits/ENREG/ntuples/20240423_PV_test/Z_Ztautau/reco_p8_ee_Z_Ztautau_ecm380_400929.parquet\n",
      "[54/100] Loading from /home/laurits/ENREG/ntuples/20240423_PV_test/Z_Ztautau/reco_p8_ee_Z_Ztautau_ecm380_401706.parquet\n",
      "[55/100] Loading from /home/laurits/ENREG/ntuples/20240423_PV_test/Z_Ztautau/reco_p8_ee_Z_Ztautau_ecm380_401581.parquet\n",
      "[56/100] Loading from /home/laurits/ENREG/ntuples/20240423_PV_test/Z_Ztautau/reco_p8_ee_Z_Ztautau_ecm380_403771.parquet\n",
      "[57/100] Loading from /home/laurits/ENREG/ntuples/20240423_PV_test/Z_Ztautau/reco_p8_ee_Z_Ztautau_ecm380_404312.parquet\n",
      "[58/100] Loading from /home/laurits/ENREG/ntuples/20240423_PV_test/Z_Ztautau/reco_p8_ee_Z_Ztautau_ecm380_400228.parquet\n",
      "[59/100] Loading from /home/laurits/ENREG/ntuples/20240423_PV_test/Z_Ztautau/reco_p8_ee_Z_Ztautau_ecm380_401886.parquet\n",
      "[60/100] Loading from /home/laurits/ENREG/ntuples/20240423_PV_test/Z_Ztautau/reco_p8_ee_Z_Ztautau_ecm380_400072.parquet\n",
      "[61/100] Loading from /home/laurits/ENREG/ntuples/20240423_PV_test/Z_Ztautau/reco_p8_ee_Z_Ztautau_ecm380_400251.parquet\n",
      "[62/100] Loading from /home/laurits/ENREG/ntuples/20240423_PV_test/Z_Ztautau/reco_p8_ee_Z_Ztautau_ecm380_402609.parquet\n",
      "[63/100] Loading from /home/laurits/ENREG/ntuples/20240423_PV_test/Z_Ztautau/reco_p8_ee_Z_Ztautau_ecm380_402249.parquet\n",
      "[64/100] Loading from /home/laurits/ENREG/ntuples/20240423_PV_test/Z_Ztautau/reco_p8_ee_Z_Ztautau_ecm380_404545.parquet\n",
      "[65/100] Loading from /home/laurits/ENREG/ntuples/20240423_PV_test/Z_Ztautau/reco_p8_ee_Z_Ztautau_ecm380_404242.parquet\n",
      "[66/100] Loading from /home/laurits/ENREG/ntuples/20240423_PV_test/Z_Ztautau/reco_p8_ee_Z_Ztautau_ecm380_403082.parquet\n",
      "[67/100] Loading from /home/laurits/ENREG/ntuples/20240423_PV_test/Z_Ztautau/reco_p8_ee_Z_Ztautau_ecm380_403769.parquet\n",
      "[68/100] Loading from /home/laurits/ENREG/ntuples/20240423_PV_test/Z_Ztautau/reco_p8_ee_Z_Ztautau_ecm380_401191.parquet\n",
      "[69/100] Loading from /home/laurits/ENREG/ntuples/20240423_PV_test/Z_Ztautau/reco_p8_ee_Z_Ztautau_ecm380_404028.parquet\n",
      "[70/100] Loading from /home/laurits/ENREG/ntuples/20240423_PV_test/Z_Ztautau/reco_p8_ee_Z_Ztautau_ecm380_401109.parquet\n",
      "[71/100] Loading from /home/laurits/ENREG/ntuples/20240423_PV_test/Z_Ztautau/reco_p8_ee_Z_Ztautau_ecm380_403551.parquet\n",
      "[72/100] Loading from /home/laurits/ENREG/ntuples/20240423_PV_test/Z_Ztautau/reco_p8_ee_Z_Ztautau_ecm380_404026.parquet\n",
      "[73/100] Loading from /home/laurits/ENREG/ntuples/20240423_PV_test/Z_Ztautau/reco_p8_ee_Z_Ztautau_ecm380_404003.parquet\n",
      "[74/100] Loading from /home/laurits/ENREG/ntuples/20240423_PV_test/Z_Ztautau/reco_p8_ee_Z_Ztautau_ecm380_404240.parquet\n",
      "[75/100] Loading from /home/laurits/ENREG/ntuples/20240423_PV_test/Z_Ztautau/reco_p8_ee_Z_Ztautau_ecm380_400237.parquet\n",
      "[76/100] Loading from /home/laurits/ENREG/ntuples/20240423_PV_test/Z_Ztautau/reco_p8_ee_Z_Ztautau_ecm380_404422.parquet\n",
      "[77/100] Loading from /home/laurits/ENREG/ntuples/20240423_PV_test/Z_Ztautau/reco_p8_ee_Z_Ztautau_ecm380_402903.parquet\n",
      "[78/100] Loading from /home/laurits/ENREG/ntuples/20240423_PV_test/Z_Ztautau/reco_p8_ee_Z_Ztautau_ecm380_400308.parquet\n",
      "[79/100] Loading from /home/laurits/ENREG/ntuples/20240423_PV_test/Z_Ztautau/reco_p8_ee_Z_Ztautau_ecm380_402473.parquet\n",
      "[80/100] Loading from /home/laurits/ENREG/ntuples/20240423_PV_test/Z_Ztautau/reco_p8_ee_Z_Ztautau_ecm380_401442.parquet\n",
      "[81/100] Loading from /home/laurits/ENREG/ntuples/20240423_PV_test/Z_Ztautau/reco_p8_ee_Z_Ztautau_ecm380_402081.parquet\n",
      "[82/100] Loading from /home/laurits/ENREG/ntuples/20240423_PV_test/Z_Ztautau/reco_p8_ee_Z_Ztautau_ecm380_404147.parquet\n",
      "[83/100] Loading from /home/laurits/ENREG/ntuples/20240423_PV_test/Z_Ztautau/reco_p8_ee_Z_Ztautau_ecm380_404692.parquet\n",
      "[84/100] Loading from /home/laurits/ENREG/ntuples/20240423_PV_test/Z_Ztautau/reco_p8_ee_Z_Ztautau_ecm380_403610.parquet\n",
      "[85/100] Loading from /home/laurits/ENREG/ntuples/20240423_PV_test/Z_Ztautau/reco_p8_ee_Z_Ztautau_ecm380_401517.parquet\n",
      "[86/100] Loading from /home/laurits/ENREG/ntuples/20240423_PV_test/Z_Ztautau/reco_p8_ee_Z_Ztautau_ecm380_404167.parquet\n",
      "[87/100] Loading from /home/laurits/ENREG/ntuples/20240423_PV_test/Z_Ztautau/reco_p8_ee_Z_Ztautau_ecm380_400685.parquet\n",
      "[88/100] Loading from /home/laurits/ENREG/ntuples/20240423_PV_test/Z_Ztautau/reco_p8_ee_Z_Ztautau_ecm380_401374.parquet\n",
      "[89/100] Loading from /home/laurits/ENREG/ntuples/20240423_PV_test/Z_Ztautau/reco_p8_ee_Z_Ztautau_ecm380_401564.parquet\n",
      "[90/100] Loading from /home/laurits/ENREG/ntuples/20240423_PV_test/Z_Ztautau/reco_p8_ee_Z_Ztautau_ecm380_404670.parquet\n",
      "[91/100] Loading from /home/laurits/ENREG/ntuples/20240423_PV_test/Z_Ztautau/reco_p8_ee_Z_Ztautau_ecm380_401600.parquet\n",
      "[92/100] Loading from /home/laurits/ENREG/ntuples/20240423_PV_test/Z_Ztautau/reco_p8_ee_Z_Ztautau_ecm380_403502.parquet\n",
      "[93/100] Loading from /home/laurits/ENREG/ntuples/20240423_PV_test/Z_Ztautau/reco_p8_ee_Z_Ztautau_ecm380_400518.parquet\n",
      "[94/100] Loading from /home/laurits/ENREG/ntuples/20240423_PV_test/Z_Ztautau/reco_p8_ee_Z_Ztautau_ecm380_401323.parquet\n",
      "[95/100] Loading from /home/laurits/ENREG/ntuples/20240423_PV_test/Z_Ztautau/reco_p8_ee_Z_Ztautau_ecm380_405010.parquet\n",
      "[96/100] Loading from /home/laurits/ENREG/ntuples/20240423_PV_test/Z_Ztautau/reco_p8_ee_Z_Ztautau_ecm380_400898.parquet\n",
      "[97/100] Loading from /home/laurits/ENREG/ntuples/20240423_PV_test/Z_Ztautau/reco_p8_ee_Z_Ztautau_ecm380_401937.parquet\n",
      "[98/100] Loading from /home/laurits/ENREG/ntuples/20240423_PV_test/Z_Ztautau/reco_p8_ee_Z_Ztautau_ecm380_400729.parquet\n",
      "[99/100] Loading from /home/laurits/ENREG/ntuples/20240423_PV_test/Z_Ztautau/reco_p8_ee_Z_Ztautau_ecm380_401475.parquet\n",
      "[100/100] Loading from /home/laurits/ENREG/ntuples/20240423_PV_test/Z_Ztautau/reco_p8_ee_Z_Ztautau_ecm380_401606.parquet\n",
      "Input data loaded\n"
     ]
    }
   ],
   "source": [
    "# data_zh = g.load_all_data( \"/home/laurits/ENREG/ntuples/20240402_full_stats/ZH_Htautau\", n_files=100)\n",
    "# output_dir_zh = os.path.join(\"/home/norman/test_plots_zh\")\n",
    "\n",
    "data_zz = g.load_all_data( \"/home/laurits/ENREG/ntuples/20240423_PV_test/Z_Ztautau\", n_files=100)\n",
    "output_dir_zz = os.path.join(\"/home/norman/test_plots_zz2\")\n",
    "\n",
    "\n",
    "os.makedirs(output_dir_zz, exist_ok=True)\n",
    "# os.makedirs(output_dir_zh, exist_ok=True)\n"
   ]
  },
  {
   "cell_type": "code",
   "execution_count": 9,
   "id": "01933d7a-ce82-41e3-b188-2f3beff2230e",
   "metadata": {},
   "outputs": [
    {
     "name": "stdout",
     "output_type": "stream",
     "text": [
      "PCA_x <= 0.02 0.4237538940809969\n",
      "PCA_y <= 0.02 0.41861370716510904\n",
      "{\n",
      "    \"L_PCA_DV_diff\": -1.1547197449599098,\n",
      "    \"P_PCA_DV_diff_x\": 0.0042414054015291695,\n",
      "    \"P_PCA_DV_diff_y\": 0.019735198330488757,\n",
      "    \"L_PV_diff\": 0.0001922980429184752,\n",
      "    \"P_PV_diff_x\": 0.004241405401530133,\n",
      "    \"P_PV_diff_y\": 0.019735198330490384\n",
      "}\n",
      "----------------------------------------------------\n",
      "{\n",
      "    \"L_PCA_DV_diff\": -5.562572088327152,\n",
      "    \"P_PCA_DV_diff_x\": 0.007000822694185446,\n",
      "    \"P_PCA_DV_diff_y\": -0.03214343248912991,\n",
      "    \"L_PV_diff\": 0.00022061177359868617,\n",
      "    \"P_PV_diff_x\": 0.007000822694183421,\n",
      "    \"P_PV_diff_y\": -0.03214343248912938\n",
      "}\n",
      "----------------------------------------------------\n",
      "{\n",
      "    \"L_PCA_DV_diff\": -3.260347114330589,\n",
      "    \"P_PCA_DV_diff_x\": 0.008644146487344096,\n",
      "    \"P_PCA_DV_diff_y\": -0.005203474616963263,\n",
      "    \"L_PV_diff\": -0.0009814278283955752,\n",
      "    \"P_PV_diff_x\": 0.00864414648734672,\n",
      "    \"P_PV_diff_y\": -0.005203474616961371\n",
      "}\n",
      "----------------------------------------------------\n",
      "{\n",
      "    \"L_PCA_DV_diff\": -0.17618890275305288,\n",
      "    \"P_PCA_DV_diff_x\": 0.0009658250495583388,\n",
      "    \"P_PCA_DV_diff_y\": -6.893934328127713e-05,\n",
      "    \"L_PV_diff\": 0.0009744154879652756,\n",
      "    \"P_PV_diff_x\": 0.0009658250495566095,\n",
      "    \"P_PV_diff_y\": -6.893934328241908e-05\n",
      "}\n",
      "----------------------------------------------------\n",
      "{\n",
      "    \"L_PCA_DV_diff\": -2.6402237439028933,\n",
      "    \"P_PCA_DV_diff_x\": 0.03622217170192667,\n",
      "    \"P_PCA_DV_diff_y\": 0.0023122072549502386,\n",
      "    \"L_PV_diff\": -0.012133341357210928,\n",
      "    \"P_PV_diff_x\": 0.03622217170192726,\n",
      "    \"P_PV_diff_y\": 0.0023122072549499827\n",
      "}\n",
      "----------------------------------------------------\n",
      "{\n",
      "    \"L_PCA_DV_diff\": -2.6408631182122924,\n",
      "    \"P_PCA_DV_diff_x\": 0.007225113253755625,\n",
      "    \"P_PCA_DV_diff_y\": -0.031026349581834745,\n",
      "    \"L_PV_diff\": -0.012772715666610066,\n",
      "    \"P_PV_diff_x\": 0.007225113253755982,\n",
      "    \"P_PV_diff_y\": -0.031026349581834794\n",
      "}\n",
      "----------------------------------------------------\n",
      "{\n",
      "    \"L_PCA_DV_diff\": -2.6399877539044376,\n",
      "    \"P_PCA_DV_diff_x\": 0.00746175783078755,\n",
      "    \"P_PCA_DV_diff_y\": -0.004534242852323629,\n",
      "    \"L_PV_diff\": -0.011897351358755352,\n",
      "    \"P_PV_diff_x\": 0.007461757830786509,\n",
      "    \"P_PV_diff_y\": -0.0045342428523237515\n",
      "}\n",
      "----------------------------------------------------\n",
      "++++++++++++++++++++++++++++++++++++++++++++++++++++++++++++++++++++++++++\n",
      "pT: 2.5427888117012576 \t eta: -0.250042655257988\n",
      "pT: 0.7134928170666093 \t eta: -1.761799265059297\n",
      "pT: 1.476188621737248 \t eta: -1.9199049814190556\n",
      "pT: 1.3338165105836295 \t eta: 2.032990278700145\n",
      "pT: 1.4455493282842582 \t eta: -1.8174191051248019\n",
      "pT: 1.7222370980096877 \t eta: 1.749694800761467\n",
      "pT: 2.034054321458577 \t eta: 1.8883497026679237\n"
     ]
    }
   ],
   "source": [
    "process_data(data_zz, output_dir_zz)"
   ]
  },
  {
   "cell_type": "code",
   "execution_count": 115,
   "id": "3d02d948-3f1d-425c-8862-0cb7de33b686",
   "metadata": {},
   "outputs": [],
   "source": [
    "r = ak.flatten(data[\"event_reco_cand_dz\"])\n",
    "r = r[r!=-1000]\n",
    "xmin = 0\n",
    "xmax = 1\n",
    "bins = np.linspace(xmin, xmax, num=130)"
   ]
  },
  {
   "cell_type": "code",
   "execution_count": 116,
   "id": "9cb6abeb-8489-4262-8bd4-26d61d74da1f",
   "metadata": {},
   "outputs": [
    {
     "data": {
      "text/plain": [
       "1.0396261420709055e-07"
      ]
     },
     "execution_count": 116,
     "metadata": {},
     "output_type": "execute_result"
    }
   ],
   "source": [
    "min(r)"
   ]
  },
  {
   "cell_type": "code",
   "execution_count": 118,
   "id": "70ab9d4d-339c-4651-a08f-5d4fad98b0eb",
   "metadata": {},
   "outputs": [
    {
     "data": {
      "image/png": "[encoded data removed]",
      "text/plain": [
       "<Figure size 1000x1000 with 1 Axes>"
      ]
     },
     "metadata": {},
     "output_type": "display_data"
    }
   ],
   "source": [
    "plt.hist(r, bins=bins)\n",
    "plt.yscale('log')"
   ]
  },
  {
   "cell_type": "code",
   "execution_count": 67,
   "id": "7c104809-5282-4766-9685-d46525965529",
   "metadata": {},
   "outputs": [
    {
     "name": "stdout",
     "output_type": "stream",
     "text": [
      "x: -0.002925135252917904\n",
      "y: -0.060735665686489276\n",
      "z: -10.43471712417467\n"
     ]
    }
   ],
   "source": [
    "x = np.median(data[\"gen_jet_tau_decay_vertex_x\"])\n",
    "y = np.median(data[\"gen_jet_tau_decay_vertex_y\"])\n",
    "z = np.median(data[\"gen_jet_tau_decay_vertex_z\"])\n",
    "print(\"x:\", x)\n",
    "print(\"y:\", y)\n",
    "print(\"z:\", z)"
   ]
  },
  {
   "cell_type": "code",
   "execution_count": 131,
   "id": "f859c8c8-377d-4159-a8ee-0f144139811f",
   "metadata": {},
   "outputs": [],
   "source": [
    "dv_d = np.sqrt(\n",
    "    (data[\"gen_jet_tau_decay_vertex_x\"]-data[\"reco_cand_PV_x\"]) ** 2\n",
    "    + (data[\"gen_jet_tau_decay_vertex_y\"]-data[\"reco_cand_PV_y\"]) ** 2\n",
    "    + (data[\"gen_jet_tau_decay_vertex_z\"]-data[\"reco_cand_PV_z\"]) ** 2\n",
    ")"
   ]
  },
  {
   "cell_type": "code",
   "execution_count": 132,
   "id": "f6b0c098-28b8-4c33-86ed-8f66746ebfda",
   "metadata": {},
   "outputs": [
    {
     "data": {
      "text/html": [
       "<pre>[[20.6, 1.72e+03, 1.72e+03, 1.72e+03],\n",
       " [19.4, 1.72e+03, 1.72e+03, 1.72e+03, ..., 1.72e+03, 1.72e+03, 1.72e+03],\n",
       " [49.8, 49.8, 49.8, 1.71e+03, 1.71e+03, 1.71e+03],\n",
       " [35.8, 35.8, 35.8, 1.71e+03],\n",
       " [54.7, 54.7, 54.7, 1.76e+03, 1.76e+03, 1.76e+03, 1.76e+03, 1.76e+03],\n",
       " [69.7],\n",
       " [91.6, 1.79e+03],\n",
       " [12.4, 1.74e+03, 1.74e+03, 1.74e+03, 1.74e+03, 1.74e+03, 1.74e+03],\n",
       " [35.2],\n",
       " [36, 1.75e+03, 1.75e+03, 1.75e+03, ..., 1.75e+03, 1.75e+03, 1.75e+03],\n",
       " ...,\n",
       " [50.5, 1.7e+03, 1.7e+03, 1.7e+03],\n",
       " [82.2, 82.2, 82.2, 1.7e+03],\n",
       " [88.6, 1.68e+03],\n",
       " [92.8, 1.68e+03],\n",
       " [11.4],\n",
       " [12.9, 1.72e+03, 1.72e+03],\n",
       " [34.7, 1.71e+03, 1.71e+03],\n",
       " [32, 32, 32, 1.71e+03, 1.71e+03],\n",
       " [27.3, 27.3, 27.3, 1.75e+03, 1.75e+03]]\n",
       "-------------------------------------------------------------------------\n",
       "type: 9199 * var * float64</pre>"
      ],
      "text/plain": [
       "<Array [[20.6, 1.72e+03, ..., 1.72e+03], ...] type='9199 * var * float64'>"
      ]
     },
     "execution_count": 132,
     "metadata": {},
     "output_type": "execute_result"
    }
   ],
   "source": [
    "dv_d"
   ]
  },
  {
   "cell_type": "code",
   "execution_count": 98,
   "id": "53373127-6295-4728-ac98-a05a109676fa",
   "metadata": {},
   "outputs": [],
   "source": [
    "    tau_mask = data[\"gen_jet_tau_decaymode\"] > 0\n",
    "    data = data[tau_mask]\n",
    "    gen_jet_tau_p4s = g.reinitialize_p4(data[\"gen_jet_full_tau_p4s\"])\n",
    "    gen_jet_tau_gamma = np.sqrt(1 + (gen_jet_tau_p4s.p / tau_mass) ** 2)\n",
    "    # gen_jet_tau_gamma = 1 / np.sqrt(1 - (gen_jet_tau_p4s.p / tau_mass) ** 2)\n",
    "    expected_traveldistance = gen_jet_tau_gamma * c * tau_lifetime"
   ]
  },
  {
   "cell_type": "code",
   "execution_count": 99,
   "id": "65372fd8-c38a-47f6-a5c3-749b21cd1ffc",
   "metadata": {},
   "outputs": [
    {
     "data": {
      "text/plain": [
       "4.99660966190402"
      ]
     },
     "execution_count": 99,
     "metadata": {},
     "output_type": "execute_result"
    }
   ],
   "source": [
    "np.median(expected_traveldistance)"
   ]
  },
  {
   "cell_type": "code",
   "execution_count": 100,
   "id": "ed0077f1-0e9d-4a76-9847-6241e84ce009",
   "metadata": {},
   "outputs": [],
   "source": [
    "\n",
    "gen_lifetime = dv_d / (gen_jet_tau_gamma * c)"
   ]
  },
  {
   "cell_type": "code",
   "execution_count": 101,
   "id": "e11faa7f-ac5c-4963-b630-1ca37d822326",
   "metadata": {},
   "outputs": [],
   "source": [
    "import math"
   ]
  },
  {
   "cell_type": "code",
   "execution_count": 119,
   "id": "a671bbdc-5c92-45ec-a8c4-2077d002c5f1",
   "metadata": {},
   "outputs": [
    {
     "name": "stdout",
     "output_type": "stream",
     "text": [
      "[0.25, 0.266, 0.177, 0.112, 0.0678, ..., 0.000218, 0, 0.000109, 0.000109]\n"
     ]
    },
    {
     "data": {
      "image/png": "[encoded data removed]",
      "text/plain": [
       "<Figure size 1000x1000 with 1 Axes>"
      ]
     },
     "metadata": {},
     "output_type": "display_data"
    }
   ],
   "source": [
    "values = gen_lifetime\n",
    "xmin = 0\n",
    "xmax = 3e-11\n",
    "fig, ax = plt.subplots()\n",
    "rms = np.sqrt(ak.sum(values**2) * (1 / (len(values))))\n",
    "bins = np.linspace(xmin, xmax, num=30)\n",
    "hist, bin_edges = np.histogram(values, bins=bins)\n",
    "hist = hist / ak.sum(hist)\n",
    "hep.histplot(hist, bin_edges)\n",
    "x = np.linspace(0,3e-11,30)\n",
    "y = [(np.e**(-tau_lifetime*50)*(tau_lifetime*50)**v) / math.gamma(v+1) for v in x]\n",
    "plt.plot(x,y)\n",
    "plt.xlabel(\"mm\", loc=\"center\")\n",
    "\n",
    "plt.xlim((xmin, xmax))\n",
    "print(hist)"
   ]
  },
  {
   "cell_type": "code",
   "execution_count": 83,
   "id": "3dfea347-0d5c-4802-a250-e821f4c75a89",
   "metadata": {},
   "outputs": [],
   "source": [
    "pt_zz = g.reinitialize_p4(data_zz[\"gen_jet_full_tau_p4s\"]).pt\n",
    "pt_zh = g.reinitialize_p4(data_zh[\"gen_jet_full_tau_p4s\"]).pt"
   ]
  },
  {
   "cell_type": "code",
   "execution_count": 102,
   "id": "4a3bd095-921a-4f62-8b6e-6acb8b70ccc1",
   "metadata": {},
   "outputs": [
    {
     "data": {
      "text/plain": [
       "[StairsArtists(stairs=<matplotlib.patches.StepPatch object at 0x7f6a62391f30>, errorbar=None, legend_artist=None)]"
      ]
     },
     "execution_count": 102,
     "metadata": {},
     "output_type": "execute_result"
    },
    {
     "data": {
      "image/png": "[encoded data removed]",
      "text/plain": [
       "<Figure size 1000x1000 with 1 Axes>"
      ]
     },
     "metadata": {},
     "output_type": "display_data"
    }
   ],
   "source": [
    "hist1, bin_edges = np.histogram(pt_zz, bins=bins)\n",
    "hist1 = hist1 / ak.sum(hist1)\n",
    "hep.histplot(hist1, bin_edges, density = True)"
   ]
  },
  {
   "cell_type": "code",
   "execution_count": 79,
   "id": "f40e23d7-cb9f-4a7b-bc3c-c63212b4e088",
   "metadata": {},
   "outputs": [
    {
     "name": "stdout",
     "output_type": "stream",
     "text": [
      "19848\n"
     ]
    }
   ],
   "source": [
    "nr_events = len(pt_zh) + len(pt_zz)\n",
    "print(nr_events)"
   ]
  },
  {
   "cell_type": "code",
   "execution_count": 108,
   "id": "fea9d356-9140-481b-ba81-cb701aa65bf6",
   "metadata": {},
   "outputs": [],
   "source": [
    "def plot_pt(values1, values2, label1, label2, xmin, xmax, nbins=30):\n",
    "    fig, ax = plt.subplots()\n",
    "    bins = np.linspace(xmin, xmax, num=30)\n",
    "    hist1, bin_edges = np.histogram(values1, bins=bins)\n",
    "    hist1 = hist1 / ak.sum(hist1)\n",
    "    hep.histplot(hist1, bin_edges, density = True, label = label1)\n",
    "    hist2, bin_edges = np.histogram(values2, bins=bins)\n",
    "    hist2 = hist2 / ak.sum(hist2)\n",
    "    hep.histplot(hist2, bin_edges, density = True, label = label2)\n",
    "    plt.xlabel(\"GeV\", loc=\"center\")\n",
    "    plt.xlim((xmin, xmax))\n",
    "    plt.legend(loc=\"upper right\")\n",
    "    print(\"ZZ pT_mean: %s, ZZ pT_stdev: %s\" %(\n",
    "    round(np.mean(values1),2 ), round(np.std(values1), 2)\n",
    "    ))\n",
    "    print(\"ZH pT_mean: %s, ZH pT_stdev: %s\" %(\n",
    "    round(np.mean(values2),2 ), round(np.std(values2), 2)\n",
    "    ))"
   ]
  },
  {
   "cell_type": "code",
   "execution_count": 109,
   "id": "b2f29120-784d-400f-925d-30bd98b79689",
   "metadata": {},
   "outputs": [
    {
     "name": "stdout",
     "output_type": "stream",
     "text": [
      "ZZ pT_mean: 106.2, ZZ pT_stdev: 55.48\n",
      "ZH pT_mean: 86.0, ZH pT_stdev: 38.55\n"
     ]
    },
    {
     "data": {
      "image/png": "[encoded data removed]",
      "text/plain": [
       "<Figure size 1000x1000 with 1 Axes>"
      ]
     },
     "metadata": {},
     "output_type": "display_data"
    }
   ],
   "source": [
    "plot_pt(\n",
    "    values1=ak.flatten(pt_zz, axis=-1),\n",
    "    values2=ak.flatten(pt_zh, axis=-1),\n",
    "    label1 = 'ZZ',\n",
    "    label2 = 'ZH',\n",
    "    xmin=0,\n",
    "    xmax=380,\n",
    ")"
   ]
  },
  {
   "cell_type": "code",
   "execution_count": 11,
   "id": "ebc8969a-9642-40ce-859a-4f21a33b8e39",
   "metadata": {},
   "outputs": [
    {
     "data": {
      "text/plain": [
       "['event_reco_cand_p4s',\n",
       " 'event_reco_cand_pdg',\n",
       " 'event_reco_cand_charge',\n",
       " 'reco_cand_p4s',\n",
       " 'reco_cand_charge',\n",
       " 'reco_cand_pdg',\n",
       " 'reco_jet_p4s',\n",
       " 'event_reco_cand_dxy',\n",
       " 'event_reco_cand_dz',\n",
       " 'event_reco_cand_d3',\n",
       " 'event_reco_cand_dxy_f2D',\n",
       " 'event_reco_cand_dz_f2D',\n",
       " 'event_reco_cand_d3_f2D',\n",
       " 'event_reco_cand_dxy_err',\n",
       " 'event_reco_cand_dz_err',\n",
       " 'event_reco_cand_d3_err',\n",
       " 'event_reco_cand_dxy_f2D_err',\n",
       " 'event_reco_cand_dz_f2D_err',\n",
       " 'event_reco_cand_d3_f2D_err',\n",
       " 'event_reco_cand_signed_dxy',\n",
       " 'event_reco_cand_signed_dz',\n",
       " 'event_reco_cand_signed_d3',\n",
       " 'event_reco_cand_signed_dxy_f2D',\n",
       " 'event_reco_cand_signed_dz_f2D',\n",
       " 'event_reco_cand_signed_d3_f2D',\n",
       " 'event_reco_cand_d0',\n",
       " 'event_reco_cand_z0',\n",
       " 'event_reco_cand_d0_err',\n",
       " 'event_reco_cand_z0_err',\n",
       " 'event_reco_cand_signed_d0',\n",
       " 'event_reco_cand_signed_z0',\n",
       " 'event_reco_cand_PCA_x',\n",
       " 'event_reco_cand_PCA_y',\n",
       " 'event_reco_cand_PCA_z',\n",
       " 'event_reco_cand_PCA_x_err',\n",
       " 'event_reco_cand_PCA_y_err',\n",
       " 'event_reco_cand_PCA_z_err',\n",
       " 'event_reco_cand_PV_x',\n",
       " 'event_reco_cand_PV_y',\n",
       " 'event_reco_cand_PV_z',\n",
       " 'event_reco_cand_phi0',\n",
       " 'event_reco_cand_tanL',\n",
       " 'event_reco_cand_omega',\n",
       " 'reco_cand_phi0',\n",
       " 'reco_cand_tanL',\n",
       " 'reco_cand_omega',\n",
       " 'reco_cand_dxy',\n",
       " 'reco_cand_dz',\n",
       " 'reco_cand_d3',\n",
       " 'reco_cand_dxy_f2D',\n",
       " 'reco_cand_dz_f2D',\n",
       " 'reco_cand_d3_f2D',\n",
       " 'reco_cand_signed_dxy',\n",
       " 'reco_cand_signed_dz',\n",
       " 'reco_cand_signed_d3',\n",
       " 'reco_cand_signed_dxy_f2D',\n",
       " 'reco_cand_signed_dz_f2D',\n",
       " 'reco_cand_signed_d3_f2D',\n",
       " 'reco_cand_dxy_err',\n",
       " 'reco_cand_dz_err',\n",
       " 'reco_cand_d3_err',\n",
       " 'reco_cand_dxy_f2D_err',\n",
       " 'reco_cand_dz_f2D_err',\n",
       " 'reco_cand_d3_f2D_err',\n",
       " 'reco_cand_d0',\n",
       " 'reco_cand_z0',\n",
       " 'reco_cand_signed_d0',\n",
       " 'reco_cand_signed_z0',\n",
       " 'reco_cand_d0_err',\n",
       " 'reco_cand_z0_err',\n",
       " 'reco_cand_PCA_x',\n",
       " 'reco_cand_PCA_y',\n",
       " 'reco_cand_PCA_z',\n",
       " 'reco_cand_PCA_x_err',\n",
       " 'reco_cand_PCA_y_err',\n",
       " 'reco_cand_PCA_z_err',\n",
       " 'reco_cand_PV_x',\n",
       " 'reco_cand_PV_y',\n",
       " 'reco_cand_PV_z',\n",
       " 'gen_jet_p4s',\n",
       " 'gen_jet_tau_decaymode',\n",
       " 'gen_jet_tau_vis_energy',\n",
       " 'gen_jet_tau_charge',\n",
       " 'gen_jet_tau_p4s',\n",
       " 'gen_jet_full_tau_p4s',\n",
       " 'gen_jet_tau_decay_vertex_x',\n",
       " 'gen_jet_tau_decay_vertex_y',\n",
       " 'gen_jet_tau_decay_vertex_z']"
      ]
     },
     "execution_count": 11,
     "metadata": {},
     "output_type": "execute_result"
    }
   ],
   "source": [
    "data_zz.fields"
   ]
  },
  {
   "cell_type": "code",
   "execution_count": 113,
   "id": "2b3e4ba6-0bcb-4b49-a182-c3c053c1fe5d",
   "metadata": {},
   "outputs": [],
   "source": [
    "import pyhepmc"
   ]
  },
  {
   "cell_type": "code",
   "execution_count": 114,
   "id": "4d47320d-e09e-41aa-a78c-d6b9a100eb71",
   "metadata": {},
   "outputs": [],
   "source": [
    "def load_events_from_hepmc(root_file_path: str):\n",
    "    hepmc_file_path  = root_file_path.replace(\".root\", \".hepmc\").replace(\"reco_\", \"sim_\")\n",
    "    events = []\n",
    "    if not os.path.exists(hepmc_file_path):\n",
    "        print(f\"Incorrect path for the .hepmc file: {hepmc_file_path}\")\n",
    "    with pyhepmc.open(hepmc_file_path) as f:\n",
    "        for event in f:\n",
    "            events.append(event)\n",
    "    return events"
   ]
  },
  {
   "cell_type": "code",
   "execution_count": 115,
   "id": "ba4d5c95-84d8-4614-b9fa-615716158c3b",
   "metadata": {},
   "outputs": [],
   "source": [
    "path = \"/local/joosep/clic_edm4hep/2024_03/p8_ee_Z_Ztautau_ecm380/reco_p8_ee_Z_Ztautau_ecm380_400001.root\""
   ]
  },
  {
   "cell_type": "code",
   "execution_count": 116,
   "id": "6547dcb9-68d4-48ae-9135-e7f432cb6280",
   "metadata": {},
   "outputs": [],
   "source": [
    "ev = load_events_from_hepmc(path)"
   ]
  },
  {
   "cell_type": "code",
   "execution_count": 117,
   "id": "b43fe747-881f-4893-8deb-28ffb261c123",
   "metadata": {},
   "outputs": [],
   "source": [
    "f = ev[0]"
   ]
  },
  {
   "cell_type": "code",
   "execution_count": 119,
   "id": "b3e2c705-24b4-499d-ab1c-b2dc0b2659c2",
   "metadata": {},
   "outputs": [],
   "source": [
    "e = f.particles[0]"
   ]
  },
  {
   "cell_type": "code",
   "execution_count": 127,
   "id": "642ecfc0-c8e4-44eb-94b5-559dc19f9a10",
   "metadata": {},
   "outputs": [
    {
     "ename": "TypeError",
     "evalue": "__getitem__(): incompatible function arguments. The following argument types are supported:\n    1. (self: pyhepmc._core.FourVector, arg0: int) -> float\n\nInvoked with: FourVector(-0.129, -0.784, -19.8, 0.144), slice(None, 3, None)",
     "output_type": "error",
     "traceback": [
      "\u001b[0;31m---------------------------------------------------------------------------\u001b[0m",
      "\u001b[0;31mTypeError\u001b[0m                                 Traceback (most recent call last)",
      "Cell \u001b[0;32mIn[127], line 1\u001b[0m\n\u001b[0;32m----> 1\u001b[0m \u001b[43me\u001b[49m\u001b[38;5;241;43m.\u001b[39;49m\u001b[43mend_vertex\u001b[49m\u001b[38;5;241;43m.\u001b[39;49m\u001b[43mposition\u001b[49m\u001b[43m[\u001b[49m\u001b[43m:\u001b[49m\u001b[38;5;241;43m3\u001b[39;49m\u001b[43m]\u001b[49m\n",
      "\u001b[0;31mTypeError\u001b[0m: __getitem__(): incompatible function arguments. The following argument types are supported:\n    1. (self: pyhepmc._core.FourVector, arg0: int) -> float\n\nInvoked with: FourVector(-0.129, -0.784, -19.8, 0.144), slice(None, 3, None)"
     ]
    }
   ],
   "source": [
    "e.end_vertex.position[:3]"
   ]
  },
  {
   "cell_type": "code",
   "execution_count": 128,
   "id": "e1f8eff0-2965-44e2-b79a-e0adc3d4a837",
   "metadata": {},
   "outputs": [
    {
     "name": "stdout",
     "output_type": "stream",
     "text": [
      "[1/10] Loading from /home/norman/tmp/ZH_Htautau/reco_p8_ee_ZH_Htautau_ecm380_201846.parquet\n",
      "[2/10] Loading from /home/norman/tmp/ZH_Htautau/reco_p8_ee_ZH_Htautau_ecm380_202302.parquet\n",
      "[3/10] Loading from /home/norman/tmp/ZH_Htautau/reco_p8_ee_ZH_Htautau_ecm380_200157.parquet\n",
      "[4/10] Loading from /home/norman/tmp/ZH_Htautau/reco_p8_ee_ZH_Htautau_ecm380_204225.parquet\n",
      "[5/10] Loading from /home/norman/tmp/ZH_Htautau/reco_p8_ee_ZH_Htautau_ecm380_203058.parquet\n",
      "[6/10] Loading from /home/norman/tmp/ZH_Htautau/reco_p8_ee_ZH_Htautau_ecm380_204781.parquet\n",
      "[7/10] Loading from /home/norman/tmp/ZH_Htautau/reco_p8_ee_ZH_Htautau_ecm380_203397.parquet\n",
      "[8/10] Loading from /home/norman/tmp/ZH_Htautau/reco_p8_ee_ZH_Htautau_ecm380_201510.parquet\n",
      "[9/10] Loading from /home/norman/tmp/ZH_Htautau/reco_p8_ee_ZH_Htautau_ecm380_204043.parquet\n",
      "[10/10] Loading from /home/norman/tmp/ZH_Htautau/reco_p8_ee_ZH_Htautau_ecm380_202493.parquet\n",
      "Input data loaded\n"
     ]
    }
   ],
   "source": [
    "data_zh_ = g.load_all_data( \"/home/norman/tmp/ZH_Htautau\", n_files=100)"
   ]
  },
  {
   "cell_type": "code",
   "execution_count": 136,
   "id": "dd3e26c8-914e-4b1d-819f-284947992501",
   "metadata": {},
   "outputs": [],
   "source": [
    "out = \"/home/norman/newshit\"\n",
    "os.makedirs(out, exist_ok = True)"
   ]
  },
  {
   "cell_type": "code",
   "execution_count": 137,
   "id": "cfdd2e5c-819e-405f-a39d-695b10e64e4c",
   "metadata": {},
   "outputs": [
    {
     "name": "stderr",
     "output_type": "stream",
     "text": [
      "/opt/conda/lib/python3.10/site-packages/awkward/_nplikes/array_module.py:245: RuntimeWarning: invalid value encountered in divide\n",
      "  return impl(*broadcasted_args, **(kwargs or {}))\n",
      "/opt/conda/lib/python3.10/site-packages/awkward/_nplikes/array_module.py:245: RuntimeWarning: invalid value encountered in divide\n",
      "  return impl(*broadcasted_args, **(kwargs or {}))\n",
      "/opt/conda/lib/python3.10/site-packages/awkward/_nplikes/array_module.py:245: RuntimeWarning: invalid value encountered in divide\n",
      "  return impl(*broadcasted_args, **(kwargs or {}))\n",
      "/opt/conda/lib/python3.10/site-packages/awkward/_nplikes/array_module.py:245: RuntimeWarning: invalid value encountered in divide\n",
      "  return impl(*broadcasted_args, **(kwargs or {}))\n"
     ]
    },
    {
     "name": "stdout",
     "output_type": "stream",
     "text": [
      "PCA_x <= 0.02 0.0005373455131649651\n",
      "PCA_y <= 0.02 0.0021493820526598604\n",
      "{\n",
      "    \"L_PCA_DV_diff\": -17.301537424550617,\n",
      "    \"P_PCA_DV_diff_x\": -5.471121530873167,\n",
      "    \"P_PCA_DV_diff_y\": -0.1212710511112301,\n",
      "    \"L_PV_diff\": -19.05390107183009,\n",
      "    \"P_PV_diff_x\": 0.007983790525079758,\n",
      "    \"P_PV_diff_y\": 0.17936951764144352\n",
      "}\n",
      "----------------------------------------------------\n",
      "{\n",
      "    \"L_PCA_DV_diff\": -17.343488250885066,\n",
      "    \"P_PCA_DV_diff_x\": 5.13704947115647,\n",
      "    \"P_PCA_DV_diff_y\": -0.7243487761915391,\n",
      "    \"L_PV_diff\": -19.09585189816454,\n",
      "    \"P_PV_diff_x\": -0.3157889621691623,\n",
      "    \"P_PV_diff_y\": -0.10991172115548642\n",
      "}\n",
      "----------------------------------------------------\n",
      "{\n",
      "    \"L_PCA_DV_diff\": -17.32640237075338,\n",
      "    \"P_PCA_DV_diff_x\": 0.7405772223479414,\n",
      "    \"P_PCA_DV_diff_y\": 5.299797339812589,\n",
      "    \"L_PV_diff\": -19.078766018032855,\n",
      "    \"P_PV_diff_x\": 0.14303022879056615,\n",
      "    \"P_PV_diff_y\": -0.1549178191159725\n",
      "}\n",
      "----------------------------------------------------\n",
      "{\n",
      "    \"L_PCA_DV_diff\": -0.01451053371801448,\n",
      "    \"P_PCA_DV_diff_x\": 11.7876900753974,\n",
      "    \"P_PCA_DV_diff_y\": 20.33990843117269,\n",
      "    \"L_PV_diff\": 42.86205224206709,\n",
      "    \"P_PV_diff_x\": -0.2593399090925712,\n",
      "    \"P_PV_diff_y\": 0.10113147311644982\n",
      "}\n",
      "----------------------------------------------------\n",
      "{\n",
      "    \"L_PCA_DV_diff\": 0.45366543298971174,\n",
      "    \"P_PCA_DV_diff_x\": 9.112412629148112,\n",
      "    \"P_PCA_DV_diff_y\": -20.681898225046137,\n",
      "    \"L_PV_diff\": 43.33022820877482,\n",
      "    \"P_PV_diff_x\": -0.22603556469974181,\n",
      "    \"P_PV_diff_y\": 0.9405995385326263\n",
      "}\n",
      "----------------------------------------------------\n",
      "{\n",
      "    \"L_PCA_DV_diff\": -0.3191287295669177,\n",
      "    \"P_PCA_DV_diff_x\": 19.740603609022806,\n",
      "    \"P_PCA_DV_diff_y\": -13.721032913660956,\n",
      "    \"L_PV_diff\": 42.55743404621819,\n",
      "    \"P_PV_diff_x\": 0.6344280925147788,\n",
      "    \"P_PV_diff_y\": 0.05187822877869439\n",
      "}\n",
      "----------------------------------------------------\n",
      "{\n",
      "    \"L_PCA_DV_diff\": -1.3102975485260742,\n",
      "    \"P_PCA_DV_diff_x\": 10.484291606676061,\n",
      "    \"P_PCA_DV_diff_y\": -3.658385165863201,\n",
      "    \"L_PV_diff\": -2.5359684701627696,\n",
      "    \"P_PV_diff_x\": 0.0020024092345088717,\n",
      "    \"P_PV_diff_y\": 0.018246461323829687\n",
      "}\n",
      "----------------------------------------------------\n",
      "++++++++++++++++++++++++++++++++++++++++++++++++++++++++++++++++++++++++++\n",
      "pT: 3.2977756717290654 \t eta: 1.8690739500607523\n",
      "pT: 12.262497172987041 \t eta: -1.3343966264353235\n",
      "pT: 26.50048848935997 \t eta: -0.17224512041904108\n",
      "pT: 2.5023221281853716 \t eta: -0.28584990042924613\n",
      "pT: 8.635170262092487 \t eta: -0.08007006489424565\n",
      "pT: 21.950993441760023 \t eta: -0.23890264799563143\n",
      "pT: 19.699016382427935 \t eta: -0.39471262201950785\n"
     ]
    }
   ],
   "source": [
    "process_data(data_zh_, out)"
   ]
  },
  {
   "cell_type": "code",
   "execution_count": null,
   "id": "3dfaba1b-9f3a-406d-8a7f-2012cce65f97",
   "metadata": {},
   "outputs": [],
   "source": []
  }
 ],
 "metadata": {
  "kernelspec": {
   "display_name": "Python 3 (ipykernel)",
   "language": "python",
   "name": "python3"
  },
  "language_info": {
   "codemirror_mode": {
    "name": "ipython",
    "version": 3
   },
   "file_extension": ".py",
   "mimetype": "text/x-python",
   "name": "python",
   "nbconvert_exporter": "python",
   "pygments_lexer": "ipython3",
   "version": "3.10.13"
  }
 },
 "nbformat": 4,
 "nbformat_minor": 5
}

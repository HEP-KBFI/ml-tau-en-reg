{
 "cells": [
  {
   "cell_type": "code",
   "execution_count": null,
   "id": "5e609d17-b0fd-40c9-858f-956a639c6ee5",
   "metadata": {},
   "outputs": [],
   "source": [
    "import awkward as ak\n",
    "import vector\n",
    "import glob\n",
    "import os\n",
    "import numpy as np\n",
    "import pandas as pd\n",
    "\n",
    "import matplotlib.pyplot as plt\n",
    "from sklearn.metrics import roc_curve, auc"
   ]
  },
  {
   "cell_type": "code",
   "execution_count": null,
   "id": "e30e61e5-377f-4119-9bb7-daa6f1ea1888",
   "metadata": {},
   "outputs": [],
   "source": [
    "qq_path = glob.glob(\"/home/hardiveski/ml-tau-en-reg/training-outputs/240626_train_on_z/v1/feats_kin_feats_lifetimes/binary_classification/SimpleDNN/qq_test.parquet\")\n",
    "z_path = glob.glob(\"/home/hardiveski/ml-tau-en-reg/training-outputs/240626_train_on_z/v1/feats_kin_feats_lifetimes/binary_classification/SimpleDNN/z_test.parquet\")\n",
    "zh_path = glob.glob(\"/home/hardiveski/ml-tau-en-reg/training-outputs/240626_train_on_z/v1/feats_kin_feats_lifetimes/binary_classification/SimpleDNN/zh_test.parquet\")"
   ]
  },
  {
   "cell_type": "code",
   "execution_count": null,
   "id": "2d549d93-320d-4b4c-be57-f476f9f26f92",
   "metadata": {},
   "outputs": [],
   "source": [
    "qq_data = ak.from_parquet(qq_path)\n",
    "z_data = ak.from_parquet(z_path)\n",
    "zh_data = ak.from_parquet(zh_path)"
   ]
  },
  {
   "cell_type": "code",
   "execution_count": null,
   "id": "62ff32b2-4f69-4506-b2be-7d9531af0640",
   "metadata": {},
   "outputs": [],
   "source": [
    "# Separated prediction and target data\n",
    "data_pred = {\n",
    "    'qq': qq_data['binary_classification']['pred'],\n",
    "    'z': z_data['binary_classification']['pred'],\n",
    "    'zh': zh_data['binary_classification']['pred']\n",
    "}\n",
    "\n",
    "data_target = {\n",
    "    'qq': qq_data['binary_classification']['target'],\n",
    "    'z': z_data['binary_classification']['target'],\n",
    "    'zh': zh_data['binary_classification']['target']\n",
    "}"
   ]
  },
  {
   "cell_type": "code",
   "execution_count": null,
   "id": "88657100-4435-442c-8d68-3600117a092c",
   "metadata": {},
   "outputs": [],
   "source": [
    "print(\"Lengths of data_pred:\")\n",
    "for key, value in data_pred.items():\n",
    "    print(f\"{key}: {len(value)}\")\n",
    "\n",
    "print(\"Lengths of data_target:\")\n",
    "for key, value in data_target.items():\n",
    "    print(f\"{key}: {len(value)}\")"
   ]
  },
  {
   "cell_type": "code",
   "execution_count": null,
   "id": "353369ba-509f-4069-8af0-e1d50d638a80",
   "metadata": {},
   "outputs": [],
   "source": [
    "for i, key in enumerate(data_pred.keys()):\n",
    "    plt.figure(figsize=(4, 3))\n",
    "    plt.hist(data_pred[key], bins=40, alpha=0.75, color='#234112', edgecolor='black');\n",
    "    plt.legend([key])\n",
    "    plt.yscale('log')  \n",
    "plt.tight_layout()\n",
    "plt.show()"
   ]
  },
  {
   "cell_type": "code",
   "execution_count": null,
   "id": "70af1430-07fa-438b-a7cf-107bc9af23ac",
   "metadata": {},
   "outputs": [],
   "source": [
    "# Signal with backround. But what is the signal? Z or ZH or both\n",
    "signal = {\n",
    "    'z': ak.concatenate([z_data['binary_classification'], qq_data['binary_classification']]),\n",
    "    'zh': ak.concatenate([zh_data['binary_classification'], qq_data['binary_classification']]),\n",
    "    'both': ak.concatenate([z_data['binary_classification'],zh_data['binary_classification'], qq_data['binary_classification']])\n",
    "}"
   ]
  },
  {
   "cell_type": "code",
   "execution_count": null,
   "id": "ef3a56a9-8cf8-4ed1-bfe3-e76c5f01352a",
   "metadata": {},
   "outputs": [],
   "source": [
    "# ROC curve\n",
    "keys =[]\n",
    "plt.figure(figsize=(5,4.5))\n",
    "for i, key in enumerate(signal):\n",
    "    fpr, tpr, _ = roc_curve(signal[key]['target'], signal[key]['pred'])\n",
    "    plt.plot(tpr, fpr)\n",
    "    plt.yscale('log')\n",
    "    keys.append(key)\n",
    "    # Uncomment to see all the plots in different figure\n",
    "    #plt.show()\n",
    "\n",
    "plt.xlabel('TPR')\n",
    "plt.ylabel('FPR')\n",
    "plt.tight_layout()\n",
    "\n",
    "plt.legend(keys)\n",
    "plt.show()"
   ]
  },
  {
   "cell_type": "code",
   "execution_count": null,
   "id": "92f91866-eb33-42f8-a28c-40385dcf76e8",
   "metadata": {},
   "outputs": [],
   "source": []
  }
 ],
 "metadata": {
  "kernelspec": {
   "display_name": "Python 3 (ipykernel)",
   "language": "python",
   "name": "python3"
  },
  "language_info": {
   "codemirror_mode": {
    "name": "ipython",
    "version": 3
   },
   "file_extension": ".py",
   "mimetype": "text/x-python",
   "name": "python",
   "nbconvert_exporter": "python",
   "pygments_lexer": "ipython3",
   "version": "3.10.14"
  }
 },
 "nbformat": 4,
 "nbformat_minor": 5
}

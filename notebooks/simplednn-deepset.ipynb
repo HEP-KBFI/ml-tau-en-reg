{
 "cells": [
  {
   "cell_type": "code",
   "execution_count": 1,
   "id": "bcf2e03a-2a98-4267-a4a4-707c76abe414",
   "metadata": {},
   "outputs": [],
   "source": [
    "import awkward as ak\n",
    "import torch\n",
    "import numpy as np\n",
    "import vector\n",
    "import tqdm\n",
    "\n",
    "from torch import nn\n",
    "from torch.utils.data import Dataset\n",
    "import torch.nn.functional as F\n",
    "\n",
    "import sklearn\n",
    "import sklearn.metrics\n",
    "import matplotlib\n",
    "import matplotlib.pyplot as plt"
   ]
  },
  {
   "cell_type": "code",
   "execution_count": 2,
   "id": "80efbc5d-a691-4272-8e1c-1d59586d2284",
   "metadata": {},
   "outputs": [],
   "source": [
    "device = torch.device(\"cpu\")\n",
    "cls_loss = nn.CrossEntropyLoss(reduction=\"none\")\n",
    "reg_loss = nn.L1Loss(reduction=\"none\")\n",
    "dm_loss = nn.CrossEntropyLoss(reduction=\"none\")"
   ]
  },
  {
   "cell_type": "code",
   "execution_count": 3,
   "id": "efc2025e-ae5f-479a-96db-ac4563109346",
   "metadata": {},
   "outputs": [],
   "source": [
    "def med_iqr(arr):\n",
    "    if len(arr) > 0:\n",
    "        p25 = np.percentile(arr, 25)\n",
    "        p50 = np.percentile(arr, 50)\n",
    "        p75 = np.percentile(arr, 75)\n",
    "    else:\n",
    "        p25 = 0.0\n",
    "        p50 = 0.0\n",
    "        p75 = 0.0\n",
    "    return p50, p75 - p25\n",
    "\n",
    "def to_p4(p4_obj):\n",
    "    if \"tau\" in p4_obj.fields:\n",
    "        return vector.awk(\n",
    "            ak.zip(\n",
    "                {\n",
    "                    \"mass\": p4_obj.tau,\n",
    "                    \"px\": p4_obj.x,\n",
    "                    \"py\": p4_obj.y,\n",
    "                    \"pz\": p4_obj.z,\n",
    "                }\n",
    "            )\n",
    "        )\n",
    "    elif \"t\" in p4_obj.fields:\n",
    "        return vector.awk(\n",
    "            ak.zip(\n",
    "                {\n",
    "                    \"energy\": p4_obj.t,\n",
    "                    \"px\": p4_obj.x,\n",
    "                    \"py\": p4_obj.y,\n",
    "                    \"pz\": p4_obj.z,\n",
    "                }\n",
    "            )\n",
    "        )\n",
    "    else:\n",
    "        raise Exception(\"Unknown fields: {}\".format(p4_obj.fields))"
   ]
  },
  {
   "cell_type": "code",
   "execution_count": 4,
   "id": "0cf21d0e-7195-47fb-90a3-d57abc0abbc4",
   "metadata": {},
   "outputs": [],
   "source": [
    "d = ak.from_parquet(\"/home/norman/ml-tau-en-reg/enreg/data/zh.parquet\")"
   ]
  },
  {
   "cell_type": "code",
   "execution_count": 7,
   "id": "e7d447c6-6c7b-4bf4-b639-40a8ffad7d31",
   "metadata": {},
   "outputs": [
    {
     "data": {
      "text/html": [
       "<pre>[True,\n",
       " True,\n",
       " True,\n",
       " True,\n",
       " True,\n",
       " True,\n",
       " True,\n",
       " True,\n",
       " True,\n",
       " True,\n",
       " ...,\n",
       " True,\n",
       " True,\n",
       " True,\n",
       " True,\n",
       " True,\n",
       " True,\n",
       " True,\n",
       " True,\n",
       " True]\n",
       "-------------------\n",
       "type: 530722 * bool</pre>"
      ],
      "text/plain": [
       "<Array [True, True, True, True, ..., True, True, True] type='530722 * bool'>"
      ]
     },
     "execution_count": 7,
     "metadata": {},
     "output_type": "execute_result"
    }
   ],
   "source": [
    "d['gen_jet_tau_decaymode'] != -1"
   ]
  },
  {
   "cell_type": "code",
   "execution_count": 9,
   "id": "ef41054a-7d01-42a1-953b-3cb4fee97df6",
   "metadata": {},
   "outputs": [
    {
     "data": {
      "text/plain": [
       "\u001b[0;31mType:\u001b[0m        module\n",
       "\u001b[0;31mString form:\u001b[0m <module 'torch.nn.functional' from '/opt/conda/lib/python3.10/site-packages/torch/nn/functional.py'>\n",
       "\u001b[0;31mFile:\u001b[0m        /opt/conda/lib/python3.10/site-packages/torch/nn/functional.py\n",
       "\u001b[0;31mDocstring:\u001b[0m   Functional interface."
      ]
     },
     "metadata": {},
     "output_type": "display_data"
    }
   ],
   "source": [
    "torch.nn.functional?"
   ]
  },
  {
   "cell_type": "code",
   "execution_count": 5,
   "id": "224302fa-c097-4cc4-bf29-3717f3e94c6c",
   "metadata": {},
   "outputs": [],
   "source": [
    "#stores the observables and targets for either one jet, or a batch of jets\n",
    "class Jet:\n",
    "    def __init__(\n",
    "        self,\n",
    "        pfs: torch.Tensor,\n",
    "        pfs_mask: torch.Tensor,\n",
    "        reco_jet_pt: torch.Tensor,\n",
    "        gen_tau_label: torch.Tensor,\n",
    "        gen_tau_pt: torch.Tensor\n",
    "    ):\n",
    "        self.pfs = pfs\n",
    "        self.pfs_mask = pfs_mask\n",
    "        self.reco_jet_pt = reco_jet_pt\n",
    "        self.gen_tau_label = gen_tau_label\n",
    "        self.gen_tau_pt = gen_tau_pt\n",
    "        \n",
    "class TauDataset(Dataset):\n",
    "    def __init__(self, filenames):\n",
    "        datas = []\n",
    "\n",
    "        #load all files, concatenate, shuffle\n",
    "        for fn in filenames:\n",
    "            d = ak.from_parquet(fn)\n",
    "            datas.append(d)\n",
    "        data_all = ak.concatenate(datas, axis=0)\n",
    "        sort_idx = np.random.permutation(len(data_all))\n",
    "        data_all = data_all[sort_idx]\n",
    "\n",
    "        #per-jet PF candidates\n",
    "        pf_p4s = to_p4(data_all[\"reco_cand_p4s\"])\n",
    "\n",
    "        #indices to map each PF candidate to jet \n",
    "        self.pf_lengths = ak.to_numpy(ak.num(pf_p4s))\n",
    "        self.pf_startidx = np.cumsum(self.pf_lengths)\n",
    "        self.pf_startidx -= self.pf_lengths\n",
    "\n",
    "        #per PF candidate observables\n",
    "        self.pf_pt = torch.unsqueeze(torch.tensor(ak.to_numpy(ak.flatten(pf_p4s.pt))), axis=-1).to(torch.float32)\n",
    "        self.pf_eta = torch.unsqueeze(torch.tensor(ak.to_numpy(ak.flatten(pf_p4s.eta))), axis=-1).to(torch.float32)\n",
    "        self.pf_phi = torch.unsqueeze(torch.tensor(ak.to_numpy(ak.flatten(pf_p4s.phi))), axis=-1).to(torch.float32)\n",
    "        self.pf_energy = torch.unsqueeze(torch.tensor(ak.to_numpy(ak.flatten(pf_p4s.energy))), axis=-1).to(torch.float32)\n",
    "        self.pf_pdg = torch.unsqueeze(torch.tensor(ak.to_numpy(ak.flatten(np.abs(data_all[\"reco_cand_pdg\"])))), axis=-1).to(torch.float32)\n",
    "        self.pf_charge = torch.unsqueeze(torch.tensor(ak.to_numpy(ak.flatten(data_all[\"reco_cand_charge\"]))), axis=-1).to(torch.float32)\n",
    "\n",
    "        #per-jet observables\n",
    "        reco_jet_p4s = to_p4(data_all[\"reco_jet_p4s\"])\n",
    "        self.reco_jet_pts = torch.unsqueeze(torch.tensor(ak.to_numpy(reco_jet_p4s.pt)), axis=-1).to(torch.float32)\n",
    "\n",
    "        #per-jet targets\n",
    "        gen_jet_p4s = to_p4(data_all[\"gen_jet_tau_p4s\"])\n",
    "        print(gen_jet_p4s.fields)\n",
    "        self.gen_tau_labels = torch.unsqueeze(torch.tensor(ak.to_numpy(data_all[\"gen_jet_tau_decaymode\"])), axis=-1).to(torch.float32)\n",
    "        self.gen_tau_pts = torch.unsqueeze(torch.tensor(ak.to_numpy(gen_jet_p4s.pt)), axis=-1).to(torch.float32)\n",
    "\n",
    "    def __len__(self):\n",
    "        return len(self.pf_lengths)\n",
    "\n",
    "    def __getitem__(self, idx):\n",
    "        assert(isinstance(idx, int))\n",
    "\n",
    "        #get the indices of the PF candidates of the jet at 'idx'\n",
    "        pf_range = range(self.pf_startidx[idx], self.pf_startidx[idx] + self.pf_lengths[idx])\n",
    "        pf_pt = self.pf_pt[pf_range]\n",
    "        pf_eta = self.pf_eta[pf_range]\n",
    "        pf_phi = self.pf_phi[pf_range]\n",
    "        pf_energy = self.pf_energy[pf_range]\n",
    "        pf_pdg = self.pf_pdg[pf_range] #FIXME: this could be better as a one-hot encoded value, rather than a floating-point PDGID value\n",
    "        pf_charge = self.pf_charge[pf_range]\n",
    "        pfs = torch.concatenate([pf_pt, pf_eta, torch.sin(pf_phi), torch.cos(pf_phi), pf_energy, pf_pdg, pf_charge], axis=-1)\n",
    "        \n",
    "        return Jet(\n",
    "            pfs=pfs,\n",
    "            pfs_mask=torch.ones(pfs.shape[0], dtype=torch.float32),\n",
    "            reco_jet_pt=self.reco_jet_pts[idx],\n",
    "            gen_tau_label=self.gen_tau_labels[idx],\n",
    "            gen_tau_pt=self.gen_tau_pts[idx]\n",
    "        )\n",
    "        \n",
    "#given multiple jets with a variable number of PF candidates per jet, create 3d-padded arrays\n",
    "#in the shape [Njets, Npfs_max, Nfeat]\n",
    "def pad_collate(jets):\n",
    "    pfs = [jet.pfs for jet in jets]\n",
    "    pfs_mask = [jet.pfs_mask for jet in jets]\n",
    "    gen_tau_label = [jet.gen_tau_label for jet in jets]\n",
    "    gen_tau_pt = [jet.gen_tau_pt for jet in jets]\n",
    "    reco_jet_pt = [jet.reco_jet_pt for jet in jets]\n",
    "    \n",
    "    pfs = torch.nn.utils.rnn.pad_sequence(pfs, batch_first=True)\n",
    "    pfs_mask = torch.nn.utils.rnn.pad_sequence(pfs_mask, batch_first=True)\n",
    "    gen_tau_label = torch.concatenate(gen_tau_label, axis=0)\n",
    "    gen_tau_pt = torch.concatenate(gen_tau_pt, axis=0)\n",
    "    reco_jet_pt = torch.concatenate(reco_jet_pt, axis=0)\n",
    "    \n",
    "    return Jet(\n",
    "        pfs=pfs,\n",
    "        pfs_mask=pfs_mask,\n",
    "        reco_jet_pt=reco_jet_pt,\n",
    "        gen_tau_label=gen_tau_label,\n",
    "        gen_tau_pt=gen_tau_pt\n",
    "    )"
   ]
  },
  {
   "cell_type": "code",
   "execution_count": 6,
   "id": "f8876aaf-8ff8-47c5-bb27-6c064f1fe69a",
   "metadata": {},
   "outputs": [],
   "source": [
    "loader_kwargs = {\n",
    "    \"batch_size\": 2048,\n",
    "    \"collate_fn\": pad_collate,\n",
    "    \"num_workers\": 8,\n",
    "    \"prefetch_factor\": 20,\n",
    "    # \"pin_memory\": True,\n",
    "    # \"pin_memory_device\": \"cuda\",\n",
    "}"
   ]
  },
  {
   "cell_type": "code",
   "execution_count": 7,
   "id": "01eee254-84e3-47c8-994b-70da77619a52",
   "metadata": {},
   "outputs": [
    {
     "data": {
      "text/plain": [
       "['x', 'y', 'z', 'tau']"
      ]
     },
     "execution_count": 7,
     "metadata": {},
     "output_type": "execute_result"
    }
   ],
   "source": [
    "d1 = ak.from_parquet(\"/home/norman/ml-tau-en-reg/enreg/data/qq.parquet\")\n",
    "d1[\"gen_jet_tau_p4s\"].fields"
   ]
  },
  {
   "cell_type": "code",
   "execution_count": 8,
   "id": "f5df4435-d30a-45a2-b700-2b49be8dc90c",
   "metadata": {},
   "outputs": [
    {
     "data": {
      "text/plain": [
       "['x', 'y', 'z', 'tau']"
      ]
     },
     "execution_count": 8,
     "metadata": {},
     "output_type": "execute_result"
    }
   ],
   "source": [
    "d2 = ak.from_parquet(\"/home/norman/ml-tau-en-reg/enreg/data/z.parquet\")\n",
    "d2[\"gen_jet_tau_p4s\"].fields"
   ]
  },
  {
   "cell_type": "code",
   "execution_count": 9,
   "id": "35ad1701-8f8a-444d-963e-c8976b4aff4a",
   "metadata": {},
   "outputs": [
    {
     "data": {
      "text/plain": [
       "['x', 'y', 'z', 'tau']"
      ]
     },
     "execution_count": 9,
     "metadata": {},
     "output_type": "execute_result"
    }
   ],
   "source": [
    "d3 = ak.from_parquet(\"/home/norman/ml-tau-en-reg/enreg/data/zh.parquet\")\n",
    "d3[\"gen_jet_tau_p4s\"].fields"
   ]
  },
  {
   "cell_type": "code",
   "execution_count": 10,
   "id": "87179ebc-dfbb-4fc1-81aa-535766736dd2",
   "metadata": {},
   "outputs": [
    {
     "name": "stdout",
     "output_type": "stream",
     "text": [
      "['x', 'y', 'z', 'tau']\n"
     ]
    }
   ],
   "source": [
    "#for training the tau classifier, use tau and non-tau datasets\n",
    "ds_sig_and_bkg = TauDataset([\"/home/norman/ml-tau-en-reg/enreg/data/qq.parquet\", \"/home/norman/ml-tau-en-reg/enreg/data/z.parquet\"])\n",
    "# ds_sig_and_bkg = torch.utils.data.Subset(ds_sig_and_bkg, range(200000))\n",
    "ds_train, ds_val = torch.utils.data.random_split(ds_sig_and_bkg, [0.6, 0.4])\n",
    "\n",
    "dl_sig_and_bkg_train = torch.utils.data.DataLoader(ds_train, **loader_kwargs)\n",
    "dl_sig_and_bkg_val = torch.utils.data.DataLoader(ds_val, **loader_kwargs)"
   ]
  },
  {
   "cell_type": "code",
   "execution_count": 11,
   "id": "18afa5ca-cf47-47e5-9ef3-22969e07d53a",
   "metadata": {},
   "outputs": [
    {
     "name": "stdout",
     "output_type": "stream",
     "text": [
      "['x', 'y', 'z', 'tau']\n"
     ]
    }
   ],
   "source": [
    "#for training tau pt regression and decay mode, only use the tau dataset\n",
    "ds_sig = TauDataset([\"/home/norman/ml-tau-en-reg/enreg/data/z.parquet\", \"/home/norman/ml-tau-en-reg/enreg/data/zh.parquet\"])\n",
    "# ds_sig = torch.utils.data.Subset(ds_sig, range(200000))\n",
    "ds_train, ds_val = torch.utils.data.random_split(ds_sig_and_bkg, [0.6, 0.4])\n",
    "\n",
    "dl_sig_train = torch.utils.data.DataLoader(ds_train, **loader_kwargs)\n",
    "dl_sig_val = torch.utils.data.DataLoader(ds_val, **loader_kwargs)"
   ]
  },
  {
   "cell_type": "code",
   "execution_count": 12,
   "id": "489ad1c9-b51c-4c7c-bfe5-bfa009362975",
   "metadata": {},
   "outputs": [],
   "source": [
    "def ffn(input_dim, output_dim, width, act, dropout):\n",
    "    return nn.Sequential(\n",
    "        nn.Linear(input_dim, width),\n",
    "        act(),\n",
    "        nn.Dropout(dropout),\n",
    "        nn.Linear(width, width),\n",
    "        act(),\n",
    "        nn.Dropout(dropout),\n",
    "        nn.Linear(width, width),\n",
    "        act(),\n",
    "        nn.Dropout(dropout),\n",
    "        nn.Linear(width, output_dim),\n",
    "    )\n",
    "    \n",
    "class DeepSet(nn.Module):\n",
    "    def __init__(self, num_outputs):\n",
    "        super(DeepSet, self).__init__()\n",
    "\n",
    "        self.act = nn.ReLU\n",
    "        self.act_obj = self.act()\n",
    "        self.dropout = 0.1\n",
    "        self.width = 64\n",
    "        self.embedding_dim = 64\n",
    "\n",
    "        #number of inputs\n",
    "        self.num_pf_features = 7\n",
    "\n",
    "        self.nn_pf_embedding = ffn(self.num_pf_features, self.embedding_dim, self.width, self.act, self.dropout)\n",
    "        self.nn_pred = ffn(self.embedding_dim, num_outputs, self.width, self.act, self.dropout)\n",
    "\n",
    "    def forward(self, pfs_pad, pfs_mask):\n",
    "        pfs_mask = torch.unsqueeze(pfs_mask, axis=-1)\n",
    "        pf_encoded = self.act_obj(self.nn_pf_embedding(pfs_pad))*pfs_mask\n",
    "        num_pfs = torch.sum(pfs_mask, axis=1)\n",
    "        jet_encoded1 = self.act_obj(torch.sum(pf_encoded, axis=1)/num_pfs)\n",
    "        ret = self.nn_pred(jet_encoded1)\n",
    "        return ret"
   ]
  },
  {
   "cell_type": "code",
   "execution_count": 59,
   "id": "484ad2e6-aa61-452a-8c25-eac3b5ea239d",
   "metadata": {},
   "outputs": [],
   "source": [
    "def model_loop(model, optimizer, ds_loader, dev, is_train=True, kind=\"binary\"):\n",
    "    loss_tot = 0.0\n",
    "    pred_vals = []\n",
    "    true_vals = []\n",
    "    for ibatch, batched_jets in enumerate(tqdm.tqdm(ds_loader, total=len(ds_loader), ncols=80)):\n",
    "        \n",
    "        pfs = batched_jets.pfs.to(dev, non_blocking=True)\n",
    "        pfs_mask = batched_jets.pfs_mask.to(dev, non_blocking=True)\n",
    "        gen_tau_label = batched_jets.gen_tau_label.to(dev, non_blocking=True)\n",
    "        true_istau = gen_tau_label!=-1\n",
    "\n",
    "        pred = model(pfs, pfs_mask)\n",
    "\n",
    "        if kind == \"binary\":\n",
    "            assert(pred.shape[1] == 2)\n",
    "            pred_vals.append(pred[:, 1].detach().cpu())\n",
    "            true_vals.append(true_istau.cpu())\n",
    "            loss = cls_loss(pred, true_istau.long()).mean()\n",
    "        elif kind == \"ptreg\":\n",
    "            #pred = log(ptgen/ptreco) -> ptgen = exp(pred)*ptreco\n",
    "            assert(pred.shape[1] == 1)\n",
    "            pred = torch.squeeze(pred, dim=-1)\n",
    "            gen_tau_pt = batched_jets.gen_tau_pt.to(dev, non_blocking=True)\n",
    "            reco_jet_pt = batched_jets.reco_jet_pt.to(dev, non_blocking=True)\n",
    "\n",
    "            target = torch.log(gen_tau_pt/reco_jet_pt)\n",
    "            \n",
    "            pred_pt = torch.exp(pred) * reco_jet_pt\n",
    "            pred_vals.append(pred_pt[gen_tau_label!=-1].detach().cpu())\n",
    "            true_vals.append(gen_tau_pt[gen_tau_label!=-1].cpu())\n",
    "            loss = reg_loss(pred[true_istau], target[true_istau])\n",
    "            loss = torch.sum(loss) / torch.sum(true_istau)\n",
    "        elif kind == \"dm_multiclass\":\n",
    "            assert(pred.shape[1] == 16)\n",
    "            pred_vals.append(torch.argmax(pred[true_istau], axis=-1).detach().cpu())\n",
    "            true_vals.append(gen_tau_label[true_istau].cpu())\n",
    "            target_onehot = torch.nn.functional.one_hot(gen_tau_label[true_istau].long(), 16).float()\n",
    "            \n",
    "            # print(\"target\", target_onehot.shape)\n",
    "            # print(\"target\", target_onehot)\n",
    "            print(\"pred\", pred.shape)\n",
    "            print(\"pred\", pred)\n",
    "            # print(\"-----------------\")\n",
    "            print(torch.argmax(pred, axis=-1))\n",
    "            # print(torch.argmax(pred[true_istau], axis=-1)[0])\n",
    "            # print(gen_tau_label[true_istau])\n",
    "            \n",
    "            loss = dm_loss(pred[true_istau], target_onehot)\n",
    "            loss = torch.sum(loss) / torch.sum(true_istau)\n",
    "        else:\n",
    "            raise Exception(\"Unknown kind={}\".format(kind))\n",
    "            \n",
    "        if is_train:\n",
    "            optimizer.zero_grad()\n",
    "            loss.backward()\n",
    "            optimizer.step()\n",
    "\n",
    "        loss_tot += loss.detach().cpu().item()\n",
    "    return loss_tot, pred_vals, true_vals"
   ]
  },
  {
   "cell_type": "code",
   "execution_count": 16,
   "id": "e10e7a77-ce23-4799-acf2-5d376c4a30f7",
   "metadata": {},
   "outputs": [
    {
     "data": {
      "text/plain": [
       "\u001b[0;31mDocstring:\u001b[0m\n",
       "argmax(input) -> LongTensor\n",
       "\n",
       "Returns the indices of the maximum value of all elements in the :attr:`input` tensor.\n",
       "\n",
       "This is the second value returned by :meth:`torch.max`. See its\n",
       "documentation for the exact semantics of this method.\n",
       "\n",
       ".. note:: If there are multiple maximal values then the indices of the first maximal value are returned.\n",
       "\n",
       "Args:\n",
       "    input (Tensor): the input tensor.\n",
       "\n",
       "Example::\n",
       "\n",
       "    >>> a = torch.randn(4, 4)\n",
       "    >>> a\n",
       "    tensor([[ 1.3398,  0.2663, -0.2686,  0.2450],\n",
       "            [-0.7401, -0.8805, -0.3402, -1.1936],\n",
       "            [ 0.4907, -1.3948, -1.0691, -0.3132],\n",
       "            [-1.6092,  0.5419, -0.2993,  0.3195]])\n",
       "    >>> torch.argmax(a)\n",
       "    tensor(0)\n",
       "\n",
       ".. function:: argmax(input, dim, keepdim=False) -> LongTensor\n",
       "   :noindex:\n",
       "\n",
       "Returns the indices of the maximum values of a tensor across a dimension.\n",
       "\n",
       "This is the second value returned by :meth:`torch.max`. See its\n",
       "documentation for the exact semantics of this method.\n",
       "\n",
       "Args:\n",
       "    input (Tensor): the input tensor.\n",
       "    dim (int): the dimension to reduce. If ``None``, the argmax of the flattened input is returned.\n",
       "    keepdim (bool): whether the output tensor has :attr:`dim` retained or not.\n",
       "\n",
       "Example::\n",
       "\n",
       "    >>> a = torch.randn(4, 4)\n",
       "    >>> a\n",
       "    tensor([[ 1.3398,  0.2663, -0.2686,  0.2450],\n",
       "            [-0.7401, -0.8805, -0.3402, -1.1936],\n",
       "            [ 0.4907, -1.3948, -1.0691, -0.3132],\n",
       "            [-1.6092,  0.5419, -0.2993,  0.3195]])\n",
       "    >>> torch.argmax(a, dim=1)\n",
       "    tensor([ 0,  2,  0,  1])\n",
       "\u001b[0;31mType:\u001b[0m      builtin_function_or_method"
      ]
     },
     "metadata": {},
     "output_type": "display_data"
    }
   ],
   "source": [
    "torch.argmax?"
   ]
  },
  {
   "cell_type": "code",
   "execution_count": null,
   "id": "2a9b1df3-5d33-4f08-bff7-1068e8776d78",
   "metadata": {},
   "outputs": [],
   "source": [
    "#Train binary classification head with two outputs (tau vs. notau logits)\n",
    "model_binary_classifier = DeepSet(2).to(device)\n",
    "optimizer = torch.optim.AdamW(model_binary_classifier.parameters(), lr=1e-3)\n",
    "\n",
    "losses_train = []\n",
    "losses_val = []\n",
    "\n",
    "for iepoch in range(20):\n",
    "    loss_train, _, _ = model_loop(model_binary_classifier, optimizer, dl_sig_and_bkg_train, device, True, kind=\"binary\")\n",
    "    loss_val, pred_val_cls, true_val_cls = model_loop(model_binary_classifier, optimizer, dl_sig_and_bkg_val, device, False, kind=\"binary\")\n",
    "    print(\"{} L={:.2f}/{:.2f}\".format(iepoch, loss_train, loss_val))\n",
    "    losses_train.append(loss_train)\n",
    "    losses_val.append(loss_val)"
   ]
  },
  {
   "cell_type": "code",
   "execution_count": null,
   "id": "60c17f2a-7a09-4a19-9d3c-008d50b294ae",
   "metadata": {},
   "outputs": [],
   "source": [
    "fpr, tpr, _ = sklearn.metrics.roc_curve(torch.concatenate(true_val_cls), torch.concatenate(pred_val_cls))\n",
    "plt.figure(figsize=(5,5))\n",
    "plt.title(\"epoch={} val_loss={:.2f}\".format(iepoch, loss_val))\n",
    "plt.plot(tpr, fpr)\n",
    "plt.yscale(\"log\")\n",
    "plt.ylim(1e-6,1)\n",
    "plt.xlim(0,1)\n",
    "plt.xlabel(\"TPR\")\n",
    "plt.ylabel(\"FPR\")"
   ]
  },
  {
   "cell_type": "code",
   "execution_count": null,
   "id": "d3fac614-3ab0-440c-9b78-cb9b3c5856fb",
   "metadata": {},
   "outputs": [],
   "source": [
    "plt.figure()\n",
    "plt.plot(losses_train, label=\"train\")\n",
    "plt.plot(losses_val, label=\"validation\")\n",
    "plt.ylim(losses_val[-1]*0.5, losses_val[-1]*4)\n",
    "plt.xlabel(\"epoch\")\n",
    "plt.ylabel(\"loss, tau identification\")\n",
    "plt.legend(loc=\"best\")"
   ]
  },
  {
   "cell_type": "code",
   "execution_count": null,
   "id": "fe3aafd4-b1a2-4cbb-ae1e-d27336f82d63",
   "metadata": {},
   "outputs": [],
   "source": [
    "#Train pt regression head, predicts one value: y=log(ptgen/ptreco)\n",
    "model_ptreg = DeepSet(1).to(device)\n",
    "optimizer = torch.optim.AdamW(model_ptreg.parameters(), lr=1e-3)\n",
    "\n",
    "losses_train = []\n",
    "losses_val = []\n",
    "\n",
    "for iepoch in range(20):\n",
    "    loss_train, _, _ = model_loop(model_ptreg, optimizer, dl_sig_train, device, is_train=True, kind=\"ptreg\")\n",
    "    loss_val, pred_val_reg, true_val_reg = model_loop(model_ptreg, optimizer, dl_sig_val, device, is_train=False, kind=\"ptreg\")\n",
    "    print(\"{} L={:.2f}/{:.2f}\".format(iepoch, loss_train, loss_val))\n",
    "    losses_train.append(loss_train)\n",
    "    losses_val.append(loss_val)"
   ]
  },
  {
   "cell_type": "code",
   "execution_count": null,
   "id": "13571b3c-93a5-4e16-8534-946c01a2b496",
   "metadata": {},
   "outputs": [],
   "source": [
    "plt.figure()\n",
    "plt.plot(losses_train, label=\"train\")\n",
    "plt.plot(losses_val, label=\"validation\")\n",
    "#plt.ylim(losses_val[-1]*0.8, losses_val[-1]*1.5)\n",
    "plt.xlabel(\"epoch\")\n",
    "plt.ylabel(\"loss, pt regression\")\n",
    "plt.legend(loc=\"best\")"
   ]
  },
  {
   "cell_type": "code",
   "execution_count": null,
   "id": "f1f86af3-f4fd-486a-a265-b392ae9304ea",
   "metadata": {},
   "outputs": [],
   "source": [
    "true_pts = torch.concatenate(true_val_reg)\n",
    "pred_pts = torch.concatenate(pred_val_reg)\n",
    "b = np.linspace(0,200,100)\n",
    "plt.hist(true_pts, bins=b, histtype=\"step\", lw=1, label=\"true\");\n",
    "plt.hist(pred_pts, bins=b, histtype=\"step\", lw=1, label=\"pred\");\n",
    "plt.xlabel(\"pT\")\n",
    "plt.legend(loc=\"best\")"
   ]
  },
  {
   "cell_type": "code",
   "execution_count": null,
   "id": "132329b3-d8c5-40a9-8430-a8f491678a5d",
   "metadata": {},
   "outputs": [],
   "source": [
    "b = np.linspace(0,200,100)\n",
    "plt.figure(figsize=(5,5))\n",
    "plt.hist2d(true_pts, pred_pts, bins=(b,b), cmap=\"Blues\");\n",
    "plt.plot([0,200], [0,200], color=\"black\", ls=\"--\", lw=0.5)\n",
    "plt.xlabel(\"true pT\")\n",
    "plt.ylabel(\"pred pT\")"
   ]
  },
  {
   "cell_type": "code",
   "execution_count": null,
   "id": "1d92fe5f-1e1f-4f9c-9e73-226f1cce6872",
   "metadata": {},
   "outputs": [],
   "source": [
    "b = np.linspace(0,200,100)\n",
    "plt.figure(figsize=(5,5))\n",
    "plt.hist2d(true_pts, pred_pts, bins=(b,b), cmap=\"Blues\", norm=matplotlib.colors.LogNorm());\n",
    "plt.plot([0,200], [0,200], color=\"black\", ls=\"--\", lw=0.5)\n",
    "plt.xlabel(\"true pT\")\n",
    "plt.ylabel(\"pred pT\")"
   ]
  },
  {
   "cell_type": "code",
   "execution_count": null,
   "id": "67683138-2702-4dea-9fea-678161e88bf4",
   "metadata": {},
   "outputs": [],
   "source": [
    "b = np.linspace(0,2,100)\n",
    "plt.figure(figsize=(5,5))\n",
    "ratio = pred_pts/true_pts\n",
    "plt.hist(ratio, bins=b, histtype=\"step\", lw=1);\n",
    "med, iqr = med_iqr(ratio)\n",
    "plt.title(\"M={:.2f}, IQR/M={:.2f}\".format(med, iqr/med))\n",
    "plt.axvline(1.0, color=\"black\", ls=\"--\", lw=0.5)\n",
    "plt.xlabel(\"pred/true pT\")\n",
    "plt.ylabel(\"number of jets / bin\")"
   ]
  },
  {
   "cell_type": "code",
   "execution_count": null,
   "id": "ba97e08e-2642-4c9e-9516-745ea0f7e5ad",
   "metadata": {},
   "outputs": [],
   "source": [
    "pred_pts[(true_pts>20) & (true_pts<30)]"
   ]
  },
  {
   "cell_type": "code",
   "execution_count": null,
   "id": "84383ea6-f942-451f-a8b1-cf8c0c87f8b8",
   "metadata": {},
   "outputs": [],
   "source": [
    "b = np.linspace(0,10,100)\n",
    "plt.figure(figsize=(5,5))\n",
    "ratio = pred_pts/true_pts\n",
    "plt.hist(ratio, bins=b, histtype=\"step\", lw=1);\n",
    "plt.yscale(\"log\")\n",
    "med, iqr = med_iqr(ratio)\n",
    "plt.title(\"M={:.2f}, IQR/M={:.2f}\".format(med, iqr/med))\n",
    "plt.axvline(1.0, color=\"black\", ls=\"--\", lw=0.5)\n",
    "plt.xlabel(\"pred/true pT\")\n",
    "plt.ylabel(\"number of jets / bin\")"
   ]
  },
  {
   "cell_type": "code",
   "execution_count": null,
   "id": "b3e63b00-2f6b-4819-923d-7f53abae39bc",
   "metadata": {},
   "outputs": [],
   "source": [
    "bins = [20,30,40,50,60,70,80,90,100,125,150,175,200]\n",
    "medvals = []\n",
    "meanvals = []\n",
    "iqrvals = []\n",
    "fig = plt.figure(figsize=(12,8))\n",
    "for ibin in range(len(bins)-1):\n",
    "    msk = (true_pts>bins[ibin]) & (true_pts<bins[ibin+1])\n",
    "    med, iqr = med_iqr(ratio[msk])\n",
    "    meanvals.append(ratio[msk].mean())\n",
    "    ax1 = plt.subplot(3, 4, ibin+1)\n",
    "    plt.title(\"bin={},{}\".format(bins[ibin], bins[ibin+1]))\n",
    "    plt.hist(ratio[msk], bins=np.linspace(0.5,1.5,101), histtype=\"step\", lw=0.5, density=1, color=\"black\")\n",
    "    medvals.append(med)\n",
    "    iqrvals.append(iqr/med)\n",
    "plt.tight_layout()"
   ]
  },
  {
   "cell_type": "code",
   "execution_count": null,
   "id": "684d9d8f-7efc-4927-98e1-ba42351bd250",
   "metadata": {},
   "outputs": [],
   "source": [
    "plt.figure()\n",
    "plt.plot(bins[:-1], medvals, marker=\"o\")\n",
    "plt.ylabel(\"median of pred/true pT\")\n",
    "plt.axhline(1.0, color=\"black\", ls=\"--\")\n",
    "plt.ylim(0.95,1.05)\n",
    "plt.xlabel(\"true pT\")"
   ]
  },
  {
   "cell_type": "code",
   "execution_count": null,
   "id": "bbefbf22-7b37-4fe5-986f-7a06e8bc882e",
   "metadata": {},
   "outputs": [],
   "source": [
    "plt.figure()\n",
    "plt.plot(bins[:-1], iqrvals, marker=\"o\")\n",
    "plt.ylabel(\"IQR/median of pred/true pT\")\n",
    "plt.xlabel(\"true pT\")\n",
    "plt.ylim(0.0, 0.1)"
   ]
  },
  {
   "cell_type": "code",
   "execution_count": 60,
   "id": "79515bec-4cb7-4205-b141-60b77a27e69d",
   "metadata": {},
   "outputs": [
    {
     "name": "stderr",
     "output_type": "stream",
     "text": [
      "  0%|                                          | 1/1167 [00:02<50:50,  2.62s/it]"
     ]
    },
    {
     "name": "stdout",
     "output_type": "stream",
     "text": [
      "pred torch.Size([2048, 16])\n",
      "pred tensor([[ 0.0351, -0.2065,  0.2026,  ...,  0.0713, -0.0439, -0.0272],\n",
      "        [-0.0097, -0.1422,  0.1584,  ...,  0.0242, -0.0528, -0.0526],\n",
      "        [ 0.0017, -0.1560,  0.1268,  ...,  0.0235, -0.0215, -0.0631],\n",
      "        ...,\n",
      "        [-0.0849, -0.1639,  0.1564,  ...,  0.0175, -0.0050, -0.1179],\n",
      "        [ 0.0499, -0.1587,  0.1605,  ...,  0.0879, -0.0410, -0.0129],\n",
      "        [-0.0111, -0.1507,  0.1327,  ...,  0.0293, -0.0663, -0.0427]],\n",
      "       grad_fn=<AddmmBackward0>)\n",
      "tensor([ 2,  2,  2,  ...,  2, 11, 11])\n"
     ]
    },
    {
     "name": "stderr",
     "output_type": "stream",
     "text": [
      "  0%|                                          | 2/1167 [00:03<26:31,  1.37s/it]"
     ]
    },
    {
     "name": "stdout",
     "output_type": "stream",
     "text": [
      "pred torch.Size([2048, 16])\n",
      "pred tensor([[-0.0322, -0.1238,  0.1523,  ...,  0.0061,  0.0257, -0.1456],\n",
      "        [-0.0427, -0.0812,  0.1197,  ..., -0.0076, -0.0448, -0.1854],\n",
      "        [-0.0197, -0.1014,  0.1294,  ...,  0.0091, -0.0666, -0.1692],\n",
      "        ...,\n",
      "        [-0.0086, -0.0493,  0.1655,  ...,  0.0021, -0.0100, -0.0564],\n",
      "        [ 0.0280, -0.0543,  0.1408,  ...,  0.0148, -0.0871, -0.0623],\n",
      "        [ 0.0104, -0.0874,  0.1508,  ...,  0.0077, -0.1012, -0.0920]],\n",
      "       grad_fn=<AddmmBackward0>)\n",
      "tensor([2, 5, 2,  ..., 2, 2, 2])\n"
     ]
    },
    {
     "name": "stderr",
     "output_type": "stream",
     "text": [
      "  0%|                                          | 3/1167 [00:03<16:19,  1.19it/s]"
     ]
    },
    {
     "name": "stdout",
     "output_type": "stream",
     "text": [
      "pred torch.Size([2048, 16])\n",
      "pred tensor([[-0.0066, -0.0419,  0.1598,  ...,  0.0045, -0.1137, -0.1301],\n",
      "        [ 0.0207, -0.0196,  0.1986,  ..., -0.0242, -0.1004, -0.1001],\n",
      "        [-0.0387, -0.0668,  0.1508,  ...,  0.0540, -0.0353, -0.1040],\n",
      "        ...,\n",
      "        [ 0.0835, -0.0506,  0.1541,  ...,  0.0072, -0.1580, -0.0860],\n",
      "        [ 0.0603, -0.0479,  0.2256,  ...,  0.0353, -0.0743, -0.0921],\n",
      "        [ 0.0122, -0.0270,  0.2125,  ..., -0.0128, -0.0988, -0.1693]],\n",
      "       grad_fn=<AddmmBackward0>)\n",
      "tensor([2, 2, 2,  ..., 2, 2, 2])\n"
     ]
    },
    {
     "name": "stderr",
     "output_type": "stream",
     "text": [
      "  0%|▏                                         | 4/1167 [00:03<12:05,  1.60it/s]"
     ]
    },
    {
     "name": "stdout",
     "output_type": "stream",
     "text": [
      "pred torch.Size([2048, 16])\n",
      "pred tensor([[ 0.0519, -0.0320,  0.1547,  ..., -0.0007, -0.0538, -0.1894],\n",
      "        [ 0.0522, -0.0355,  0.2177,  ..., -0.0155, -0.0637, -0.1615],\n",
      "        [ 0.0222,  0.0224,  0.2269,  ...,  0.0694, -0.0795, -0.1351],\n",
      "        ...,\n",
      "        [-0.0126, -0.0301,  0.1819,  ...,  0.0502, -0.1261, -0.1538],\n",
      "        [ 0.0175,  0.0438,  0.2075,  ...,  0.0121, -0.1162, -0.0779],\n",
      "        [-0.0063, -0.0550,  0.2155,  ..., -0.0810, -0.0707, -0.1454]],\n",
      "       grad_fn=<AddmmBackward0>)\n",
      "tensor([ 2,  2,  2,  ..., 10,  2,  2])\n"
     ]
    },
    {
     "name": "stderr",
     "output_type": "stream",
     "text": [
      "  0%|▏                                         | 4/1167 [00:04<19:59,  1.03s/it]\n"
     ]
    },
    {
     "ename": "KeyboardInterrupt",
     "evalue": "",
     "output_type": "error",
     "traceback": [
      "\u001b[0;31m---------------------------------------------------------------------------\u001b[0m",
      "\u001b[0;31mKeyboardInterrupt\u001b[0m                         Traceback (most recent call last)",
      "Cell \u001b[0;32mIn[60], line 9\u001b[0m\n\u001b[1;32m      6\u001b[0m losses_val \u001b[38;5;241m=\u001b[39m []\n\u001b[1;32m      8\u001b[0m \u001b[38;5;28;01mfor\u001b[39;00m iepoch \u001b[38;5;129;01min\u001b[39;00m \u001b[38;5;28mrange\u001b[39m(\u001b[38;5;241m20\u001b[39m):\n\u001b[0;32m----> 9\u001b[0m     loss_train, _, _ \u001b[38;5;241m=\u001b[39m \u001b[43mmodel_loop\u001b[49m\u001b[43m(\u001b[49m\u001b[43mmodel_dm\u001b[49m\u001b[43m,\u001b[49m\u001b[43m \u001b[49m\u001b[43moptimizer\u001b[49m\u001b[43m,\u001b[49m\u001b[43m \u001b[49m\u001b[43mdl_sig_train\u001b[49m\u001b[43m,\u001b[49m\u001b[43m \u001b[49m\u001b[43mdevice\u001b[49m\u001b[43m,\u001b[49m\u001b[43m \u001b[49m\u001b[43mis_train\u001b[49m\u001b[38;5;241;43m=\u001b[39;49m\u001b[38;5;28;43;01mTrue\u001b[39;49;00m\u001b[43m,\u001b[49m\u001b[43m \u001b[49m\u001b[43mkind\u001b[49m\u001b[38;5;241;43m=\u001b[39;49m\u001b[38;5;124;43m\"\u001b[39;49m\u001b[38;5;124;43mdm_multiclass\u001b[39;49m\u001b[38;5;124;43m\"\u001b[39;49m\u001b[43m)\u001b[49m\n\u001b[1;32m     10\u001b[0m     loss_val, pred_val_dm, true_val_dm \u001b[38;5;241m=\u001b[39m model_loop(model_dm, optimizer, dl_sig_val, device, is_train\u001b[38;5;241m=\u001b[39m\u001b[38;5;28;01mFalse\u001b[39;00m, kind\u001b[38;5;241m=\u001b[39m\u001b[38;5;124m\"\u001b[39m\u001b[38;5;124mdm_multiclass\u001b[39m\u001b[38;5;124m\"\u001b[39m)\n\u001b[1;32m     11\u001b[0m     \u001b[38;5;28mprint\u001b[39m(\u001b[38;5;124m\"\u001b[39m\u001b[38;5;132;01m{}\u001b[39;00m\u001b[38;5;124m L=\u001b[39m\u001b[38;5;132;01m{:.2f}\u001b[39;00m\u001b[38;5;124m/\u001b[39m\u001b[38;5;132;01m{:.2f}\u001b[39;00m\u001b[38;5;124m\"\u001b[39m\u001b[38;5;241m.\u001b[39mformat(iepoch, loss_train, loss_val))\n",
      "Cell \u001b[0;32mIn[59], line 12\u001b[0m, in \u001b[0;36mmodel_loop\u001b[0;34m(model, optimizer, ds_loader, dev, is_train, kind)\u001b[0m\n\u001b[1;32m      9\u001b[0m gen_tau_label \u001b[38;5;241m=\u001b[39m batched_jets\u001b[38;5;241m.\u001b[39mgen_tau_label\u001b[38;5;241m.\u001b[39mto(dev, non_blocking\u001b[38;5;241m=\u001b[39m\u001b[38;5;28;01mTrue\u001b[39;00m)\n\u001b[1;32m     10\u001b[0m true_istau \u001b[38;5;241m=\u001b[39m gen_tau_label\u001b[38;5;241m!=\u001b[39m\u001b[38;5;241m-\u001b[39m\u001b[38;5;241m1\u001b[39m\n\u001b[0;32m---> 12\u001b[0m pred \u001b[38;5;241m=\u001b[39m \u001b[43mmodel\u001b[49m\u001b[43m(\u001b[49m\u001b[43mpfs\u001b[49m\u001b[43m,\u001b[49m\u001b[43m \u001b[49m\u001b[43mpfs_mask\u001b[49m\u001b[43m)\u001b[49m\n\u001b[1;32m     14\u001b[0m \u001b[38;5;28;01mif\u001b[39;00m kind \u001b[38;5;241m==\u001b[39m \u001b[38;5;124m\"\u001b[39m\u001b[38;5;124mbinary\u001b[39m\u001b[38;5;124m\"\u001b[39m:\n\u001b[1;32m     15\u001b[0m     \u001b[38;5;28;01massert\u001b[39;00m(pred\u001b[38;5;241m.\u001b[39mshape[\u001b[38;5;241m1\u001b[39m] \u001b[38;5;241m==\u001b[39m \u001b[38;5;241m2\u001b[39m)\n",
      "File \u001b[0;32m/opt/conda/lib/python3.10/site-packages/torch/nn/modules/module.py:1511\u001b[0m, in \u001b[0;36mModule._wrapped_call_impl\u001b[0;34m(self, *args, **kwargs)\u001b[0m\n\u001b[1;32m   1509\u001b[0m     \u001b[38;5;28;01mreturn\u001b[39;00m \u001b[38;5;28mself\u001b[39m\u001b[38;5;241m.\u001b[39m_compiled_call_impl(\u001b[38;5;241m*\u001b[39margs, \u001b[38;5;241m*\u001b[39m\u001b[38;5;241m*\u001b[39mkwargs)  \u001b[38;5;66;03m# type: ignore[misc]\u001b[39;00m\n\u001b[1;32m   1510\u001b[0m \u001b[38;5;28;01melse\u001b[39;00m:\n\u001b[0;32m-> 1511\u001b[0m     \u001b[38;5;28;01mreturn\u001b[39;00m \u001b[38;5;28;43mself\u001b[39;49m\u001b[38;5;241;43m.\u001b[39;49m\u001b[43m_call_impl\u001b[49m\u001b[43m(\u001b[49m\u001b[38;5;241;43m*\u001b[39;49m\u001b[43margs\u001b[49m\u001b[43m,\u001b[49m\u001b[43m \u001b[49m\u001b[38;5;241;43m*\u001b[39;49m\u001b[38;5;241;43m*\u001b[39;49m\u001b[43mkwargs\u001b[49m\u001b[43m)\u001b[49m\n",
      "File \u001b[0;32m/opt/conda/lib/python3.10/site-packages/torch/nn/modules/module.py:1520\u001b[0m, in \u001b[0;36mModule._call_impl\u001b[0;34m(self, *args, **kwargs)\u001b[0m\n\u001b[1;32m   1515\u001b[0m \u001b[38;5;66;03m# If we don't have any hooks, we want to skip the rest of the logic in\u001b[39;00m\n\u001b[1;32m   1516\u001b[0m \u001b[38;5;66;03m# this function, and just call forward.\u001b[39;00m\n\u001b[1;32m   1517\u001b[0m \u001b[38;5;28;01mif\u001b[39;00m \u001b[38;5;129;01mnot\u001b[39;00m (\u001b[38;5;28mself\u001b[39m\u001b[38;5;241m.\u001b[39m_backward_hooks \u001b[38;5;129;01mor\u001b[39;00m \u001b[38;5;28mself\u001b[39m\u001b[38;5;241m.\u001b[39m_backward_pre_hooks \u001b[38;5;129;01mor\u001b[39;00m \u001b[38;5;28mself\u001b[39m\u001b[38;5;241m.\u001b[39m_forward_hooks \u001b[38;5;129;01mor\u001b[39;00m \u001b[38;5;28mself\u001b[39m\u001b[38;5;241m.\u001b[39m_forward_pre_hooks\n\u001b[1;32m   1518\u001b[0m         \u001b[38;5;129;01mor\u001b[39;00m _global_backward_pre_hooks \u001b[38;5;129;01mor\u001b[39;00m _global_backward_hooks\n\u001b[1;32m   1519\u001b[0m         \u001b[38;5;129;01mor\u001b[39;00m _global_forward_hooks \u001b[38;5;129;01mor\u001b[39;00m _global_forward_pre_hooks):\n\u001b[0;32m-> 1520\u001b[0m     \u001b[38;5;28;01mreturn\u001b[39;00m \u001b[43mforward_call\u001b[49m\u001b[43m(\u001b[49m\u001b[38;5;241;43m*\u001b[39;49m\u001b[43margs\u001b[49m\u001b[43m,\u001b[49m\u001b[43m \u001b[49m\u001b[38;5;241;43m*\u001b[39;49m\u001b[38;5;241;43m*\u001b[39;49m\u001b[43mkwargs\u001b[49m\u001b[43m)\u001b[49m\n\u001b[1;32m   1522\u001b[0m \u001b[38;5;28;01mtry\u001b[39;00m:\n\u001b[1;32m   1523\u001b[0m     result \u001b[38;5;241m=\u001b[39m \u001b[38;5;28;01mNone\u001b[39;00m\n",
      "Cell \u001b[0;32mIn[12], line 33\u001b[0m, in \u001b[0;36mDeepSet.forward\u001b[0;34m(self, pfs_pad, pfs_mask)\u001b[0m\n\u001b[1;32m     31\u001b[0m \u001b[38;5;28;01mdef\u001b[39;00m \u001b[38;5;21mforward\u001b[39m(\u001b[38;5;28mself\u001b[39m, pfs_pad, pfs_mask):\n\u001b[1;32m     32\u001b[0m     pfs_mask \u001b[38;5;241m=\u001b[39m torch\u001b[38;5;241m.\u001b[39munsqueeze(pfs_mask, axis\u001b[38;5;241m=\u001b[39m\u001b[38;5;241m-\u001b[39m\u001b[38;5;241m1\u001b[39m)\n\u001b[0;32m---> 33\u001b[0m     pf_encoded \u001b[38;5;241m=\u001b[39m \u001b[38;5;28mself\u001b[39m\u001b[38;5;241m.\u001b[39mact_obj(\u001b[38;5;28;43mself\u001b[39;49m\u001b[38;5;241;43m.\u001b[39;49m\u001b[43mnn_pf_embedding\u001b[49m\u001b[43m(\u001b[49m\u001b[43mpfs_pad\u001b[49m\u001b[43m)\u001b[49m)\u001b[38;5;241m*\u001b[39mpfs_mask\n\u001b[1;32m     34\u001b[0m     num_pfs \u001b[38;5;241m=\u001b[39m torch\u001b[38;5;241m.\u001b[39msum(pfs_mask, axis\u001b[38;5;241m=\u001b[39m\u001b[38;5;241m1\u001b[39m)\n\u001b[1;32m     35\u001b[0m     jet_encoded1 \u001b[38;5;241m=\u001b[39m \u001b[38;5;28mself\u001b[39m\u001b[38;5;241m.\u001b[39mact_obj(torch\u001b[38;5;241m.\u001b[39msum(pf_encoded, axis\u001b[38;5;241m=\u001b[39m\u001b[38;5;241m1\u001b[39m)\u001b[38;5;241m/\u001b[39mnum_pfs)\n",
      "File \u001b[0;32m/opt/conda/lib/python3.10/site-packages/torch/nn/modules/module.py:1511\u001b[0m, in \u001b[0;36mModule._wrapped_call_impl\u001b[0;34m(self, *args, **kwargs)\u001b[0m\n\u001b[1;32m   1509\u001b[0m     \u001b[38;5;28;01mreturn\u001b[39;00m \u001b[38;5;28mself\u001b[39m\u001b[38;5;241m.\u001b[39m_compiled_call_impl(\u001b[38;5;241m*\u001b[39margs, \u001b[38;5;241m*\u001b[39m\u001b[38;5;241m*\u001b[39mkwargs)  \u001b[38;5;66;03m# type: ignore[misc]\u001b[39;00m\n\u001b[1;32m   1510\u001b[0m \u001b[38;5;28;01melse\u001b[39;00m:\n\u001b[0;32m-> 1511\u001b[0m     \u001b[38;5;28;01mreturn\u001b[39;00m \u001b[38;5;28;43mself\u001b[39;49m\u001b[38;5;241;43m.\u001b[39;49m\u001b[43m_call_impl\u001b[49m\u001b[43m(\u001b[49m\u001b[38;5;241;43m*\u001b[39;49m\u001b[43margs\u001b[49m\u001b[43m,\u001b[49m\u001b[43m \u001b[49m\u001b[38;5;241;43m*\u001b[39;49m\u001b[38;5;241;43m*\u001b[39;49m\u001b[43mkwargs\u001b[49m\u001b[43m)\u001b[49m\n",
      "File \u001b[0;32m/opt/conda/lib/python3.10/site-packages/torch/nn/modules/module.py:1520\u001b[0m, in \u001b[0;36mModule._call_impl\u001b[0;34m(self, *args, **kwargs)\u001b[0m\n\u001b[1;32m   1515\u001b[0m \u001b[38;5;66;03m# If we don't have any hooks, we want to skip the rest of the logic in\u001b[39;00m\n\u001b[1;32m   1516\u001b[0m \u001b[38;5;66;03m# this function, and just call forward.\u001b[39;00m\n\u001b[1;32m   1517\u001b[0m \u001b[38;5;28;01mif\u001b[39;00m \u001b[38;5;129;01mnot\u001b[39;00m (\u001b[38;5;28mself\u001b[39m\u001b[38;5;241m.\u001b[39m_backward_hooks \u001b[38;5;129;01mor\u001b[39;00m \u001b[38;5;28mself\u001b[39m\u001b[38;5;241m.\u001b[39m_backward_pre_hooks \u001b[38;5;129;01mor\u001b[39;00m \u001b[38;5;28mself\u001b[39m\u001b[38;5;241m.\u001b[39m_forward_hooks \u001b[38;5;129;01mor\u001b[39;00m \u001b[38;5;28mself\u001b[39m\u001b[38;5;241m.\u001b[39m_forward_pre_hooks\n\u001b[1;32m   1518\u001b[0m         \u001b[38;5;129;01mor\u001b[39;00m _global_backward_pre_hooks \u001b[38;5;129;01mor\u001b[39;00m _global_backward_hooks\n\u001b[1;32m   1519\u001b[0m         \u001b[38;5;129;01mor\u001b[39;00m _global_forward_hooks \u001b[38;5;129;01mor\u001b[39;00m _global_forward_pre_hooks):\n\u001b[0;32m-> 1520\u001b[0m     \u001b[38;5;28;01mreturn\u001b[39;00m \u001b[43mforward_call\u001b[49m\u001b[43m(\u001b[49m\u001b[38;5;241;43m*\u001b[39;49m\u001b[43margs\u001b[49m\u001b[43m,\u001b[49m\u001b[43m \u001b[49m\u001b[38;5;241;43m*\u001b[39;49m\u001b[38;5;241;43m*\u001b[39;49m\u001b[43mkwargs\u001b[49m\u001b[43m)\u001b[49m\n\u001b[1;32m   1522\u001b[0m \u001b[38;5;28;01mtry\u001b[39;00m:\n\u001b[1;32m   1523\u001b[0m     result \u001b[38;5;241m=\u001b[39m \u001b[38;5;28;01mNone\u001b[39;00m\n",
      "File \u001b[0;32m/opt/conda/lib/python3.10/site-packages/torch/nn/modules/container.py:217\u001b[0m, in \u001b[0;36mSequential.forward\u001b[0;34m(self, input)\u001b[0m\n\u001b[1;32m    215\u001b[0m \u001b[38;5;28;01mdef\u001b[39;00m \u001b[38;5;21mforward\u001b[39m(\u001b[38;5;28mself\u001b[39m, \u001b[38;5;28minput\u001b[39m):\n\u001b[1;32m    216\u001b[0m     \u001b[38;5;28;01mfor\u001b[39;00m module \u001b[38;5;129;01min\u001b[39;00m \u001b[38;5;28mself\u001b[39m:\n\u001b[0;32m--> 217\u001b[0m         \u001b[38;5;28minput\u001b[39m \u001b[38;5;241m=\u001b[39m \u001b[43mmodule\u001b[49m\u001b[43m(\u001b[49m\u001b[38;5;28;43minput\u001b[39;49m\u001b[43m)\u001b[49m\n\u001b[1;32m    218\u001b[0m     \u001b[38;5;28;01mreturn\u001b[39;00m \u001b[38;5;28minput\u001b[39m\n",
      "File \u001b[0;32m/opt/conda/lib/python3.10/site-packages/torch/nn/modules/module.py:1511\u001b[0m, in \u001b[0;36mModule._wrapped_call_impl\u001b[0;34m(self, *args, **kwargs)\u001b[0m\n\u001b[1;32m   1509\u001b[0m     \u001b[38;5;28;01mreturn\u001b[39;00m \u001b[38;5;28mself\u001b[39m\u001b[38;5;241m.\u001b[39m_compiled_call_impl(\u001b[38;5;241m*\u001b[39margs, \u001b[38;5;241m*\u001b[39m\u001b[38;5;241m*\u001b[39mkwargs)  \u001b[38;5;66;03m# type: ignore[misc]\u001b[39;00m\n\u001b[1;32m   1510\u001b[0m \u001b[38;5;28;01melse\u001b[39;00m:\n\u001b[0;32m-> 1511\u001b[0m     \u001b[38;5;28;01mreturn\u001b[39;00m \u001b[38;5;28;43mself\u001b[39;49m\u001b[38;5;241;43m.\u001b[39;49m\u001b[43m_call_impl\u001b[49m\u001b[43m(\u001b[49m\u001b[38;5;241;43m*\u001b[39;49m\u001b[43margs\u001b[49m\u001b[43m,\u001b[49m\u001b[43m \u001b[49m\u001b[38;5;241;43m*\u001b[39;49m\u001b[38;5;241;43m*\u001b[39;49m\u001b[43mkwargs\u001b[49m\u001b[43m)\u001b[49m\n",
      "File \u001b[0;32m/opt/conda/lib/python3.10/site-packages/torch/nn/modules/module.py:1520\u001b[0m, in \u001b[0;36mModule._call_impl\u001b[0;34m(self, *args, **kwargs)\u001b[0m\n\u001b[1;32m   1515\u001b[0m \u001b[38;5;66;03m# If we don't have any hooks, we want to skip the rest of the logic in\u001b[39;00m\n\u001b[1;32m   1516\u001b[0m \u001b[38;5;66;03m# this function, and just call forward.\u001b[39;00m\n\u001b[1;32m   1517\u001b[0m \u001b[38;5;28;01mif\u001b[39;00m \u001b[38;5;129;01mnot\u001b[39;00m (\u001b[38;5;28mself\u001b[39m\u001b[38;5;241m.\u001b[39m_backward_hooks \u001b[38;5;129;01mor\u001b[39;00m \u001b[38;5;28mself\u001b[39m\u001b[38;5;241m.\u001b[39m_backward_pre_hooks \u001b[38;5;129;01mor\u001b[39;00m \u001b[38;5;28mself\u001b[39m\u001b[38;5;241m.\u001b[39m_forward_hooks \u001b[38;5;129;01mor\u001b[39;00m \u001b[38;5;28mself\u001b[39m\u001b[38;5;241m.\u001b[39m_forward_pre_hooks\n\u001b[1;32m   1518\u001b[0m         \u001b[38;5;129;01mor\u001b[39;00m _global_backward_pre_hooks \u001b[38;5;129;01mor\u001b[39;00m _global_backward_hooks\n\u001b[1;32m   1519\u001b[0m         \u001b[38;5;129;01mor\u001b[39;00m _global_forward_hooks \u001b[38;5;129;01mor\u001b[39;00m _global_forward_pre_hooks):\n\u001b[0;32m-> 1520\u001b[0m     \u001b[38;5;28;01mreturn\u001b[39;00m \u001b[43mforward_call\u001b[49m\u001b[43m(\u001b[49m\u001b[38;5;241;43m*\u001b[39;49m\u001b[43margs\u001b[49m\u001b[43m,\u001b[49m\u001b[43m \u001b[49m\u001b[38;5;241;43m*\u001b[39;49m\u001b[38;5;241;43m*\u001b[39;49m\u001b[43mkwargs\u001b[49m\u001b[43m)\u001b[49m\n\u001b[1;32m   1522\u001b[0m \u001b[38;5;28;01mtry\u001b[39;00m:\n\u001b[1;32m   1523\u001b[0m     result \u001b[38;5;241m=\u001b[39m \u001b[38;5;28;01mNone\u001b[39;00m\n",
      "File \u001b[0;32m/opt/conda/lib/python3.10/site-packages/torch/nn/modules/linear.py:116\u001b[0m, in \u001b[0;36mLinear.forward\u001b[0;34m(self, input)\u001b[0m\n\u001b[1;32m    115\u001b[0m \u001b[38;5;28;01mdef\u001b[39;00m \u001b[38;5;21mforward\u001b[39m(\u001b[38;5;28mself\u001b[39m, \u001b[38;5;28minput\u001b[39m: Tensor) \u001b[38;5;241m-\u001b[39m\u001b[38;5;241m>\u001b[39m Tensor:\n\u001b[0;32m--> 116\u001b[0m     \u001b[38;5;28;01mreturn\u001b[39;00m \u001b[43mF\u001b[49m\u001b[38;5;241;43m.\u001b[39;49m\u001b[43mlinear\u001b[49m\u001b[43m(\u001b[49m\u001b[38;5;28;43minput\u001b[39;49m\u001b[43m,\u001b[49m\u001b[43m \u001b[49m\u001b[38;5;28;43mself\u001b[39;49m\u001b[38;5;241;43m.\u001b[39;49m\u001b[43mweight\u001b[49m\u001b[43m,\u001b[49m\u001b[43m \u001b[49m\u001b[38;5;28;43mself\u001b[39;49m\u001b[38;5;241;43m.\u001b[39;49m\u001b[43mbias\u001b[49m\u001b[43m)\u001b[49m\n",
      "\u001b[0;31mKeyboardInterrupt\u001b[0m: "
     ]
    }
   ],
   "source": [
    "#Train pt regression head, predicts one value: y=log(ptgen/ptreco)\n",
    "model_dm = DeepSet(16).to(device)\n",
    "optimizer = torch.optim.AdamW(model_dm.parameters(), lr=1e-3)\n",
    "\n",
    "losses_train = []\n",
    "losses_val = []\n",
    "\n",
    "for iepoch in range(20):\n",
    "    loss_train, _, _ = model_loop(model_dm, optimizer, dl_sig_train, device, is_train=True, kind=\"dm_multiclass\")\n",
    "    loss_val, pred_val_dm, true_val_dm = model_loop(model_dm, optimizer, dl_sig_val, device, is_train=False, kind=\"dm_multiclass\")\n",
    "    print(\"{} L={:.2f}/{:.2f}\".format(iepoch, loss_train, loss_val))\n",
    "    losses_train.append(loss_train)\n",
    "    losses_val.append(loss_val)"
   ]
  },
  {
   "cell_type": "code",
   "execution_count": 15,
   "id": "298c93f7-a58f-4397-a307-d60cc1451913",
   "metadata": {},
   "outputs": [
    {
     "data": {
      "text/plain": [
       "<matplotlib.legend.Legend at 0x7f8e5b754220>"
      ]
     },
     "execution_count": 15,
     "metadata": {},
     "output_type": "execute_result"
    },
    {
     "data": {
      "image/png": "[encoded data removed]",
      "text/plain": [
       "<Figure size 640x480 with 1 Axes>"
      ]
     },
     "metadata": {},
     "output_type": "display_data"
    }
   ],
   "source": [
    "plt.figure()\n",
    "plt.plot(losses_train, label=\"train\")\n",
    "plt.plot(losses_val, label=\"validation\")\n",
    "#plt.ylim(losses_val[-1]*0.5, losses_val[-1]*1.5)\n",
    "plt.xlabel(\"epoch\")\n",
    "plt.ylabel(\"loss, decay mode classification\")\n",
    "plt.legend(loc=\"best\")"
   ]
  },
  {
   "cell_type": "code",
   "execution_count": null,
   "id": "4083a464-b07f-4a14-8fc4-503c5d2dfaa1",
   "metadata": {},
   "outputs": [],
   "source": []
  }
 ],
 "metadata": {
  "kernelspec": {
   "display_name": "Python 3 (ipykernel)",
   "language": "python",
   "name": "python3"
  },
  "language_info": {
   "codemirror_mode": {
    "name": "ipython",
    "version": 3
   },
   "file_extension": ".py",
   "mimetype": "text/x-python",
   "name": "python",
   "nbconvert_exporter": "python",
   "pygments_lexer": "ipython3",
   "version": "3.10.13"
  }
 },
 "nbformat": 4,
 "nbformat_minor": 5
}

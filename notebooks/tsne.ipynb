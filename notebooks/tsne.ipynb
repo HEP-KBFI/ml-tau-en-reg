{
 "cells": [
  {
   "cell_type": "code",
   "execution_count": null,
   "id": "b069fbd8-9b5d-4f4d-94d9-91d758eda977",
   "metadata": {},
   "outputs": [],
   "source": [
    "import pickle\n",
    "import numpy as np\n",
    "import matplotlib.pyplot as plt\n",
    "from sklearn.manifold import TSNE"
   ]
  },
  {
   "cell_type": "code",
   "execution_count": null,
   "id": "828438dc-1fbf-4245-963d-951fb5182dec",
   "metadata": {},
   "outputs": [],
   "source": [
    "dm_labels = [\n",
    "    r\"$h^{\\pm}$\",\n",
    "    r\"$h^{\\pm}\\pi^0$\",\n",
    "    r'$h^\\pm+\\geq2\\pi^0$',\n",
    "    r\"$h^{\\pm}h^{\\mp}h^{\\pm}$\",\n",
    "    r\"$h^{\\pm}h^{\\mp}h^{\\pm}+\\geq\\pi^0$\",\n",
    "    \"Rare\",\n",
    "]"
   ]
  },
  {
   "cell_type": "markdown",
   "id": "88a13abf-1e9c-48fe-916e-c852e8a85654",
   "metadata": {},
   "source": [
    "```\n",
    "#!/bin/bash\n",
    "\n",
    "rm -Rf training-outputs/*\n",
    "\n",
    "#From scratch\n",
    "singularity exec --env PYTHONPATH=`pwd`:`pwd`/enreg/omnijet_alpha/gabbro ~/HEP-KBFI/singularity/pytorch.simg.2 python3 enreg/scripts/trainModel.py \\\n",
    "    output_dir=training-outputs/from_scratch trainSize=1e5 fraction_valid=0.1 training.num_epochs=2 model_type=OmniParT \\\n",
    "    training_type=dm_multiclass models.OmniParT.version=from_scratch\n",
    "mv batch_*.pkl embeds/from_scratch/\n",
    "\n",
    "#Fixed backbone\n",
    "singularity exec --env PYTHONPATH=`pwd`:`pwd`/enreg/omnijet_alpha/gabbro ~/HEP-KBFI/singularity/pytorch.simg.2 python3 enreg/scripts/trainModel.py \\\n",
    "    output_dir=training-outputs/fixed_backbone trainSize=1e5 fraction_valid=0.1 training.num_epochs=2 model_type=OmniParT \\\n",
    "    training_type=dm_multiclass models.OmniParT.version=fixed_backbone models.OmniParT.bb_path=weights/OmniJet_generative_model_FiduciaryCagoule_254.ckpt\n",
    "mv batch_*.pkl embeds/fixed_backbone/\n",
    "\n",
    "singularity exec --env PYTHONPATH=`pwd`:`pwd`/enreg/omnijet_alpha/gabbro ~/HEP-KBFI/singularity/pytorch.simg.2 python3 enreg/scripts/trainModel.py \\\n",
    "    output_dir=training-outputs/finetuned_finetuned_binary_classification trainSize=1e5 fraction_valid=0.1 training.num_epochs=2 model_type=OmniParT \\\n",
    "    training_type=dm_multiclass models.OmniParT.version=fixed_backbone \\\n",
    "    models.OmniParT.bb_path=weights/trainfrac_1e6/binary_classification/OmniParT_fine_tuning/model_best.pt\n",
    "mv batch_*.pkl embeds/finetuned_binary_classification/\n",
    "\n",
    "singularity exec --env PYTHONPATH=`pwd`:`pwd`/enreg/omnijet_alpha/gabbro ~/HEP-KBFI/singularity/pytorch.simg.2 python3 enreg/scripts/trainModel.py \\\n",
    "    output_dir=training-outputs/finetuned_dm_multiclass trainSize=1e5 fraction_valid=0.1 training.num_epochs=2 model_type=OmniParT \\\n",
    "    training_type=dm_multiclass models.OmniParT.version=fixed_backbone \\\n",
    "    models.OmniParT.bb_path=weights/trainfrac_1e6/dm_multiclass/OmniParT_fine_tuning/model_best.pt\n",
    "mv batch_*.pkl embeds/finetuned_dm_multiclass/\n",
    "\n",
    "singularity exec --env PYTHONPATH=`pwd`:`pwd`/enreg/omnijet_alpha/gabbro ~/HEP-KBFI/singularity/pytorch.simg.2 python3 enreg/scripts/trainModel.py \\\n",
    "    output_dir=training-outputs/finetuned_jet_regression trainSize=1e5 fraction_valid=0.1 training.num_epochs=2 model_type=OmniParT \\\n",
    "    training_type=dm_multiclass models.OmniParT.version=fixed_backbone \\\n",
    "    models.OmniParT.bb_path=weights/trainfrac_1e6/jet_regression/OmniParT_fine_tuning/model_best.pt\n",
    "mv batch_*.pkl embeds/finetuned_jet_regression/\n",
    "```"
   ]
  },
  {
   "cell_type": "code",
   "execution_count": null,
   "id": "137b3efc-29a3-4502-a74d-b9c14101db22",
   "metadata": {},
   "outputs": [],
   "source": [
    "d1 = pickle.load(open(\"../embeds/from_scratch/batch_0.pkl\", \"rb\"))\n",
    "d2 = pickle.load(open(\"../embeds/fixed_backbone/batch_0.pkl\", \"rb\"))\n",
    "d3 = pickle.load(open(\"../embeds/finetuned_dm_multiclass/batch_0.pkl\", \"rb\"))\n",
    "d4 = pickle.load(open(\"../embeds/finetuned_jet_regression/batch_0.pkl\", \"rb\"))\n",
    "d5 = pickle.load(open(\"../embeds/finetuned_binary_classification/batch_0.pkl\", \"rb\"))"
   ]
  },
  {
   "cell_type": "code",
   "execution_count": null,
   "id": "6f4ea8b6-d8f9-4558-8faf-11c81e73ab6b",
   "metadata": {},
   "outputs": [],
   "source": [
    "d1e = d1[\"embeds\"]\n",
    "d2e = d2[\"embeds\"]\n",
    "d3e = d3[\"embeds\"]\n",
    "d4e = d4[\"embeds\"]\n",
    "d5e = d5[\"embeds\"]"
   ]
  },
  {
   "cell_type": "code",
   "execution_count": null,
   "id": "4ca5b469-be04-48b7-af0a-7d379f9797a1",
   "metadata": {},
   "outputs": [],
   "source": [
    "d1e = d1e.reshape((d1e.shape[0], d1e.shape[1]*d1e.shape[2]))\n",
    "d2e = d2e.reshape((d2e.shape[0], d2e.shape[1]*d2e.shape[2]))\n",
    "d3e = d3e.reshape((d3e.shape[0], d3e.shape[1]*d3e.shape[2]))\n",
    "d4e = d4e.reshape((d4e.shape[0], d4e.shape[1]*d4e.shape[2]))\n",
    "d5e = d5e.reshape((d5e.shape[0], d5e.shape[1]*d5e.shape[2]))"
   ]
  },
  {
   "cell_type": "code",
   "execution_count": null,
   "id": "1f63a93c-3cf2-4a4f-8370-fd0a668ea89d",
   "metadata": {},
   "outputs": [],
   "source": [
    "d1e.shape, d2e.shape, d3e.shape, d4e.shape, d5e.shape"
   ]
  },
  {
   "cell_type": "code",
   "execution_count": null,
   "id": "7c37839e-8cd9-46d8-af8f-abc842039f27",
   "metadata": {},
   "outputs": [],
   "source": [
    "plt.figure(figsize=(4,4))\n",
    "b = np.linspace(-5, 5, 500)\n",
    "plt.hist(d1e.flatten(), bins=b, histtype=\"step\");\n",
    "plt.hist(d2e.flatten(), bins=b, histtype=\"step\");\n",
    "plt.hist(d3e.flatten(), bins=b, histtype=\"step\");\n",
    "plt.hist(d4e.flatten(), bins=b, histtype=\"step\");\n",
    "plt.hist(d5e.flatten(), bins=b, histtype=\"step\");\n",
    "plt.yscale('log')"
   ]
  },
  {
   "cell_type": "code",
   "execution_count": null,
   "id": "20786949-5890-4f36-b5d2-5fb49781a9c9",
   "metadata": {},
   "outputs": [],
   "source": [
    "plt.figure(figsize=(5, 5))\n",
    "plt.scatter(d1e[:, 0], d1e[:, 1], marker=\".\", s=d1[\"reco_jet_pt\"]/5, alpha=0.5)\n",
    "plt.scatter(d2e[:, 0], d2e[:, 1], marker=\".\", s=d2[\"reco_jet_pt\"]/5, alpha=0.5)\n",
    "plt.scatter(d3e[:, 0], d3e[:, 1], marker=\".\", s=d3[\"reco_jet_pt\"]/5, alpha=0.5)\n",
    "plt.scatter(d4e[:, 0], d4e[:, 1], marker=\".\", s=d4[\"reco_jet_pt\"]/5, alpha=0.5)\n",
    "plt.scatter(d5e[:, 0], d5e[:, 1], marker=\".\", s=d5[\"reco_jet_pt\"]/5, alpha=0.5)"
   ]
  },
  {
   "cell_type": "code",
   "execution_count": null,
   "id": "8b18abc6-6f35-4e57-a483-99959563b15b",
   "metadata": {},
   "outputs": [],
   "source": [
    "d3[\"binary_classification\"]"
   ]
  },
  {
   "cell_type": "code",
   "execution_count": null,
   "id": "93cd73d2-5edc-4bec-9335-8169abe431b9",
   "metadata": {},
   "outputs": [],
   "source": [
    "params = {\"random_state\": 1, \"verbose\": 0, \"perplexity\": 40}\n",
    "\n",
    "lim = 90\n",
    "msk = d1[\"binary_classification\"]==1\n",
    "tsne = TSNE(**params)\n",
    "tsne_output1 = tsne.fit_transform(d1e[msk])\n",
    "\n",
    "tsne = TSNE(**params)\n",
    "tsne_output2 = tsne.fit_transform(d2e[msk])\n",
    "\n",
    "tsne = TSNE(**params)\n",
    "tsne_output3 = tsne.fit_transform(d3e[msk])\n",
    "\n",
    "tsne = TSNE(**params)\n",
    "tsne_output4 = tsne.fit_transform(d4e[msk])\n",
    "\n",
    "tsne = TSNE(**params)\n",
    "tsne_output5 = tsne.fit_transform(d5e[msk])"
   ]
  },
  {
   "cell_type": "code",
   "execution_count": null,
   "id": "78b76cb8-7179-4a8a-bb82-b3cf3f9d7bdf",
   "metadata": {},
   "outputs": [],
   "source": [
    "plt.figure(figsize=(5, 5))\n",
    "\n",
    "colors = plt.cm.Paired(np.arange(6))\n",
    "for dm in np.unique(d3[\"dm_multiclass\"][msk]):\n",
    "    dm_msk = d3[\"dm_multiclass\"][msk] == dm\n",
    "    plt.scatter(tsne_output1[:, 0][dm_msk], tsne_output1[:, 1][dm_msk],\n",
    "                marker=\".\",\n",
    "                s=d3[\"reco_jet_pt\"][msk][dm_msk]/2,\n",
    "                alpha=0.5,\n",
    "                color=colors[dm], label=dm_labels[dm])\n",
    "plt.title(\"uninitialized\")\n",
    "plt.xlim(-lim, lim)\n",
    "plt.ylim(-lim, lim)\n",
    "plt.xticks([], [])\n",
    "plt.yticks([], [])\n",
    "plt.legend(ncols=2, loc=1)\n",
    "plt.savefig(\"tsne_uninitialized.pdf\", bbox_inches=\"tight\")"
   ]
  },
  {
   "cell_type": "code",
   "execution_count": null,
   "id": "ff5cf400-a5a0-4ea5-8d84-d9705798619a",
   "metadata": {},
   "outputs": [],
   "source": [
    "plt.figure(figsize=(5, 5))\n",
    "\n",
    "colors = plt.cm.Paired(np.arange(6))\n",
    "for dm in np.unique(d3[\"dm_multiclass\"][msk]):\n",
    "    dm_msk = d3[\"dm_multiclass\"][msk] == dm\n",
    "    plt.scatter(tsne_output2[:, 0][dm_msk], tsne_output2[:, 1][dm_msk],\n",
    "                marker=\".\",\n",
    "                s=d3[\"reco_jet_pt\"][msk][dm_msk]/2,\n",
    "                alpha=0.5,\n",
    "                color=colors[dm], label=dm_labels[dm])\n",
    "plt.title(\"pre-trained\")\n",
    "plt.xlim(-lim, lim)\n",
    "plt.ylim(-lim, lim)\n",
    "plt.xticks([], [])\n",
    "plt.yticks([], [])\n",
    "plt.legend(ncols=2, loc=1)\n",
    "plt.savefig(\"tsne_pretrained.pdf\", bbox_inches=\"tight\")"
   ]
  },
  {
   "cell_type": "code",
   "execution_count": null,
   "id": "02d27355-5dae-440a-bba0-24fbf0dd75e7",
   "metadata": {},
   "outputs": [],
   "source": [
    "plt.figure(figsize=(5, 5))\n",
    "\n",
    "colors = plt.cm.Paired(np.arange(6))\n",
    "for dm in np.unique(d3[\"dm_multiclass\"][msk]):\n",
    "    dm_msk = d3[\"dm_multiclass\"][msk] == dm\n",
    "    plt.scatter(-tsne_output3[:, 0][dm_msk], -tsne_output3[:, 1][dm_msk],\n",
    "                marker=\".\",\n",
    "                s=d3[\"reco_jet_pt\"][msk][dm_msk]/2,\n",
    "                alpha=0.5,\n",
    "                color=colors[dm], label=dm_labels[dm])\n",
    "plt.title(\"fine-tuned, decay mode\")\n",
    "plt.xlim(-lim, lim)\n",
    "plt.ylim(-lim, lim)\n",
    "plt.xticks([], [])\n",
    "plt.yticks([], [])\n",
    "plt.legend(ncols=2, loc=1)\n",
    "plt.savefig(\"tsne_finetuned.pdf\", bbox_inches=\"tight\")"
   ]
  },
  {
   "cell_type": "code",
   "execution_count": null,
   "id": "b0f412e4-0677-4dad-a3ac-d76bf82b22f7",
   "metadata": {},
   "outputs": [],
   "source": []
  }
 ],
 "metadata": {
  "kernelspec": {
   "display_name": "Python 3 (ipykernel)",
   "language": "python",
   "name": "python3"
  },
  "language_info": {
   "codemirror_mode": {
    "name": "ipython",
    "version": 3
   },
   "file_extension": ".py",
   "mimetype": "text/x-python",
   "name": "python",
   "nbconvert_exporter": "python",
   "pygments_lexer": "ipython3",
   "version": "3.11.10"
  }
 },
 "nbformat": 4,
 "nbformat_minor": 5
}
